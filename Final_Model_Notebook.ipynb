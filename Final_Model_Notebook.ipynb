{
 "cells": [
  {
   "cell_type": "markdown",
   "metadata": {},
   "source": [
    "Import Things needed for the project"
   ]
  },
  {
   "cell_type": "code",
   "execution_count": 3,
   "metadata": {
    "colab": {},
    "colab_type": "code",
    "executionInfo": {
     "elapsed": 9546,
     "status": "ok",
     "timestamp": 1593038223272,
     "user": {
      "displayName": "Evidence Nwangwa",
      "photoUrl": "",
      "userId": "04661181054044885962"
     },
     "user_tz": 420
    },
    "id": "e_mzKQGvf2Eo"
   },
   "outputs": [],
   "source": [
    "%%capture\n",
    "import pandas as pd\n",
    "!pip install vaderSentiment\n",
    "import vaderSentiment"
   ]
  },
  {
   "cell_type": "markdown",
   "metadata": {
    "colab_type": "text",
    "id": "QKSiOqRJiaWU"
   },
   "source": [
    "**Loading the data**"
   ]
  },
  {
   "cell_type": "code",
   "execution_count": 23,
   "metadata": {
    "colab": {
     "base_uri": "https://localhost:8080/",
     "height": 206
    },
    "colab_type": "code",
    "executionInfo": {
     "elapsed": 12737,
     "status": "ok",
     "timestamp": 1593038801172,
     "user": {
      "displayName": "Evidence Nwangwa",
      "photoUrl": "",
      "userId": "04661181054044885962"
     },
     "user_tz": 420
    },
    "id": "mYXqdup12tYN",
    "outputId": "7a8bc651-9e89-4ed5-ab42-b102a1dabf4a"
   },
   "outputs": [
    {
     "data": {
      "text/html": [
       "<div>\n",
       "<style scoped>\n",
       "    .dataframe tbody tr th:only-of-type {\n",
       "        vertical-align: middle;\n",
       "    }\n",
       "\n",
       "    .dataframe tbody tr th {\n",
       "        vertical-align: top;\n",
       "    }\n",
       "\n",
       "    .dataframe thead th {\n",
       "        text-align: right;\n",
       "    }\n",
       "</style>\n",
       "<table border=\"1\" class=\"dataframe\">\n",
       "  <thead>\n",
       "    <tr style=\"text-align: right;\">\n",
       "      <th></th>\n",
       "      <th>Unnamed: 0</th>\n",
       "      <th>hacker_name</th>\n",
       "      <th>hacker_comment</th>\n",
       "      <th>comment_saltiness</th>\n",
       "      <th>hacker_score</th>\n",
       "    </tr>\n",
       "  </thead>\n",
       "  <tbody>\n",
       "    <tr>\n",
       "      <th>0</th>\n",
       "      <td>0</td>\n",
       "      <td>DanBC</td>\n",
       "      <td>Drug use has clear links with violence althoug...</td>\n",
       "      <td>9996</td>\n",
       "      <td>247.11</td>\n",
       "    </tr>\n",
       "    <tr>\n",
       "      <th>1</th>\n",
       "      <td>1</td>\n",
       "      <td>waps</td>\n",
       "      <td>You failed to explain why the Sana'a manuscrip...</td>\n",
       "      <td>9996</td>\n",
       "      <td>-684.35</td>\n",
       "    </tr>\n",
       "    <tr>\n",
       "      <th>2</th>\n",
       "      <td>2</td>\n",
       "      <td>AnthonyMouse</td>\n",
       "      <td>How do you stop another oklahoma cityI think t...</td>\n",
       "      <td>9995</td>\n",
       "      <td>507.01</td>\n",
       "    </tr>\n",
       "    <tr>\n",
       "      <th>3</th>\n",
       "      <td>3</td>\n",
       "      <td>michaelochurch</td>\n",
       "      <td>Can you think of any constructive ways forward...</td>\n",
       "      <td>9994</td>\n",
       "      <td>-932.92</td>\n",
       "    </tr>\n",
       "    <tr>\n",
       "      <th>4</th>\n",
       "      <td>4</td>\n",
       "      <td>paulhauggis</td>\n",
       "      <td>These sorts of articles do nothing to help the...</td>\n",
       "      <td>9994</td>\n",
       "      <td>-832.11</td>\n",
       "    </tr>\n",
       "  </tbody>\n",
       "</table>\n",
       "</div>"
      ],
      "text/plain": [
       "   Unnamed: 0     hacker_name  \\\n",
       "0           0           DanBC   \n",
       "1           1            waps   \n",
       "2           2    AnthonyMouse   \n",
       "3           3  michaelochurch   \n",
       "4           4     paulhauggis   \n",
       "\n",
       "                                      hacker_comment  comment_saltiness  \\\n",
       "0  Drug use has clear links with violence althoug...               9996   \n",
       "1  You failed to explain why the Sana'a manuscrip...               9996   \n",
       "2  How do you stop another oklahoma cityI think t...               9995   \n",
       "3  Can you think of any constructive ways forward...               9994   \n",
       "4  These sorts of articles do nothing to help the...               9994   \n",
       "\n",
       "   hacker_score  \n",
       "0        247.11  \n",
       "1       -684.35  \n",
       "2        507.01  \n",
       "3       -932.92  \n",
       "4       -832.11  "
      ]
     },
     "execution_count": 23,
     "metadata": {},
     "output_type": "execute_result"
    }
   ],
   "source": [
    "cleaned = pd.read_csv(\"https://raw.githubusercontent.com/buildweek-saltiest-hacker/data-engineering-api/master/hacker-comments.csv\")\n",
    "\n",
    "cleaned.head()"
   ]
  },
  {
   "cell_type": "markdown",
   "metadata": {
    "colab_type": "text",
    "id": "dTrRqyIy2Chs"
   },
   "source": [
    "**Using Vader Sentiment Analysis**"
   ]
  },
  {
   "cell_type": "code",
   "execution_count": 13,
   "metadata": {
    "colab": {},
    "colab_type": "code",
    "executionInfo": {
     "elapsed": 712,
     "status": "ok",
     "timestamp": 1593038266548,
     "user": {
      "displayName": "Evidence Nwangwa",
      "photoUrl": "",
      "userId": "04661181054044885962"
     },
     "user_tz": 420
    },
    "id": "7vna6wDY2SjC"
   },
   "outputs": [],
   "source": [
    "from vaderSentiment.vaderSentiment import SentimentIntensityAnalyzer\n",
    "\n",
    "score = SentimentIntensityAnalyzer()"
   ]
  },
  {
   "cell_type": "markdown",
   "metadata": {
    "colab_type": "text",
    "id": "jrHTdIOl4hDw"
   },
   "source": [
    "Rober Notebook https://github.com/BrokenShell/SaltyHacker/blob/master/nlp.py\n",
    "\n",
    "Vader Documentation\n",
    "\n",
    "https://pypi.org/project/vaderSentiment/"
   ]
  },
  {
   "cell_type": "markdown",
   "metadata": {
    "colab_type": "text",
    "id": "cngsXpBWlHJ4"
   },
   "source": [
    "Creating a the ranking for each comment."
   ]
  },
  {
   "cell_type": "code",
   "execution_count": 26,
   "metadata": {
    "colab": {
     "base_uri": "https://localhost:8080/",
     "height": 206
    },
    "colab_type": "code",
    "executionInfo": {
     "elapsed": 396,
     "status": "ok",
     "timestamp": 1593040562420,
     "user": {
      "displayName": "Evidence Nwangwa",
      "photoUrl": "",
      "userId": "04661181054044885962"
     },
     "user_tz": 420
    },
    "id": "doviW5lji0Dn",
    "outputId": "2e73b742-503d-4958-9500-46656858e59e"
   },
   "outputs": [
    {
     "data": {
      "text/html": [
       "<div>\n",
       "<style scoped>\n",
       "    .dataframe tbody tr th:only-of-type {\n",
       "        vertical-align: middle;\n",
       "    }\n",
       "\n",
       "    .dataframe tbody tr th {\n",
       "        vertical-align: top;\n",
       "    }\n",
       "\n",
       "    .dataframe thead th {\n",
       "        text-align: right;\n",
       "    }\n",
       "</style>\n",
       "<table border=\"1\" class=\"dataframe\">\n",
       "  <thead>\n",
       "    <tr style=\"text-align: right;\">\n",
       "      <th></th>\n",
       "      <th>Name</th>\n",
       "      <th>Comment</th>\n",
       "    </tr>\n",
       "  </thead>\n",
       "  <tbody>\n",
       "    <tr>\n",
       "      <th>0</th>\n",
       "      <td>DanBC</td>\n",
       "      <td>Drug use has clear links with violence althoug...</td>\n",
       "    </tr>\n",
       "    <tr>\n",
       "      <th>1</th>\n",
       "      <td>waps</td>\n",
       "      <td>You failed to explain why the Sana'a manuscrip...</td>\n",
       "    </tr>\n",
       "    <tr>\n",
       "      <th>2</th>\n",
       "      <td>AnthonyMouse</td>\n",
       "      <td>How do you stop another oklahoma cityI think t...</td>\n",
       "    </tr>\n",
       "    <tr>\n",
       "      <th>3</th>\n",
       "      <td>michaelochurch</td>\n",
       "      <td>Can you think of any constructive ways forward...</td>\n",
       "    </tr>\n",
       "    <tr>\n",
       "      <th>4</th>\n",
       "      <td>paulhauggis</td>\n",
       "      <td>These sorts of articles do nothing to help the...</td>\n",
       "    </tr>\n",
       "  </tbody>\n",
       "</table>\n",
       "</div>"
      ],
      "text/plain": [
       "             Name                                            Comment\n",
       "0           DanBC  Drug use has clear links with violence althoug...\n",
       "1            waps  You failed to explain why the Sana'a manuscrip...\n",
       "2    AnthonyMouse  How do you stop another oklahoma cityI think t...\n",
       "3  michaelochurch  Can you think of any constructive ways forward...\n",
       "4     paulhauggis  These sorts of articles do nothing to help the..."
      ]
     },
     "execution_count": 26,
     "metadata": {},
     "output_type": "execute_result"
    }
   ],
   "source": [
    "# creating a new dataframe that just has the information needed\n",
    "\n",
    "text = cleaned['hacker_comment']\n",
    "name = cleaned['hacker_name']\n",
    "\n",
    "salty_hackers = pd.DataFrame({\n",
    "    'Name':name,\n",
    "    'Comment': text\n",
    "})\n",
    "\n",
    "salty_hackers.head()"
   ]
  },
  {
   "cell_type": "code",
   "execution_count": 27,
   "metadata": {
    "colab": {},
    "colab_type": "code",
    "executionInfo": {
     "elapsed": 173106,
     "status": "ok",
     "timestamp": 1593041310109,
     "user": {
      "displayName": "Evidence Nwangwa",
      "photoUrl": "",
      "userId": "04661181054044885962"
     },
     "user_tz": 420
    },
    "id": "TyVZs5M4jwNM"
   },
   "outputs": [],
   "source": [
    "comment = salty_hackers['Comment']\n",
    "\n",
    "ranking = []\n",
    "\n",
    "for i in comment:\n",
    "  scores = score.polarity_scores(i)\n",
    "  final_score = scores['compound']\n",
    "  rounded_score = round(final_score*10, 2)\n",
    "  ranking.append(rounded_score)"
   ]
  },
  {
   "cell_type": "code",
   "execution_count": 28,
   "metadata": {
    "colab": {},
    "colab_type": "code",
    "executionInfo": {
     "elapsed": 1536,
     "status": "ok",
     "timestamp": 1593041315826,
     "user": {
      "displayName": "Evidence Nwangwa",
      "photoUrl": "",
      "userId": "04661181054044885962"
     },
     "user_tz": 420
    },
    "id": "kpqzp4QZn-qC"
   },
   "outputs": [],
   "source": [
    "salty_hackers['comment_ranking'] = ranking"
   ]
  },
  {
   "cell_type": "code",
   "execution_count": 29,
   "metadata": {
    "colab": {
     "base_uri": "https://localhost:8080/",
     "height": 206
    },
    "colab_type": "code",
    "executionInfo": {
     "elapsed": 675,
     "status": "ok",
     "timestamp": 1593041317905,
     "user": {
      "displayName": "Evidence Nwangwa",
      "photoUrl": "",
      "userId": "04661181054044885962"
     },
     "user_tz": 420
    },
    "id": "3k7aDOyVoFFn",
    "outputId": "52eeaa8e-f458-426b-d5eb-74309bd9a6c6"
   },
   "outputs": [
    {
     "data": {
      "text/html": [
       "<div>\n",
       "<style scoped>\n",
       "    .dataframe tbody tr th:only-of-type {\n",
       "        vertical-align: middle;\n",
       "    }\n",
       "\n",
       "    .dataframe tbody tr th {\n",
       "        vertical-align: top;\n",
       "    }\n",
       "\n",
       "    .dataframe thead th {\n",
       "        text-align: right;\n",
       "    }\n",
       "</style>\n",
       "<table border=\"1\" class=\"dataframe\">\n",
       "  <thead>\n",
       "    <tr style=\"text-align: right;\">\n",
       "      <th></th>\n",
       "      <th>Name</th>\n",
       "      <th>Comment</th>\n",
       "      <th>comment_ranking</th>\n",
       "    </tr>\n",
       "  </thead>\n",
       "  <tbody>\n",
       "    <tr>\n",
       "      <th>0</th>\n",
       "      <td>DanBC</td>\n",
       "      <td>Drug use has clear links with violence althoug...</td>\n",
       "      <td>-10.00</td>\n",
       "    </tr>\n",
       "    <tr>\n",
       "      <th>1</th>\n",
       "      <td>waps</td>\n",
       "      <td>You failed to explain why the Sana'a manuscrip...</td>\n",
       "      <td>-10.00</td>\n",
       "    </tr>\n",
       "    <tr>\n",
       "      <th>2</th>\n",
       "      <td>AnthonyMouse</td>\n",
       "      <td>How do you stop another oklahoma cityI think t...</td>\n",
       "      <td>-10.00</td>\n",
       "    </tr>\n",
       "    <tr>\n",
       "      <th>3</th>\n",
       "      <td>michaelochurch</td>\n",
       "      <td>Can you think of any constructive ways forward...</td>\n",
       "      <td>-9.99</td>\n",
       "    </tr>\n",
       "    <tr>\n",
       "      <th>4</th>\n",
       "      <td>paulhauggis</td>\n",
       "      <td>These sorts of articles do nothing to help the...</td>\n",
       "      <td>-9.99</td>\n",
       "    </tr>\n",
       "  </tbody>\n",
       "</table>\n",
       "</div>"
      ],
      "text/plain": [
       "             Name                                            Comment  \\\n",
       "0           DanBC  Drug use has clear links with violence althoug...   \n",
       "1            waps  You failed to explain why the Sana'a manuscrip...   \n",
       "2    AnthonyMouse  How do you stop another oklahoma cityI think t...   \n",
       "3  michaelochurch  Can you think of any constructive ways forward...   \n",
       "4     paulhauggis  These sorts of articles do nothing to help the...   \n",
       "\n",
       "   comment_ranking  \n",
       "0           -10.00  \n",
       "1           -10.00  \n",
       "2           -10.00  \n",
       "3            -9.99  \n",
       "4            -9.99  "
      ]
     },
     "execution_count": 29,
     "metadata": {},
     "output_type": "execute_result"
    }
   ],
   "source": [
    "salty_hackers.head()"
   ]
  },
  {
   "cell_type": "code",
   "execution_count": 30,
   "metadata": {
    "colab": {
     "base_uri": "https://localhost:8080/",
     "height": 363
    },
    "colab_type": "code",
    "executionInfo": {
     "elapsed": 1454,
     "status": "ok",
     "timestamp": 1593041325592,
     "user": {
      "displayName": "Evidence Nwangwa",
      "photoUrl": "",
      "userId": "04661181054044885962"
     },
     "user_tz": 420
    },
    "id": "lGUMMfyNoIht",
    "outputId": "5e9cfe21-d2f9-4464-8b02-751a70dafa93"
   },
   "outputs": [
    {
     "data": {
      "text/html": [
       "<div>\n",
       "<style scoped>\n",
       "    .dataframe tbody tr th:only-of-type {\n",
       "        vertical-align: middle;\n",
       "    }\n",
       "\n",
       "    .dataframe tbody tr th {\n",
       "        vertical-align: top;\n",
       "    }\n",
       "\n",
       "    .dataframe thead th {\n",
       "        text-align: right;\n",
       "    }\n",
       "</style>\n",
       "<table border=\"1\" class=\"dataframe\">\n",
       "  <thead>\n",
       "    <tr style=\"text-align: right;\">\n",
       "      <th></th>\n",
       "      <th>Name</th>\n",
       "      <th>Comment</th>\n",
       "      <th>comment_ranking</th>\n",
       "    </tr>\n",
       "  </thead>\n",
       "  <tbody>\n",
       "    <tr>\n",
       "      <th>0</th>\n",
       "      <td>DanBC</td>\n",
       "      <td>Drug use has clear links with violence althoug...</td>\n",
       "      <td>-10.00</td>\n",
       "    </tr>\n",
       "    <tr>\n",
       "      <th>1</th>\n",
       "      <td>waps</td>\n",
       "      <td>You failed to explain why the Sana'a manuscrip...</td>\n",
       "      <td>-10.00</td>\n",
       "    </tr>\n",
       "    <tr>\n",
       "      <th>2</th>\n",
       "      <td>AnthonyMouse</td>\n",
       "      <td>How do you stop another oklahoma cityI think t...</td>\n",
       "      <td>-10.00</td>\n",
       "    </tr>\n",
       "    <tr>\n",
       "      <th>3</th>\n",
       "      <td>michaelochurch</td>\n",
       "      <td>Can you think of any constructive ways forward...</td>\n",
       "      <td>-9.99</td>\n",
       "    </tr>\n",
       "    <tr>\n",
       "      <th>4</th>\n",
       "      <td>paulhauggis</td>\n",
       "      <td>These sorts of articles do nothing to help the...</td>\n",
       "      <td>-9.99</td>\n",
       "    </tr>\n",
       "    <tr>\n",
       "      <th>5</th>\n",
       "      <td>grey-area</td>\n",
       "      <td>Let's consider a specific example:http://www.n...</td>\n",
       "      <td>-9.99</td>\n",
       "    </tr>\n",
       "    <tr>\n",
       "      <th>6</th>\n",
       "      <td>danso</td>\n",
       "      <td>I don't know what it's like to be raped or sex...</td>\n",
       "      <td>-9.99</td>\n",
       "    </tr>\n",
       "    <tr>\n",
       "      <th>7</th>\n",
       "      <td>pdonis</td>\n",
       "      <td>Are you actually serious? Not joking?No, I'm n...</td>\n",
       "      <td>-9.99</td>\n",
       "    </tr>\n",
       "    <tr>\n",
       "      <th>8</th>\n",
       "      <td>lionhearted</td>\n",
       "      <td>The person who stole it clearly needed it more...</td>\n",
       "      <td>-9.99</td>\n",
       "    </tr>\n",
       "    <tr>\n",
       "      <th>9</th>\n",
       "      <td>pyre</td>\n",
       "      <td>Regarding producing oil from livestock, you'll...</td>\n",
       "      <td>-9.99</td>\n",
       "    </tr>\n",
       "  </tbody>\n",
       "</table>\n",
       "</div>"
      ],
      "text/plain": [
       "             Name                                            Comment  \\\n",
       "0           DanBC  Drug use has clear links with violence althoug...   \n",
       "1            waps  You failed to explain why the Sana'a manuscrip...   \n",
       "2    AnthonyMouse  How do you stop another oklahoma cityI think t...   \n",
       "3  michaelochurch  Can you think of any constructive ways forward...   \n",
       "4     paulhauggis  These sorts of articles do nothing to help the...   \n",
       "5       grey-area  Let's consider a specific example:http://www.n...   \n",
       "6           danso  I don't know what it's like to be raped or sex...   \n",
       "7          pdonis  Are you actually serious? Not joking?No, I'm n...   \n",
       "8     lionhearted  The person who stole it clearly needed it more...   \n",
       "9            pyre  Regarding producing oil from livestock, you'll...   \n",
       "\n",
       "   comment_ranking  \n",
       "0           -10.00  \n",
       "1           -10.00  \n",
       "2           -10.00  \n",
       "3            -9.99  \n",
       "4            -9.99  \n",
       "5            -9.99  \n",
       "6            -9.99  \n",
       "7            -9.99  \n",
       "8            -9.99  \n",
       "9            -9.99  "
      ]
     },
     "execution_count": 30,
     "metadata": {},
     "output_type": "execute_result"
    }
   ],
   "source": [
    "sample_data = salty_hackers.iloc[:10]\n",
    "sample_data"
   ]
  },
  {
   "cell_type": "code",
   "execution_count": 31,
   "metadata": {
    "colab": {
     "base_uri": "https://localhost:8080/",
     "height": 183
    },
    "colab_type": "code",
    "executionInfo": {
     "elapsed": 1564,
     "status": "ok",
     "timestamp": 1593041329439,
     "user": {
      "displayName": "Evidence Nwangwa",
      "photoUrl": "",
      "userId": "04661181054044885962"
     },
     "user_tz": 420
    },
    "id": "ItYYv5x9o8Cj",
    "outputId": "bbd43efe-22cd-467a-d1a2-ac58b860cf00"
   },
   "outputs": [
    {
     "data": {
      "text/plain": [
       "count    230703.000000\n",
       "mean          1.862038\n",
       "std           5.451271\n",
       "min         -10.000000\n",
       "25%          -1.780000\n",
       "50%           2.230000\n",
       "75%           6.700000\n",
       "max          10.000000\n",
       "Name: comment_ranking, dtype: float64"
      ]
     },
     "execution_count": 31,
     "metadata": {},
     "output_type": "execute_result"
    }
   ],
   "source": [
    "salty_hackers['comment_ranking'].describe()"
   ]
  },
  {
   "cell_type": "code",
   "execution_count": 32,
   "metadata": {
    "colab": {
     "base_uri": "https://localhost:8080/",
     "height": 455
    },
    "colab_type": "code",
    "executionInfo": {
     "elapsed": 1455,
     "status": "ok",
     "timestamp": 1593041704214,
     "user": {
      "displayName": "Evidence Nwangwa",
      "photoUrl": "",
      "userId": "04661181054044885962"
     },
     "user_tz": 420
    },
    "id": "XP9C0bvbpWC1",
    "outputId": "19560697-0cd0-48da-c7b5-c0e38de433dc"
   },
   "outputs": [
    {
     "data": {
      "text/html": [
       "<div>\n",
       "<style scoped>\n",
       "    .dataframe tbody tr th:only-of-type {\n",
       "        vertical-align: middle;\n",
       "    }\n",
       "\n",
       "    .dataframe tbody tr th {\n",
       "        vertical-align: top;\n",
       "    }\n",
       "\n",
       "    .dataframe thead th {\n",
       "        text-align: right;\n",
       "    }\n",
       "</style>\n",
       "<table border=\"1\" class=\"dataframe\">\n",
       "  <thead>\n",
       "    <tr style=\"text-align: right;\">\n",
       "      <th></th>\n",
       "      <th>comment_ranking</th>\n",
       "    </tr>\n",
       "    <tr>\n",
       "      <th>Name</th>\n",
       "      <th></th>\n",
       "    </tr>\n",
       "  </thead>\n",
       "  <tbody>\n",
       "    <tr>\n",
       "      <th>001sky</th>\n",
       "      <td>1.589093</td>\n",
       "    </tr>\n",
       "    <tr>\n",
       "      <th>0x0</th>\n",
       "      <td>1.337746</td>\n",
       "    </tr>\n",
       "    <tr>\n",
       "      <th>10ren</th>\n",
       "      <td>4.157703</td>\n",
       "    </tr>\n",
       "    <tr>\n",
       "      <th>3pt14159</th>\n",
       "      <td>2.552662</td>\n",
       "    </tr>\n",
       "    <tr>\n",
       "      <th>6ren</th>\n",
       "      <td>3.444013</td>\n",
       "    </tr>\n",
       "    <tr>\n",
       "      <th>...</th>\n",
       "      <td>...</td>\n",
       "    </tr>\n",
       "    <tr>\n",
       "      <th>zdw</th>\n",
       "      <td>1.959259</td>\n",
       "    </tr>\n",
       "    <tr>\n",
       "      <th>zem</th>\n",
       "      <td>3.512906</td>\n",
       "    </tr>\n",
       "    <tr>\n",
       "      <th>zo1</th>\n",
       "      <td>2.449098</td>\n",
       "    </tr>\n",
       "    <tr>\n",
       "      <th>zobzu</th>\n",
       "      <td>2.499911</td>\n",
       "    </tr>\n",
       "    <tr>\n",
       "      <th>zokier</th>\n",
       "      <td>1.504020</td>\n",
       "    </tr>\n",
       "  </tbody>\n",
       "</table>\n",
       "<p>1000 rows × 1 columns</p>\n",
       "</div>"
      ],
      "text/plain": [
       "          comment_ranking\n",
       "Name                     \n",
       "001sky           1.589093\n",
       "0x0              1.337746\n",
       "10ren            4.157703\n",
       "3pt14159         2.552662\n",
       "6ren             3.444013\n",
       "...                   ...\n",
       "zdw              1.959259\n",
       "zem              3.512906\n",
       "zo1              2.449098\n",
       "zobzu            2.499911\n",
       "zokier           1.504020\n",
       "\n",
       "[1000 rows x 1 columns]"
      ]
     },
     "execution_count": 32,
     "metadata": {},
     "output_type": "execute_result"
    }
   ],
   "source": [
    "average = salty_hackers.groupby(by='Name').mean()\n",
    "average"
   ]
  },
  {
   "cell_type": "code",
   "execution_count": 33,
   "metadata": {
    "colab": {
     "base_uri": "https://localhost:8080/",
     "height": 394
    },
    "colab_type": "code",
    "executionInfo": {
     "elapsed": 1378,
     "status": "ok",
     "timestamp": 1593041738139,
     "user": {
      "displayName": "Evidence Nwangwa",
      "photoUrl": "",
      "userId": "04661181054044885962"
     },
     "user_tz": 420
    },
    "id": "ehrww_Ztqq5j",
    "outputId": "109feab6-e6ed-4b95-883a-b50db3f8808c"
   },
   "outputs": [
    {
     "data": {
      "text/html": [
       "<div>\n",
       "<style scoped>\n",
       "    .dataframe tbody tr th:only-of-type {\n",
       "        vertical-align: middle;\n",
       "    }\n",
       "\n",
       "    .dataframe tbody tr th {\n",
       "        vertical-align: top;\n",
       "    }\n",
       "\n",
       "    .dataframe thead th {\n",
       "        text-align: right;\n",
       "    }\n",
       "</style>\n",
       "<table border=\"1\" class=\"dataframe\">\n",
       "  <thead>\n",
       "    <tr style=\"text-align: right;\">\n",
       "      <th></th>\n",
       "      <th>comment_ranking</th>\n",
       "    </tr>\n",
       "    <tr>\n",
       "      <th>Name</th>\n",
       "      <th></th>\n",
       "    </tr>\n",
       "  </thead>\n",
       "  <tbody>\n",
       "    <tr>\n",
       "      <th>001sky</th>\n",
       "      <td>1.589093</td>\n",
       "    </tr>\n",
       "    <tr>\n",
       "      <th>0x0</th>\n",
       "      <td>1.337746</td>\n",
       "    </tr>\n",
       "    <tr>\n",
       "      <th>10ren</th>\n",
       "      <td>4.157703</td>\n",
       "    </tr>\n",
       "    <tr>\n",
       "      <th>3pt14159</th>\n",
       "      <td>2.552662</td>\n",
       "    </tr>\n",
       "    <tr>\n",
       "      <th>6ren</th>\n",
       "      <td>3.444013</td>\n",
       "    </tr>\n",
       "    <tr>\n",
       "      <th>Alex3917</th>\n",
       "      <td>1.733708</td>\n",
       "    </tr>\n",
       "    <tr>\n",
       "      <th>Alupis</th>\n",
       "      <td>2.168095</td>\n",
       "    </tr>\n",
       "    <tr>\n",
       "      <th>AndrewDucker</th>\n",
       "      <td>2.395503</td>\n",
       "    </tr>\n",
       "    <tr>\n",
       "      <th>AnimalMuppet</th>\n",
       "      <td>1.426772</td>\n",
       "    </tr>\n",
       "    <tr>\n",
       "      <th>Animats</th>\n",
       "      <td>0.879325</td>\n",
       "    </tr>\n",
       "  </tbody>\n",
       "</table>\n",
       "</div>"
      ],
      "text/plain": [
       "              comment_ranking\n",
       "Name                         \n",
       "001sky               1.589093\n",
       "0x0                  1.337746\n",
       "10ren                4.157703\n",
       "3pt14159             2.552662\n",
       "6ren                 3.444013\n",
       "Alex3917             1.733708\n",
       "Alupis               2.168095\n",
       "AndrewDucker         2.395503\n",
       "AnimalMuppet         1.426772\n",
       "Animats              0.879325"
      ]
     },
     "execution_count": 33,
     "metadata": {},
     "output_type": "execute_result"
    }
   ],
   "source": [
    "average[:10]"
   ]
  },
  {
   "cell_type": "code",
   "execution_count": 34,
   "metadata": {
    "colab": {
     "base_uri": "https://localhost:8080/",
     "height": 256
    },
    "colab_type": "code",
    "executionInfo": {
     "elapsed": 1312,
     "status": "ok",
     "timestamp": 1593041929890,
     "user": {
      "displayName": "Evidence Nwangwa",
      "photoUrl": "",
      "userId": "04661181054044885962"
     },
     "user_tz": 420
    },
    "id": "rVR70hK6r5kz",
    "outputId": "521a8c11-995d-4173-e324-ac26092d570c"
   },
   "outputs": [
    {
     "data": {
      "text/plain": [
       "Name\n",
       "001sky      1.589093\n",
       "0x0         1.337746\n",
       "10ren       4.157703\n",
       "3pt14159    2.552662\n",
       "6ren        3.444013\n",
       "              ...   \n",
       "zdw         1.959259\n",
       "zem         3.512906\n",
       "zo1         2.449098\n",
       "zobzu       2.499911\n",
       "zokier      1.504020\n",
       "Name: comment_ranking, Length: 1000, dtype: float64"
      ]
     },
     "execution_count": 34,
     "metadata": {},
     "output_type": "execute_result"
    }
   ],
   "source": [
    "average['comment_ranking']"
   ]
  },
  {
   "cell_type": "code",
   "execution_count": null,
   "metadata": {
    "colab": {
     "base_uri": "https://localhost:8080/",
     "height": 1000
    },
    "colab_type": "code",
    "executionInfo": {
     "elapsed": 1377,
     "status": "ok",
     "timestamp": 1593042249052,
     "user": {
      "displayName": "Evidence Nwangwa",
      "photoUrl": "",
      "userId": "04661181054044885962"
     },
     "user_tz": 420
    },
    "id": "JmWfe9kctZV5",
    "outputId": "b0936583-0fe0-42fb-ebf0-089f2fae9fbb"
   },
   "outputs": [],
   "source": [
    "average_dict = average['comment_ranking'].to_dict()\n",
    "all_users = average_dict.keys()\n",
    "user_list = list(all_users)"
   ]
  },
  {
   "cell_type": "code",
   "execution_count": 39,
   "metadata": {
    "colab": {},
    "colab_type": "code",
    "executionInfo": {
     "elapsed": 1338,
     "status": "ok",
     "timestamp": 1593043157131,
     "user": {
      "displayName": "Evidence Nwangwa",
      "photoUrl": "",
      "userId": "04661181054044885962"
     },
     "user_tz": 420
    },
    "id": "-23Bl1SuvS4c"
   },
   "outputs": [],
   "source": [
    "users = salty_hackers['Name']\n",
    "user_ranking = []\n",
    "for user in users:\n",
    "  user_rank = average_dict[user]\n",
    "  round_user_rank = round(user_rank, 2)\n",
    "  user_ranking.append(round_user_rank)"
   ]
  },
  {
   "cell_type": "code",
   "execution_count": 40,
   "metadata": {
    "colab": {
     "base_uri": "https://localhost:8080/",
     "height": 35
    },
    "colab_type": "code",
    "executionInfo": {
     "elapsed": 1465,
     "status": "ok",
     "timestamp": 1593043159583,
     "user": {
      "displayName": "Evidence Nwangwa",
      "photoUrl": "",
      "userId": "04661181054044885962"
     },
     "user_tz": 420
    },
    "id": "U2BFIv-kvr3M",
    "outputId": "42a0aca7-ceb7-464c-9ccc-9179e80c0504"
   },
   "outputs": [
    {
     "data": {
      "text/plain": [
       "[-0.25, 0.68, -0.51, 0.93, 0.83, 3.94, 2.77, 1.89, 4.23, 0.58]"
      ]
     },
     "execution_count": 40,
     "metadata": {},
     "output_type": "execute_result"
    }
   ],
   "source": [
    "user_ranking[:10]"
   ]
  },
  {
   "cell_type": "code",
   "execution_count": 41,
   "metadata": {
    "colab": {},
    "colab_type": "code",
    "executionInfo": {
     "elapsed": 1465,
     "status": "ok",
     "timestamp": 1593043163689,
     "user": {
      "displayName": "Evidence Nwangwa",
      "photoUrl": "",
      "userId": "04661181054044885962"
     },
     "user_tz": 420
    },
    "id": "9jaYdf0dv7fo"
   },
   "outputs": [],
   "source": [
    "salty_hackers['user_ranking'] = user_ranking"
   ]
  },
  {
   "cell_type": "code",
   "execution_count": 42,
   "metadata": {
    "colab": {
     "base_uri": "https://localhost:8080/",
     "height": 206
    },
    "colab_type": "code",
    "executionInfo": {
     "elapsed": 1400,
     "status": "ok",
     "timestamp": 1593043168014,
     "user": {
      "displayName": "Evidence Nwangwa",
      "photoUrl": "",
      "userId": "04661181054044885962"
     },
     "user_tz": 420
    },
    "id": "iN9i43t5s5ls",
    "outputId": "8c31cd9c-64a1-4f80-a7ac-8d92cf840e62"
   },
   "outputs": [
    {
     "data": {
      "text/html": [
       "<div>\n",
       "<style scoped>\n",
       "    .dataframe tbody tr th:only-of-type {\n",
       "        vertical-align: middle;\n",
       "    }\n",
       "\n",
       "    .dataframe tbody tr th {\n",
       "        vertical-align: top;\n",
       "    }\n",
       "\n",
       "    .dataframe thead th {\n",
       "        text-align: right;\n",
       "    }\n",
       "</style>\n",
       "<table border=\"1\" class=\"dataframe\">\n",
       "  <thead>\n",
       "    <tr style=\"text-align: right;\">\n",
       "      <th></th>\n",
       "      <th>Name</th>\n",
       "      <th>Comment</th>\n",
       "      <th>comment_ranking</th>\n",
       "      <th>user_ranking</th>\n",
       "    </tr>\n",
       "  </thead>\n",
       "  <tbody>\n",
       "    <tr>\n",
       "      <th>0</th>\n",
       "      <td>DanBC</td>\n",
       "      <td>Drug use has clear links with violence althoug...</td>\n",
       "      <td>-10.00</td>\n",
       "      <td>-0.25</td>\n",
       "    </tr>\n",
       "    <tr>\n",
       "      <th>1</th>\n",
       "      <td>waps</td>\n",
       "      <td>You failed to explain why the Sana'a manuscrip...</td>\n",
       "      <td>-10.00</td>\n",
       "      <td>0.68</td>\n",
       "    </tr>\n",
       "    <tr>\n",
       "      <th>2</th>\n",
       "      <td>AnthonyMouse</td>\n",
       "      <td>How do you stop another oklahoma cityI think t...</td>\n",
       "      <td>-10.00</td>\n",
       "      <td>-0.51</td>\n",
       "    </tr>\n",
       "    <tr>\n",
       "      <th>3</th>\n",
       "      <td>michaelochurch</td>\n",
       "      <td>Can you think of any constructive ways forward...</td>\n",
       "      <td>-9.99</td>\n",
       "      <td>0.93</td>\n",
       "    </tr>\n",
       "    <tr>\n",
       "      <th>4</th>\n",
       "      <td>paulhauggis</td>\n",
       "      <td>These sorts of articles do nothing to help the...</td>\n",
       "      <td>-9.99</td>\n",
       "      <td>0.83</td>\n",
       "    </tr>\n",
       "  </tbody>\n",
       "</table>\n",
       "</div>"
      ],
      "text/plain": [
       "             Name                                            Comment  \\\n",
       "0           DanBC  Drug use has clear links with violence althoug...   \n",
       "1            waps  You failed to explain why the Sana'a manuscrip...   \n",
       "2    AnthonyMouse  How do you stop another oklahoma cityI think t...   \n",
       "3  michaelochurch  Can you think of any constructive ways forward...   \n",
       "4     paulhauggis  These sorts of articles do nothing to help the...   \n",
       "\n",
       "   comment_ranking  user_ranking  \n",
       "0           -10.00         -0.25  \n",
       "1           -10.00          0.68  \n",
       "2           -10.00         -0.51  \n",
       "3            -9.99          0.93  \n",
       "4            -9.99          0.83  "
      ]
     },
     "execution_count": 42,
     "metadata": {},
     "output_type": "execute_result"
    }
   ],
   "source": [
    "salty_hackers.head()"
   ]
  },
  {
   "cell_type": "code",
   "execution_count": 43,
   "metadata": {
    "colab": {
     "base_uri": "https://localhost:8080/",
     "height": 183
    },
    "colab_type": "code",
    "executionInfo": {
     "elapsed": 1391,
     "status": "ok",
     "timestamp": 1593043175065,
     "user": {
      "displayName": "Evidence Nwangwa",
      "photoUrl": "",
      "userId": "04661181054044885962"
     },
     "user_tz": 420
    },
    "id": "ivsn0liys7Fo",
    "outputId": "75ac1a08-d050-4fd2-8561-bd43ec060a52"
   },
   "outputs": [
    {
     "data": {
      "text/plain": [
       "count    230703.000000\n",
       "mean          1.862013\n",
       "std           0.943609\n",
       "min          -0.800000\n",
       "25%           1.190000\n",
       "50%           1.810000\n",
       "75%           2.440000\n",
       "max           5.890000\n",
       "Name: user_ranking, dtype: float64"
      ]
     },
     "execution_count": 43,
     "metadata": {},
     "output_type": "execute_result"
    }
   ],
   "source": [
    "salty_hackers['user_ranking'].describe()"
   ]
  },
  {
   "cell_type": "markdown",
   "metadata": {
    "colab": {},
    "colab_type": "code",
    "id": "7yk1INAjw9ar"
   },
   "source": [
    "## Exporting Final Data Set"
   ]
  },
  {
   "cell_type": "code",
   "execution_count": 44,
   "metadata": {},
   "outputs": [],
   "source": [
    "compression_opts = dict(method='zip',archive_name='salty_hackers.csv')  \n",
    "\n",
    "salty_hackers.to_csv('salty_hackers.zip', index=False, compression=compression_opts)  "
   ]
  }
 ],
 "metadata": {
  "accelerator": "GPU",
  "colab": {
   "authorship_tag": "ABX9TyNBnlKYeRxQo4fSjZUnWHD+",
   "collapsed_sections": [],
   "name": "SuperHackers.ipynb",
   "provenance": []
  },
  "kernelspec": {
   "display_name": "Unit4-NLP (Python3)",
   "language": "python",
   "name": "unit4-nlp"
  },
  "language_info": {
   "codemirror_mode": {
    "name": "ipython",
    "version": 3
   },
   "file_extension": ".py",
   "mimetype": "text/x-python",
   "name": "python",
   "nbconvert_exporter": "python",
   "pygments_lexer": "ipython3",
   "version": "3.7.0"
  }
 },
 "nbformat": 4,
 "nbformat_minor": 4
}
