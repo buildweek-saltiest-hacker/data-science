{
 "cells": [
  {
   "cell_type": "code",
   "execution_count": 1,
   "metadata": {},
   "outputs": [],
   "source": [
    "import pandas as pd"
   ]
  },
  {
   "cell_type": "code",
   "execution_count": 2,
   "metadata": {},
   "outputs": [],
   "source": [
    "#url = 'https://github.com/buildweek-saltiest-hacker/data-engineering-api/blob/master/hacker-comments.csv'\n",
    "df = pd.read_csv('hacker-comments.csv')\n"
   ]
  },
  {
   "cell_type": "code",
   "execution_count": 3,
   "metadata": {},
   "outputs": [
    {
     "data": {
      "text/html": [
       "<div>\n",
       "<style scoped>\n",
       "    .dataframe tbody tr th:only-of-type {\n",
       "        vertical-align: middle;\n",
       "    }\n",
       "\n",
       "    .dataframe tbody tr th {\n",
       "        vertical-align: top;\n",
       "    }\n",
       "\n",
       "    .dataframe thead th {\n",
       "        text-align: right;\n",
       "    }\n",
       "</style>\n",
       "<table border=\"1\" class=\"dataframe\">\n",
       "  <thead>\n",
       "    <tr style=\"text-align: right;\">\n",
       "      <th></th>\n",
       "      <th>Unnamed: 0</th>\n",
       "      <th>hacker_name</th>\n",
       "      <th>hacker_comment</th>\n",
       "      <th>comment_saltiness</th>\n",
       "      <th>hacker_score</th>\n",
       "    </tr>\n",
       "  </thead>\n",
       "  <tbody>\n",
       "    <tr>\n",
       "      <td>0</td>\n",
       "      <td>0</td>\n",
       "      <td>DanBC</td>\n",
       "      <td>Drug use has clear links with violence althoug...</td>\n",
       "      <td>9996</td>\n",
       "      <td>247.11</td>\n",
       "    </tr>\n",
       "    <tr>\n",
       "      <td>1</td>\n",
       "      <td>1</td>\n",
       "      <td>waps</td>\n",
       "      <td>You failed to explain why the Sana'a manuscrip...</td>\n",
       "      <td>9996</td>\n",
       "      <td>-684.35</td>\n",
       "    </tr>\n",
       "    <tr>\n",
       "      <td>2</td>\n",
       "      <td>2</td>\n",
       "      <td>AnthonyMouse</td>\n",
       "      <td>How do you stop another oklahoma cityI think t...</td>\n",
       "      <td>9995</td>\n",
       "      <td>507.01</td>\n",
       "    </tr>\n",
       "    <tr>\n",
       "      <td>3</td>\n",
       "      <td>3</td>\n",
       "      <td>michaelochurch</td>\n",
       "      <td>Can you think of any constructive ways forward...</td>\n",
       "      <td>9994</td>\n",
       "      <td>-932.92</td>\n",
       "    </tr>\n",
       "    <tr>\n",
       "      <td>4</td>\n",
       "      <td>4</td>\n",
       "      <td>paulhauggis</td>\n",
       "      <td>These sorts of articles do nothing to help the...</td>\n",
       "      <td>9994</td>\n",
       "      <td>-832.11</td>\n",
       "    </tr>\n",
       "  </tbody>\n",
       "</table>\n",
       "</div>"
      ],
      "text/plain": [
       "   Unnamed: 0     hacker_name  \\\n",
       "0           0           DanBC   \n",
       "1           1            waps   \n",
       "2           2    AnthonyMouse   \n",
       "3           3  michaelochurch   \n",
       "4           4     paulhauggis   \n",
       "\n",
       "                                      hacker_comment  comment_saltiness  \\\n",
       "0  Drug use has clear links with violence althoug...               9996   \n",
       "1  You failed to explain why the Sana'a manuscrip...               9996   \n",
       "2  How do you stop another oklahoma cityI think t...               9995   \n",
       "3  Can you think of any constructive ways forward...               9994   \n",
       "4  These sorts of articles do nothing to help the...               9994   \n",
       "\n",
       "   hacker_score  \n",
       "0        247.11  \n",
       "1       -684.35  \n",
       "2        507.01  \n",
       "3       -932.92  \n",
       "4       -832.11  "
      ]
     },
     "execution_count": 3,
     "metadata": {},
     "output_type": "execute_result"
    }
   ],
   "source": [
    "df.head()"
   ]
  },
  {
   "cell_type": "code",
   "execution_count": 4,
   "metadata": {},
   "outputs": [
    {
     "data": {
      "text/plain": [
       "(230703, 5)"
      ]
     },
     "execution_count": 4,
     "metadata": {},
     "output_type": "execute_result"
    }
   ],
   "source": [
    "df.shape"
   ]
  },
  {
   "cell_type": "code",
   "execution_count": 5,
   "metadata": {},
   "outputs": [],
   "source": [
    "from vaderSentiment.vaderSentiment import SentimentIntensityAnalyzer\n",
    "\n",
    "analyser = SentimentIntensityAnalyzer()"
   ]
  },
  {
   "cell_type": "code",
   "execution_count": 6,
   "metadata": {},
   "outputs": [],
   "source": [
    "def vaderize(sentence):\n",
    "    return analyser.polarity_scores(sentence)"
   ]
  },
  {
   "cell_type": "code",
   "execution_count": 7,
   "metadata": {},
   "outputs": [],
   "source": [
    "df['scores'] = df['hacker_comment'].apply(vaderize)"
   ]
  },
  {
   "cell_type": "code",
   "execution_count": 8,
   "metadata": {},
   "outputs": [
    {
     "data": {
      "text/html": [
       "<div>\n",
       "<style scoped>\n",
       "    .dataframe tbody tr th:only-of-type {\n",
       "        vertical-align: middle;\n",
       "    }\n",
       "\n",
       "    .dataframe tbody tr th {\n",
       "        vertical-align: top;\n",
       "    }\n",
       "\n",
       "    .dataframe thead th {\n",
       "        text-align: right;\n",
       "    }\n",
       "</style>\n",
       "<table border=\"1\" class=\"dataframe\">\n",
       "  <thead>\n",
       "    <tr style=\"text-align: right;\">\n",
       "      <th></th>\n",
       "      <th>Unnamed: 0</th>\n",
       "      <th>hacker_name</th>\n",
       "      <th>hacker_comment</th>\n",
       "      <th>comment_saltiness</th>\n",
       "      <th>hacker_score</th>\n",
       "      <th>scores</th>\n",
       "    </tr>\n",
       "  </thead>\n",
       "  <tbody>\n",
       "    <tr>\n",
       "      <td>0</td>\n",
       "      <td>0</td>\n",
       "      <td>DanBC</td>\n",
       "      <td>Drug use has clear links with violence althoug...</td>\n",
       "      <td>9996</td>\n",
       "      <td>247.11</td>\n",
       "      <td>{'neg': 0.274, 'neu': 0.656, 'pos': 0.07, 'com...</td>\n",
       "    </tr>\n",
       "    <tr>\n",
       "      <td>1</td>\n",
       "      <td>1</td>\n",
       "      <td>waps</td>\n",
       "      <td>You failed to explain why the Sana'a manuscrip...</td>\n",
       "      <td>9996</td>\n",
       "      <td>-684.35</td>\n",
       "      <td>{'neg': 0.199, 'neu': 0.711, 'pos': 0.089, 'co...</td>\n",
       "    </tr>\n",
       "    <tr>\n",
       "      <td>2</td>\n",
       "      <td>2</td>\n",
       "      <td>AnthonyMouse</td>\n",
       "      <td>How do you stop another oklahoma cityI think t...</td>\n",
       "      <td>9995</td>\n",
       "      <td>507.01</td>\n",
       "      <td>{'neg': 0.303, 'neu': 0.611, 'pos': 0.086, 'co...</td>\n",
       "    </tr>\n",
       "    <tr>\n",
       "      <td>3</td>\n",
       "      <td>3</td>\n",
       "      <td>michaelochurch</td>\n",
       "      <td>Can you think of any constructive ways forward...</td>\n",
       "      <td>9994</td>\n",
       "      <td>-932.92</td>\n",
       "      <td>{'neg': 0.203, 'neu': 0.667, 'pos': 0.129, 'co...</td>\n",
       "    </tr>\n",
       "    <tr>\n",
       "      <td>4</td>\n",
       "      <td>4</td>\n",
       "      <td>paulhauggis</td>\n",
       "      <td>These sorts of articles do nothing to help the...</td>\n",
       "      <td>9994</td>\n",
       "      <td>-832.11</td>\n",
       "      <td>{'neg': 0.206, 'neu': 0.739, 'pos': 0.055, 'co...</td>\n",
       "    </tr>\n",
       "  </tbody>\n",
       "</table>\n",
       "</div>"
      ],
      "text/plain": [
       "   Unnamed: 0     hacker_name  \\\n",
       "0           0           DanBC   \n",
       "1           1            waps   \n",
       "2           2    AnthonyMouse   \n",
       "3           3  michaelochurch   \n",
       "4           4     paulhauggis   \n",
       "\n",
       "                                      hacker_comment  comment_saltiness  \\\n",
       "0  Drug use has clear links with violence althoug...               9996   \n",
       "1  You failed to explain why the Sana'a manuscrip...               9996   \n",
       "2  How do you stop another oklahoma cityI think t...               9995   \n",
       "3  Can you think of any constructive ways forward...               9994   \n",
       "4  These sorts of articles do nothing to help the...               9994   \n",
       "\n",
       "   hacker_score                                             scores  \n",
       "0        247.11  {'neg': 0.274, 'neu': 0.656, 'pos': 0.07, 'com...  \n",
       "1       -684.35  {'neg': 0.199, 'neu': 0.711, 'pos': 0.089, 'co...  \n",
       "2        507.01  {'neg': 0.303, 'neu': 0.611, 'pos': 0.086, 'co...  \n",
       "3       -932.92  {'neg': 0.203, 'neu': 0.667, 'pos': 0.129, 'co...  \n",
       "4       -832.11  {'neg': 0.206, 'neu': 0.739, 'pos': 0.055, 'co...  "
      ]
     },
     "execution_count": 8,
     "metadata": {},
     "output_type": "execute_result"
    }
   ],
   "source": [
    "df.head()"
   ]
  },
  {
   "cell_type": "code",
   "execution_count": 9,
   "metadata": {},
   "outputs": [],
   "source": [
    "df[['neg', 'neu', 'pos', 'compound']] = df.scores.apply(pd.Series)"
   ]
  },
  {
   "cell_type": "code",
   "execution_count": 11,
   "metadata": {},
   "outputs": [
    {
     "name": "stdout",
     "output_type": "stream",
     "text": [
      "NIMBY \n",
      "\n",
      "Terrorism. \n",
      "\n",
      "Evil. \n",
      "\n",
      "Sadly? \n",
      "\n",
      "Fake? \n",
      "\n",
      "Stop spamming. \n",
      "\n",
      "*unconfirmed \n",
      "\n",
      "annoying? \n",
      "\n",
      "bullshit \n",
      "\n",
      "Waste? \n",
      "\n",
      "Revenge. \n",
      "\n",
      "No \n",
      "\n",
      "murderer! \n",
      "\n",
      "Sorry! \n",
      "\n",
      "Unfortunately. \n",
      "\n",
      "Fail. \n",
      "\n",
      "Vanity \n",
      "\n",
      "Heartbreaking? \n",
      "\n",
      "Bullshit! \n",
      "\n",
      "Crap, sorry. \n",
      "\n"
     ]
    }
   ],
   "source": [
    "for text in df.sort_values(by='neg', ascending=False)['hacker_comment'].head(20):\n",
    "    print(text, '\\n')"
   ]
  },
  {
   "cell_type": "code",
   "execution_count": 14,
   "metadata": {},
   "outputs": [],
   "source": [
    "df = df.drop('scores', axis=1)"
   ]
  },
  {
   "cell_type": "code",
   "execution_count": 15,
   "metadata": {},
   "outputs": [
    {
     "data": {
      "text/html": [
       "<div>\n",
       "<style scoped>\n",
       "    .dataframe tbody tr th:only-of-type {\n",
       "        vertical-align: middle;\n",
       "    }\n",
       "\n",
       "    .dataframe tbody tr th {\n",
       "        vertical-align: top;\n",
       "    }\n",
       "\n",
       "    .dataframe thead th {\n",
       "        text-align: right;\n",
       "    }\n",
       "</style>\n",
       "<table border=\"1\" class=\"dataframe\">\n",
       "  <thead>\n",
       "    <tr style=\"text-align: right;\">\n",
       "      <th></th>\n",
       "      <th>Unnamed: 0</th>\n",
       "      <th>hacker_name</th>\n",
       "      <th>hacker_comment</th>\n",
       "      <th>comment_saltiness</th>\n",
       "      <th>hacker_score</th>\n",
       "      <th>neg</th>\n",
       "      <th>neu</th>\n",
       "      <th>pos</th>\n",
       "      <th>compound</th>\n",
       "    </tr>\n",
       "  </thead>\n",
       "  <tbody>\n",
       "    <tr>\n",
       "      <td>0</td>\n",
       "      <td>0</td>\n",
       "      <td>DanBC</td>\n",
       "      <td>Drug use has clear links with violence althoug...</td>\n",
       "      <td>9996</td>\n",
       "      <td>247.11</td>\n",
       "      <td>0.274</td>\n",
       "      <td>0.656</td>\n",
       "      <td>0.070</td>\n",
       "      <td>-0.9996</td>\n",
       "    </tr>\n",
       "    <tr>\n",
       "      <td>1</td>\n",
       "      <td>1</td>\n",
       "      <td>waps</td>\n",
       "      <td>You failed to explain why the Sana'a manuscrip...</td>\n",
       "      <td>9996</td>\n",
       "      <td>-684.35</td>\n",
       "      <td>0.199</td>\n",
       "      <td>0.711</td>\n",
       "      <td>0.089</td>\n",
       "      <td>-0.9996</td>\n",
       "    </tr>\n",
       "    <tr>\n",
       "      <td>2</td>\n",
       "      <td>2</td>\n",
       "      <td>AnthonyMouse</td>\n",
       "      <td>How do you stop another oklahoma cityI think t...</td>\n",
       "      <td>9995</td>\n",
       "      <td>507.01</td>\n",
       "      <td>0.303</td>\n",
       "      <td>0.611</td>\n",
       "      <td>0.086</td>\n",
       "      <td>-0.9995</td>\n",
       "    </tr>\n",
       "    <tr>\n",
       "      <td>3</td>\n",
       "      <td>3</td>\n",
       "      <td>michaelochurch</td>\n",
       "      <td>Can you think of any constructive ways forward...</td>\n",
       "      <td>9994</td>\n",
       "      <td>-932.92</td>\n",
       "      <td>0.203</td>\n",
       "      <td>0.667</td>\n",
       "      <td>0.129</td>\n",
       "      <td>-0.9994</td>\n",
       "    </tr>\n",
       "    <tr>\n",
       "      <td>4</td>\n",
       "      <td>4</td>\n",
       "      <td>paulhauggis</td>\n",
       "      <td>These sorts of articles do nothing to help the...</td>\n",
       "      <td>9994</td>\n",
       "      <td>-832.11</td>\n",
       "      <td>0.206</td>\n",
       "      <td>0.739</td>\n",
       "      <td>0.055</td>\n",
       "      <td>-0.9994</td>\n",
       "    </tr>\n",
       "  </tbody>\n",
       "</table>\n",
       "</div>"
      ],
      "text/plain": [
       "   Unnamed: 0     hacker_name  \\\n",
       "0           0           DanBC   \n",
       "1           1            waps   \n",
       "2           2    AnthonyMouse   \n",
       "3           3  michaelochurch   \n",
       "4           4     paulhauggis   \n",
       "\n",
       "                                      hacker_comment  comment_saltiness  \\\n",
       "0  Drug use has clear links with violence althoug...               9996   \n",
       "1  You failed to explain why the Sana'a manuscrip...               9996   \n",
       "2  How do you stop another oklahoma cityI think t...               9995   \n",
       "3  Can you think of any constructive ways forward...               9994   \n",
       "4  These sorts of articles do nothing to help the...               9994   \n",
       "\n",
       "   hacker_score    neg    neu    pos  compound  \n",
       "0        247.11  0.274  0.656  0.070   -0.9996  \n",
       "1       -684.35  0.199  0.711  0.089   -0.9996  \n",
       "2        507.01  0.303  0.611  0.086   -0.9995  \n",
       "3       -932.92  0.203  0.667  0.129   -0.9994  \n",
       "4       -832.11  0.206  0.739  0.055   -0.9994  "
      ]
     },
     "execution_count": 15,
     "metadata": {},
     "output_type": "execute_result"
    }
   ],
   "source": [
    "df.head()"
   ]
  },
  {
   "cell_type": "code",
   "execution_count": 16,
   "metadata": {},
   "outputs": [],
   "source": [
    "df.to_csv('db_with_sentiment_scores.csv', index=False)"
   ]
  },
  {
   "cell_type": "code",
   "execution_count": null,
   "metadata": {},
   "outputs": [],
   "source": []
  },
  {
   "cell_type": "code",
   "execution_count": null,
   "metadata": {},
   "outputs": [],
   "source": []
  }
 ],
 "metadata": {
  "kernelspec": {
   "display_name": "Python 3",
   "language": "python",
   "name": "python3"
  },
  "language_info": {
   "codemirror_mode": {
    "name": "ipython",
    "version": 3
   },
   "file_extension": ".py",
   "mimetype": "text/x-python",
   "name": "python",
   "nbconvert_exporter": "python",
   "pygments_lexer": "ipython3",
   "version": "3.7.4"
  }
 },
 "nbformat": 4,
 "nbformat_minor": 4
}
