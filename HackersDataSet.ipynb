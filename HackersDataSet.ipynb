{
 "cells": [
  {
   "cell_type": "markdown",
   "metadata": {},
   "source": [
    "How to extract top 1000 hackers by commenting frequency and use \n",
    "that to create a new dataset that just has top 1000 hackers. "
   ]
  },
  {
   "cell_type": "code",
   "execution_count": 1,
   "metadata": {
    "colab": {},
    "colab_type": "code",
    "executionInfo": {
     "elapsed": 745,
     "status": "ok",
     "timestamp": 1592455148467,
     "user": {
      "displayName": "Evidence Nwangwa",
      "photoUrl": "",
      "userId": "04661181054044885962"
     },
     "user_tz": 420
    },
    "id": "sm1L7pN8_etv"
   },
   "outputs": [],
   "source": [
    "import pandas as pd"
   ]
  },
  {
   "cell_type": "code",
   "execution_count": 2,
   "metadata": {
    "colab": {},
    "colab_type": "code",
    "executionInfo": {
     "elapsed": 10511,
     "status": "ok",
     "timestamp": 1592455158242,
     "user": {
      "displayName": "Evidence Nwangwa",
      "photoUrl": "",
      "userId": "04661181054044885962"
     },
     "user_tz": 420
    },
    "id": "z5Xu6o7qQh-u"
   },
   "outputs": [],
   "source": [
    "news = pd.read_csv('https://github.com/EvidenceN/Hacker_News_Trolls/blob/master/dataset/Hacker_News_Dataset.csv?raw=true')"
   ]
  },
  {
   "cell_type": "code",
   "execution_count": 3,
   "metadata": {
    "colab": {
     "base_uri": "https://localhost:8080/",
     "height": 206
    },
    "colab_type": "code",
    "executionInfo": {
     "elapsed": 10739,
     "status": "ok",
     "timestamp": 1592455158477,
     "user": {
      "displayName": "Evidence Nwangwa",
      "photoUrl": "",
      "userId": "04661181054044885962"
     },
     "user_tz": 420
    },
    "id": "XGJtzyQCTNej",
    "outputId": "69aafb19-e9b3-4f2e-db1c-e8c30c4cd0c4"
   },
   "outputs": [
    {
     "data": {
      "text/html": [
       "<div>\n",
       "<style scoped>\n",
       "    .dataframe tbody tr th:only-of-type {\n",
       "        vertical-align: middle;\n",
       "    }\n",
       "\n",
       "    .dataframe tbody tr th {\n",
       "        vertical-align: top;\n",
       "    }\n",
       "\n",
       "    .dataframe thead th {\n",
       "        text-align: right;\n",
       "    }\n",
       "</style>\n",
       "<table border=\"1\" class=\"dataframe\">\n",
       "  <thead>\n",
       "    <tr style=\"text-align: right;\">\n",
       "      <th></th>\n",
       "      <th>author</th>\n",
       "      <th>text</th>\n",
       "      <th>ranking</th>\n",
       "      <th>Record Count</th>\n",
       "    </tr>\n",
       "  </thead>\n",
       "  <tbody>\n",
       "    <tr>\n",
       "      <th>0</th>\n",
       "      <td>vbezhenar</td>\n",
       "      <td>You should use URL-safe base 64 encoding descr...</td>\n",
       "      <td>5</td>\n",
       "      <td>1</td>\n",
       "    </tr>\n",
       "    <tr>\n",
       "      <th>1</th>\n",
       "      <td>silves89</td>\n",
       "      <td>Utterly extraordinary. Watching my daughter pl...</td>\n",
       "      <td>0</td>\n",
       "      <td>1</td>\n",
       "    </tr>\n",
       "    <tr>\n",
       "      <th>2</th>\n",
       "      <td>jrockway</td>\n",
       "      <td>Honestly, I would just like to get 3 sizes wit...</td>\n",
       "      <td>20</td>\n",
       "      <td>1</td>\n",
       "    </tr>\n",
       "    <tr>\n",
       "      <th>3</th>\n",
       "      <td>Helianthus16</td>\n",
       "      <td>I'm not assuming anything, I'm making an asser...</td>\n",
       "      <td>0</td>\n",
       "      <td>1</td>\n",
       "    </tr>\n",
       "    <tr>\n",
       "      <th>4</th>\n",
       "      <td>justin66</td>\n",
       "      <td>&amp;#62; If you think that the display was sexist...</td>\n",
       "      <td>2</td>\n",
       "      <td>1</td>\n",
       "    </tr>\n",
       "  </tbody>\n",
       "</table>\n",
       "</div>"
      ],
      "text/plain": [
       "         author                                               text  ranking  \\\n",
       "0     vbezhenar  You should use URL-safe base 64 encoding descr...        5   \n",
       "1      silves89  Utterly extraordinary. Watching my daughter pl...        0   \n",
       "2      jrockway  Honestly, I would just like to get 3 sizes wit...       20   \n",
       "3  Helianthus16  I'm not assuming anything, I'm making an asser...        0   \n",
       "4      justin66  &#62; If you think that the display was sexist...        2   \n",
       "\n",
       "   Record Count  \n",
       "0             1  \n",
       "1             1  \n",
       "2             1  \n",
       "3             1  \n",
       "4             1  "
      ]
     },
     "execution_count": 3,
     "metadata": {},
     "output_type": "execute_result"
    }
   ],
   "source": [
    "news.head()"
   ]
  },
  {
   "cell_type": "code",
   "execution_count": 4,
   "metadata": {
    "colab": {
     "base_uri": "https://localhost:8080/",
     "height": 109
    },
    "colab_type": "code",
    "executionInfo": {
     "elapsed": 10731,
     "status": "ok",
     "timestamp": 1592455158479,
     "user": {
      "displayName": "Evidence Nwangwa",
      "photoUrl": "",
      "userId": "04661181054044885962"
     },
     "user_tz": 420
    },
    "id": "HSmaoa4sTRCN",
    "outputId": "852a9410-a675-4aa8-d780-18929c40ccce"
   },
   "outputs": [
    {
     "data": {
      "text/plain": [
       "count      749990\n",
       "unique      84949\n",
       "top       tptacek\n",
       "freq         3039\n",
       "Name: author, dtype: object"
      ]
     },
     "execution_count": 4,
     "metadata": {},
     "output_type": "execute_result"
    }
   ],
   "source": [
    "news['author'].describe()"
   ]
  },
  {
   "cell_type": "code",
   "execution_count": 5,
   "metadata": {
    "colab": {},
    "colab_type": "code",
    "executionInfo": {
     "elapsed": 10883,
     "status": "ok",
     "timestamp": 1592455158637,
     "user": {
      "displayName": "Evidence Nwangwa",
      "photoUrl": "",
      "userId": "04661181054044885962"
     },
     "user_tz": 420
    },
    "id": "wGelqh2eXc_T"
   },
   "outputs": [],
   "source": [
    "# model 1 = text and a new column that ranks it's negativity\n",
    "\n",
    "# model 2 = author and their average negativity based on their comments\n",
    "\n",
    "# we will use vader model to rank comments level of negativity. \n",
    "\n",
    "# Machine learning delivarable = new table that has author name, \n",
    "# text, text ranking, author average ranking.\n",
    "\n",
    "# so that when you choose an author or text, you will see the author's \n",
    "# average negativity rank and the text specific negativity rank.\n",
    "\n",
    "# flask app will store the new created table from machine learning crew as a database. \n",
    "\n",
    "# and then provide author name, text ranking, text, and author ranking as endpoints to web people. "
   ]
  },
  {
   "cell_type": "code",
   "execution_count": 6,
   "metadata": {
    "colab": {
     "base_uri": "https://localhost:8080/",
     "height": 239
    },
    "colab_type": "code",
    "executionInfo": {
     "elapsed": 11256,
     "status": "ok",
     "timestamp": 1592455159019,
     "user": {
      "displayName": "Evidence Nwangwa",
      "photoUrl": "",
      "userId": "04661181054044885962"
     },
     "user_tz": 420
    },
    "id": "Gd_Ax-qtg_eH",
    "outputId": "4383f517-fe50-4957-e9c6-3e64bc0aab01"
   },
   "outputs": [
    {
     "data": {
      "text/plain": [
       "tptacek       3039\n",
       "jacquesm      1854\n",
       "DanBC         1342\n",
       "jrockway      1230\n",
       "sp332         1106\n",
       "              ... \n",
       "cubicle67      108\n",
       "bluedino       108\n",
       "detaro         108\n",
       "kayoone        108\n",
       "PStamatiou     108\n",
       "Name: author, Length: 1000, dtype: int64"
      ]
     },
     "execution_count": 6,
     "metadata": {},
     "output_type": "execute_result"
    }
   ],
   "source": [
    "# top 1000 commentors\n",
    "news['author'].value_counts()[:1000]"
   ]
  },
  {
   "cell_type": "code",
   "execution_count": 7,
   "metadata": {
    "colab": {
     "base_uri": "https://localhost:8080/",
     "height": 424
    },
    "colab_type": "code",
    "executionInfo": {
     "elapsed": 11249,
     "status": "ok",
     "timestamp": 1592455159022,
     "user": {
      "displayName": "Evidence Nwangwa",
      "photoUrl": "",
      "userId": "04661181054044885962"
     },
     "user_tz": 420
    },
    "id": "qzg5PUqPo6Lx",
    "outputId": "56623cf9-56c2-4a43-d62c-afc162dfb802"
   },
   "outputs": [
    {
     "data": {
      "text/html": [
       "<div>\n",
       "<style scoped>\n",
       "    .dataframe tbody tr th:only-of-type {\n",
       "        vertical-align: middle;\n",
       "    }\n",
       "\n",
       "    .dataframe tbody tr th {\n",
       "        vertical-align: top;\n",
       "    }\n",
       "\n",
       "    .dataframe thead th {\n",
       "        text-align: right;\n",
       "    }\n",
       "</style>\n",
       "<table border=\"1\" class=\"dataframe\">\n",
       "  <thead>\n",
       "    <tr style=\"text-align: right;\">\n",
       "      <th></th>\n",
       "      <th>author</th>\n",
       "    </tr>\n",
       "  </thead>\n",
       "  <tbody>\n",
       "    <tr>\n",
       "      <th>tptacek</th>\n",
       "      <td>3039</td>\n",
       "    </tr>\n",
       "    <tr>\n",
       "      <th>jacquesm</th>\n",
       "      <td>1854</td>\n",
       "    </tr>\n",
       "    <tr>\n",
       "      <th>DanBC</th>\n",
       "      <td>1342</td>\n",
       "    </tr>\n",
       "    <tr>\n",
       "      <th>jrockway</th>\n",
       "      <td>1230</td>\n",
       "    </tr>\n",
       "    <tr>\n",
       "      <th>sp332</th>\n",
       "      <td>1106</td>\n",
       "    </tr>\n",
       "    <tr>\n",
       "      <th>...</th>\n",
       "      <td>...</td>\n",
       "    </tr>\n",
       "    <tr>\n",
       "      <th>cubicle67</th>\n",
       "      <td>108</td>\n",
       "    </tr>\n",
       "    <tr>\n",
       "      <th>bluedino</th>\n",
       "      <td>108</td>\n",
       "    </tr>\n",
       "    <tr>\n",
       "      <th>detaro</th>\n",
       "      <td>108</td>\n",
       "    </tr>\n",
       "    <tr>\n",
       "      <th>kayoone</th>\n",
       "      <td>108</td>\n",
       "    </tr>\n",
       "    <tr>\n",
       "      <th>PStamatiou</th>\n",
       "      <td>108</td>\n",
       "    </tr>\n",
       "  </tbody>\n",
       "</table>\n",
       "<p>1000 rows × 1 columns</p>\n",
       "</div>"
      ],
      "text/plain": [
       "            author\n",
       "tptacek       3039\n",
       "jacquesm      1854\n",
       "DanBC         1342\n",
       "jrockway      1230\n",
       "sp332         1106\n",
       "...            ...\n",
       "cubicle67      108\n",
       "bluedino       108\n",
       "detaro         108\n",
       "kayoone        108\n",
       "PStamatiou     108\n",
       "\n",
       "[1000 rows x 1 columns]"
      ]
     },
     "execution_count": 7,
     "metadata": {},
     "output_type": "execute_result"
    }
   ],
   "source": [
    "top_commentors = pd.DataFrame(news['author'].value_counts()[:1000])\n",
    "top_commentors"
   ]
  },
  {
   "cell_type": "code",
   "execution_count": 8,
   "metadata": {
    "colab": {},
    "colab_type": "code",
    "executionInfo": {
     "elapsed": 11242,
     "status": "ok",
     "timestamp": 1592455159023,
     "user": {
      "displayName": "Evidence Nwangwa",
      "photoUrl": "",
      "userId": "04661181054044885962"
     },
     "user_tz": 420
    },
    "id": "adYovAGTndUu"
   },
   "outputs": [],
   "source": [
    "top_commentors = top_commentors.reset_index()"
   ]
  },
  {
   "cell_type": "code",
   "execution_count": 9,
   "metadata": {
    "colab": {
     "base_uri": "https://localhost:8080/",
     "height": 424
    },
    "colab_type": "code",
    "executionInfo": {
     "elapsed": 11237,
     "status": "ok",
     "timestamp": 1592455159026,
     "user": {
      "displayName": "Evidence Nwangwa",
      "photoUrl": "",
      "userId": "04661181054044885962"
     },
     "user_tz": 420
    },
    "id": "-RLs7VXSsnk5",
    "outputId": "aff3f7a1-a039-48dd-fb92-4a333176e81c"
   },
   "outputs": [
    {
     "data": {
      "text/html": [
       "<div>\n",
       "<style scoped>\n",
       "    .dataframe tbody tr th:only-of-type {\n",
       "        vertical-align: middle;\n",
       "    }\n",
       "\n",
       "    .dataframe tbody tr th {\n",
       "        vertical-align: top;\n",
       "    }\n",
       "\n",
       "    .dataframe thead th {\n",
       "        text-align: right;\n",
       "    }\n",
       "</style>\n",
       "<table border=\"1\" class=\"dataframe\">\n",
       "  <thead>\n",
       "    <tr style=\"text-align: right;\">\n",
       "      <th></th>\n",
       "      <th>index</th>\n",
       "      <th>author</th>\n",
       "    </tr>\n",
       "  </thead>\n",
       "  <tbody>\n",
       "    <tr>\n",
       "      <th>0</th>\n",
       "      <td>tptacek</td>\n",
       "      <td>3039</td>\n",
       "    </tr>\n",
       "    <tr>\n",
       "      <th>1</th>\n",
       "      <td>jacquesm</td>\n",
       "      <td>1854</td>\n",
       "    </tr>\n",
       "    <tr>\n",
       "      <th>2</th>\n",
       "      <td>DanBC</td>\n",
       "      <td>1342</td>\n",
       "    </tr>\n",
       "    <tr>\n",
       "      <th>3</th>\n",
       "      <td>jrockway</td>\n",
       "      <td>1230</td>\n",
       "    </tr>\n",
       "    <tr>\n",
       "      <th>4</th>\n",
       "      <td>sp332</td>\n",
       "      <td>1106</td>\n",
       "    </tr>\n",
       "    <tr>\n",
       "      <th>...</th>\n",
       "      <td>...</td>\n",
       "      <td>...</td>\n",
       "    </tr>\n",
       "    <tr>\n",
       "      <th>995</th>\n",
       "      <td>cubicle67</td>\n",
       "      <td>108</td>\n",
       "    </tr>\n",
       "    <tr>\n",
       "      <th>996</th>\n",
       "      <td>bluedino</td>\n",
       "      <td>108</td>\n",
       "    </tr>\n",
       "    <tr>\n",
       "      <th>997</th>\n",
       "      <td>detaro</td>\n",
       "      <td>108</td>\n",
       "    </tr>\n",
       "    <tr>\n",
       "      <th>998</th>\n",
       "      <td>kayoone</td>\n",
       "      <td>108</td>\n",
       "    </tr>\n",
       "    <tr>\n",
       "      <th>999</th>\n",
       "      <td>PStamatiou</td>\n",
       "      <td>108</td>\n",
       "    </tr>\n",
       "  </tbody>\n",
       "</table>\n",
       "<p>1000 rows × 2 columns</p>\n",
       "</div>"
      ],
      "text/plain": [
       "          index  author\n",
       "0       tptacek    3039\n",
       "1      jacquesm    1854\n",
       "2         DanBC    1342\n",
       "3      jrockway    1230\n",
       "4         sp332    1106\n",
       "..          ...     ...\n",
       "995   cubicle67     108\n",
       "996    bluedino     108\n",
       "997      detaro     108\n",
       "998     kayoone     108\n",
       "999  PStamatiou     108\n",
       "\n",
       "[1000 rows x 2 columns]"
      ]
     },
     "execution_count": 9,
     "metadata": {},
     "output_type": "execute_result"
    }
   ],
   "source": [
    "top_commentors"
   ]
  },
  {
   "cell_type": "code",
   "execution_count": 10,
   "metadata": {
    "colab": {},
    "colab_type": "code",
    "executionInfo": {
     "elapsed": 11231,
     "status": "ok",
     "timestamp": 1592455159028,
     "user": {
      "displayName": "Evidence Nwangwa",
      "photoUrl": "",
      "userId": "04661181054044885962"
     },
     "user_tz": 420
    },
    "id": "921xbO4gs_Z5"
   },
   "outputs": [],
   "source": [
    "top_commentors = top_commentors.rename(columns={'index':'author',\n",
    "                                         'author':'frequency'})"
   ]
  },
  {
   "cell_type": "code",
   "execution_count": 11,
   "metadata": {
    "colab": {
     "base_uri": "https://localhost:8080/",
     "height": 206
    },
    "colab_type": "code",
    "executionInfo": {
     "elapsed": 11225,
     "status": "ok",
     "timestamp": 1592455159028,
     "user": {
      "displayName": "Evidence Nwangwa",
      "photoUrl": "",
      "userId": "04661181054044885962"
     },
     "user_tz": 420
    },
    "id": "fp1P57CLtySZ",
    "outputId": "c292cb2b-729c-4dcf-c0e3-0f01ec0c0dea"
   },
   "outputs": [
    {
     "data": {
      "text/html": [
       "<div>\n",
       "<style scoped>\n",
       "    .dataframe tbody tr th:only-of-type {\n",
       "        vertical-align: middle;\n",
       "    }\n",
       "\n",
       "    .dataframe tbody tr th {\n",
       "        vertical-align: top;\n",
       "    }\n",
       "\n",
       "    .dataframe thead th {\n",
       "        text-align: right;\n",
       "    }\n",
       "</style>\n",
       "<table border=\"1\" class=\"dataframe\">\n",
       "  <thead>\n",
       "    <tr style=\"text-align: right;\">\n",
       "      <th></th>\n",
       "      <th>author</th>\n",
       "      <th>frequency</th>\n",
       "    </tr>\n",
       "  </thead>\n",
       "  <tbody>\n",
       "    <tr>\n",
       "      <th>0</th>\n",
       "      <td>tptacek</td>\n",
       "      <td>3039</td>\n",
       "    </tr>\n",
       "    <tr>\n",
       "      <th>1</th>\n",
       "      <td>jacquesm</td>\n",
       "      <td>1854</td>\n",
       "    </tr>\n",
       "    <tr>\n",
       "      <th>2</th>\n",
       "      <td>DanBC</td>\n",
       "      <td>1342</td>\n",
       "    </tr>\n",
       "    <tr>\n",
       "      <th>3</th>\n",
       "      <td>jrockway</td>\n",
       "      <td>1230</td>\n",
       "    </tr>\n",
       "    <tr>\n",
       "      <th>4</th>\n",
       "      <td>sp332</td>\n",
       "      <td>1106</td>\n",
       "    </tr>\n",
       "  </tbody>\n",
       "</table>\n",
       "</div>"
      ],
      "text/plain": [
       "     author  frequency\n",
       "0   tptacek       3039\n",
       "1  jacquesm       1854\n",
       "2     DanBC       1342\n",
       "3  jrockway       1230\n",
       "4     sp332       1106"
      ]
     },
     "execution_count": 11,
     "metadata": {},
     "output_type": "execute_result"
    }
   ],
   "source": [
    "top_commentors.head()"
   ]
  },
  {
   "cell_type": "code",
   "execution_count": 12,
   "metadata": {
    "colab": {
     "base_uri": "https://localhost:8080/",
     "height": 239
    },
    "colab_type": "code",
    "executionInfo": {
     "elapsed": 471,
     "status": "ok",
     "timestamp": 1592455516034,
     "user": {
      "displayName": "Evidence Nwangwa",
      "photoUrl": "",
      "userId": "04661181054044885962"
     },
     "user_tz": 420
    },
    "id": "xPZU9PhZvq2a",
    "outputId": "4ea2265e-3c57-460c-e542-ea292d21095e"
   },
   "outputs": [
    {
     "data": {
      "text/plain": [
       "0         tptacek\n",
       "1        jacquesm\n",
       "2           DanBC\n",
       "3        jrockway\n",
       "4           sp332\n",
       "          ...    \n",
       "995     cubicle67\n",
       "996      bluedino\n",
       "997        detaro\n",
       "998       kayoone\n",
       "999    PStamatiou\n",
       "Name: author, Length: 1000, dtype: object"
      ]
     },
     "execution_count": 12,
     "metadata": {},
     "output_type": "execute_result"
    }
   ],
   "source": [
    "top_commentors['author']"
   ]
  },
  {
   "cell_type": "code",
   "execution_count": 13,
   "metadata": {
    "colab": {
     "base_uri": "https://localhost:8080/",
     "height": 239
    },
    "colab_type": "code",
    "executionInfo": {
     "elapsed": 363,
     "status": "ok",
     "timestamp": 1592455525103,
     "user": {
      "displayName": "Evidence Nwangwa",
      "photoUrl": "",
      "userId": "04661181054044885962"
     },
     "user_tz": 420
    },
    "id": "fgJW1cO6vtlD",
    "outputId": "adf449e7-f9bf-49ef-b26c-1cfa248b0444"
   },
   "outputs": [
    {
     "data": {
      "text/plain": [
       "0            vbezhenar\n",
       "1             silves89\n",
       "2             jrockway\n",
       "3         Helianthus16\n",
       "4             justin66\n",
       "              ...     \n",
       "749995          irahul\n",
       "749996             bmj\n",
       "749997             rms\n",
       "749998            Jun8\n",
       "749999          cdavid\n",
       "Name: author, Length: 750000, dtype: object"
      ]
     },
     "execution_count": 13,
     "metadata": {},
     "output_type": "execute_result"
    }
   ],
   "source": [
    "news['author']"
   ]
  },
  {
   "cell_type": "code",
   "execution_count": 14,
   "metadata": {
    "colab": {
     "base_uri": "https://localhost:8080/",
     "height": 239
    },
    "colab_type": "code",
    "executionInfo": {
     "elapsed": 405,
     "status": "ok",
     "timestamp": 1592456426667,
     "user": {
      "displayName": "Evidence Nwangwa",
      "photoUrl": "",
      "userId": "04661181054044885962"
     },
     "user_tz": 420
    },
    "id": "jvPqcUFBxpln",
    "outputId": "d57778ad-12ff-46bf-ea53-36a87fc976b7"
   },
   "outputs": [
    {
     "data": {
      "text/plain": [
       "0         False\n",
       "1         False\n",
       "2          True\n",
       "3         False\n",
       "4         False\n",
       "          ...  \n",
       "749995    False\n",
       "749996    False\n",
       "749997     True\n",
       "749998     True\n",
       "749999    False\n",
       "Name: author, Length: 750000, dtype: bool"
      ]
     },
     "execution_count": 14,
     "metadata": {},
     "output_type": "execute_result"
    }
   ],
   "source": [
    "news['author'].isin(top_commentors['author'])"
   ]
  },
  {
   "cell_type": "code",
   "execution_count": 15,
   "metadata": {
    "colab": {
     "base_uri": "https://localhost:8080/",
     "height": 206
    },
    "colab_type": "code",
    "executionInfo": {
     "elapsed": 525,
     "status": "ok",
     "timestamp": 1592456461447,
     "user": {
      "displayName": "Evidence Nwangwa",
      "photoUrl": "",
      "userId": "04661181054044885962"
     },
     "user_tz": 420
    },
    "id": "ROFk69Oqu1Ni",
    "outputId": "4e00d98f-b465-4084-ab5b-5dfe4ea2a4ae"
   },
   "outputs": [
    {
     "data": {
      "text/html": [
       "<div>\n",
       "<style scoped>\n",
       "    .dataframe tbody tr th:only-of-type {\n",
       "        vertical-align: middle;\n",
       "    }\n",
       "\n",
       "    .dataframe tbody tr th {\n",
       "        vertical-align: top;\n",
       "    }\n",
       "\n",
       "    .dataframe thead th {\n",
       "        text-align: right;\n",
       "    }\n",
       "</style>\n",
       "<table border=\"1\" class=\"dataframe\">\n",
       "  <thead>\n",
       "    <tr style=\"text-align: right;\">\n",
       "      <th></th>\n",
       "      <th>author</th>\n",
       "      <th>text</th>\n",
       "      <th>ranking</th>\n",
       "      <th>Record Count</th>\n",
       "    </tr>\n",
       "  </thead>\n",
       "  <tbody>\n",
       "    <tr>\n",
       "      <th>2</th>\n",
       "      <td>jrockway</td>\n",
       "      <td>Honestly, I would just like to get 3 sizes wit...</td>\n",
       "      <td>20</td>\n",
       "      <td>1</td>\n",
       "    </tr>\n",
       "    <tr>\n",
       "      <th>5</th>\n",
       "      <td>maxerickson</td>\n",
       "      <td>I would think the allusion is rooted in huntin...</td>\n",
       "      <td>1</td>\n",
       "      <td>1</td>\n",
       "    </tr>\n",
       "    <tr>\n",
       "      <th>6</th>\n",
       "      <td>tim333</td>\n",
       "      <td>I thought I&amp;#x27;d stick this thing up, partly...</td>\n",
       "      <td>0</td>\n",
       "      <td>1</td>\n",
       "    </tr>\n",
       "    <tr>\n",
       "      <th>9</th>\n",
       "      <td>nawitus</td>\n",
       "      <td>By the way, the e-voting system has multiple s...</td>\n",
       "      <td>2</td>\n",
       "      <td>1</td>\n",
       "    </tr>\n",
       "    <tr>\n",
       "      <th>12</th>\n",
       "      <td>waps</td>\n",
       "      <td>Did you ever know any manager, never mind a hi...</td>\n",
       "      <td>1</td>\n",
       "      <td>1</td>\n",
       "    </tr>\n",
       "  </tbody>\n",
       "</table>\n",
       "</div>"
      ],
      "text/plain": [
       "         author                                               text  ranking  \\\n",
       "2      jrockway  Honestly, I would just like to get 3 sizes wit...       20   \n",
       "5   maxerickson  I would think the allusion is rooted in huntin...        1   \n",
       "6        tim333  I thought I&#x27;d stick this thing up, partly...        0   \n",
       "9       nawitus  By the way, the e-voting system has multiple s...        2   \n",
       "12         waps  Did you ever know any manager, never mind a hi...        1   \n",
       "\n",
       "    Record Count  \n",
       "2              1  \n",
       "5              1  \n",
       "6              1  \n",
       "9              1  \n",
       "12             1  "
      ]
     },
     "execution_count": 15,
     "metadata": {},
     "output_type": "execute_result"
    }
   ],
   "source": [
    "# new data frame that has just the top 1000 commentators\n",
    "\n",
    "top_news = news[news['author'].isin(top_commentors['author'])]\n",
    "\n",
    "top_news.head()"
   ]
  },
  {
   "cell_type": "code",
   "execution_count": 16,
   "metadata": {
    "colab": {
     "base_uri": "https://localhost:8080/",
     "height": 35
    },
    "colab_type": "code",
    "executionInfo": {
     "elapsed": 396,
     "status": "ok",
     "timestamp": 1592456721254,
     "user": {
      "displayName": "Evidence Nwangwa",
      "photoUrl": "",
      "userId": "04661181054044885962"
     },
     "user_tz": 420
    },
    "id": "3Qg6JzVFmCQo",
    "outputId": "31092598-6a50-440c-dfe0-8b2f53f41198"
   },
   "outputs": [
    {
     "data": {
      "text/plain": [
       "(230705, 4)"
      ]
     },
     "execution_count": 16,
     "metadata": {},
     "output_type": "execute_result"
    }
   ],
   "source": [
    "top_news.shape"
   ]
  },
  {
   "cell_type": "code",
   "execution_count": 20,
   "metadata": {},
   "outputs": [],
   "source": [
    "compression_opts = dict(method='zip',archive_name='out.csv')  \n",
    "\n",
    "top_news.to_csv('out.zip', index=False, compression=compression_opts)  "
   ]
  },
  {
   "cell_type": "code",
   "execution_count": 21,
   "metadata": {},
   "outputs": [
    {
     "data": {
      "text/html": [
       "<div>\n",
       "<style scoped>\n",
       "    .dataframe tbody tr th:only-of-type {\n",
       "        vertical-align: middle;\n",
       "    }\n",
       "\n",
       "    .dataframe tbody tr th {\n",
       "        vertical-align: top;\n",
       "    }\n",
       "\n",
       "    .dataframe thead th {\n",
       "        text-align: right;\n",
       "    }\n",
       "</style>\n",
       "<table border=\"1\" class=\"dataframe\">\n",
       "  <thead>\n",
       "    <tr style=\"text-align: right;\">\n",
       "      <th></th>\n",
       "      <th>author</th>\n",
       "      <th>text</th>\n",
       "      <th>ranking</th>\n",
       "      <th>Record Count</th>\n",
       "    </tr>\n",
       "  </thead>\n",
       "  <tbody>\n",
       "    <tr>\n",
       "      <th>0</th>\n",
       "      <td>jrockway</td>\n",
       "      <td>Honestly, I would just like to get 3 sizes wit...</td>\n",
       "      <td>20</td>\n",
       "      <td>1</td>\n",
       "    </tr>\n",
       "    <tr>\n",
       "      <th>1</th>\n",
       "      <td>maxerickson</td>\n",
       "      <td>I would think the allusion is rooted in huntin...</td>\n",
       "      <td>1</td>\n",
       "      <td>1</td>\n",
       "    </tr>\n",
       "    <tr>\n",
       "      <th>2</th>\n",
       "      <td>tim333</td>\n",
       "      <td>I thought I&amp;#x27;d stick this thing up, partly...</td>\n",
       "      <td>0</td>\n",
       "      <td>1</td>\n",
       "    </tr>\n",
       "    <tr>\n",
       "      <th>3</th>\n",
       "      <td>nawitus</td>\n",
       "      <td>By the way, the e-voting system has multiple s...</td>\n",
       "      <td>2</td>\n",
       "      <td>1</td>\n",
       "    </tr>\n",
       "    <tr>\n",
       "      <th>4</th>\n",
       "      <td>waps</td>\n",
       "      <td>Did you ever know any manager, never mind a hi...</td>\n",
       "      <td>1</td>\n",
       "      <td>1</td>\n",
       "    </tr>\n",
       "  </tbody>\n",
       "</table>\n",
       "</div>"
      ],
      "text/plain": [
       "        author                                               text  ranking  \\\n",
       "0     jrockway  Honestly, I would just like to get 3 sizes wit...       20   \n",
       "1  maxerickson  I would think the allusion is rooted in huntin...        1   \n",
       "2       tim333  I thought I&#x27;d stick this thing up, partly...        0   \n",
       "3      nawitus  By the way, the e-voting system has multiple s...        2   \n",
       "4         waps  Did you ever know any manager, never mind a hi...        1   \n",
       "\n",
       "   Record Count  \n",
       "0             1  \n",
       "1             1  \n",
       "2             1  \n",
       "3             1  \n",
       "4             1  "
      ]
     },
     "execution_count": 21,
     "metadata": {},
     "output_type": "execute_result"
    }
   ],
   "source": [
    "# reading new dataset that just has data of choice. \n",
    "\n",
    "hacker_news = pd.read_csv('https://github.com/EvidenceN/Hacker_News_Trolls/blob/master/top_hacker_authors_dataset/top_hacker_authors.csv?raw=true')\n",
    "hacker_news.head()"
   ]
  },
  {
   "cell_type": "code",
   "execution_count": null,
   "metadata": {},
   "outputs": [],
   "source": []
  }
 ],
 "metadata": {
  "colab": {
   "authorship_tag": "ABX9TyNJ44EvtQkzcyRHpATTtLjz",
   "collapsed_sections": [],
   "name": "SuperHackers.ipynb",
   "provenance": []
  },
  "kernelspec": {
   "display_name": "Python 3.7.3 64-bit ('base': conda)",
   "language": "python",
   "name": "python37364bitbaseconda35499163fef041b3b02cfbaf64b49173"
  },
  "language_info": {
   "codemirror_mode": {
    "name": "ipython",
    "version": 3
   },
   "file_extension": ".py",
   "mimetype": "text/x-python",
   "name": "python",
   "nbconvert_exporter": "python",
   "pygments_lexer": "ipython3",
   "version": "3.7.6"
  }
 },
 "nbformat": 4,
 "nbformat_minor": 4
}
