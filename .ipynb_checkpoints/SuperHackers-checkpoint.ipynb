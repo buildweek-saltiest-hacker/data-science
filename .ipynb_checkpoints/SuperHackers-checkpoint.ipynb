{
 "cells": [
  {
   "cell_type": "code",
   "execution_count": 1,
   "metadata": {
    "colab": {},
    "colab_type": "code",
    "executionInfo": {
     "elapsed": 1582,
     "status": "ok",
     "timestamp": 1593038198908,
     "user": {
      "displayName": "Evidence Nwangwa",
      "photoUrl": "",
      "userId": "04661181054044885962"
     },
     "user_tz": 420
    },
    "id": "MAMHqBHUfW3S"
   },
   "outputs": [],
   "source": [
    "import pandas as pd"
   ]
  },
  {
   "cell_type": "code",
   "execution_count": 2,
   "metadata": {},
   "outputs": [
    {
     "data": {
      "text/plain": [
       "'\\n%%capture\\n!python -m spacy download en_core_web_lg\\nimport spacy\\nfrom spacy.tokenizer import Tokenizer\\n!pip install vaderSentiment\\n'"
      ]
     },
     "execution_count": 2,
     "metadata": {},
     "output_type": "execute_result"
    }
   ],
   "source": [
    "# if in google colab, run this instead of the one below. \n",
    "\n",
    "\"\"\"\n",
    "%%capture\n",
    "!python -m spacy download en_core_web_lg\n",
    "import spacy\n",
    "from spacy.tokenizer import Tokenizer\n",
    "!pip install vaderSentiment\n",
    "\"\"\""
   ]
  },
  {
   "cell_type": "code",
   "execution_count": 3,
   "metadata": {
    "colab": {},
    "colab_type": "code",
    "executionInfo": {
     "elapsed": 9546,
     "status": "ok",
     "timestamp": 1593038223272,
     "user": {
      "displayName": "Evidence Nwangwa",
      "photoUrl": "",
      "userId": "04661181054044885962"
     },
     "user_tz": 420
    },
    "id": "e_mzKQGvf2Eo"
   },
   "outputs": [],
   "source": [
    "%%capture\n",
    "import spacy\n",
    "!python -m spacy download en_core_web_lg\n",
    "from spacy.tokenizer import Tokenizer\n",
    "!pip install vaderSentiment"
   ]
  },
  {
   "cell_type": "markdown",
   "metadata": {
    "colab_type": "text",
    "id": "QKSiOqRJiaWU"
   },
   "source": [
    "**Loading the data**"
   ]
  },
  {
   "cell_type": "code",
   "execution_count": 4,
   "metadata": {
    "colab": {
     "base_uri": "https://localhost:8080/",
     "height": 206
    },
    "colab_type": "code",
    "executionInfo": {
     "elapsed": 4456,
     "status": "ok",
     "timestamp": 1593038241578,
     "user": {
      "displayName": "Evidence Nwangwa",
      "photoUrl": "",
      "userId": "04661181054044885962"
     },
     "user_tz": 420
    },
    "id": "iZOQWXcJfF_7",
    "outputId": "83c02231-fc55-453c-b882-5efde34234ea"
   },
   "outputs": [
    {
     "data": {
      "text/html": [
       "<div>\n",
       "<style scoped>\n",
       "    .dataframe tbody tr th:only-of-type {\n",
       "        vertical-align: middle;\n",
       "    }\n",
       "\n",
       "    .dataframe tbody tr th {\n",
       "        vertical-align: top;\n",
       "    }\n",
       "\n",
       "    .dataframe thead th {\n",
       "        text-align: right;\n",
       "    }\n",
       "</style>\n",
       "<table border=\"1\" class=\"dataframe\">\n",
       "  <thead>\n",
       "    <tr style=\"text-align: right;\">\n",
       "      <th></th>\n",
       "      <th>author</th>\n",
       "      <th>text</th>\n",
       "      <th>ranking</th>\n",
       "      <th>Record Count</th>\n",
       "    </tr>\n",
       "  </thead>\n",
       "  <tbody>\n",
       "    <tr>\n",
       "      <th>0</th>\n",
       "      <td>jrockway</td>\n",
       "      <td>Honestly, I would just like to get 3 sizes wit...</td>\n",
       "      <td>20</td>\n",
       "      <td>1</td>\n",
       "    </tr>\n",
       "    <tr>\n",
       "      <th>1</th>\n",
       "      <td>maxerickson</td>\n",
       "      <td>I would think the allusion is rooted in huntin...</td>\n",
       "      <td>1</td>\n",
       "      <td>1</td>\n",
       "    </tr>\n",
       "    <tr>\n",
       "      <th>2</th>\n",
       "      <td>tim333</td>\n",
       "      <td>I thought I&amp;#x27;d stick this thing up, partly...</td>\n",
       "      <td>0</td>\n",
       "      <td>1</td>\n",
       "    </tr>\n",
       "    <tr>\n",
       "      <th>3</th>\n",
       "      <td>nawitus</td>\n",
       "      <td>By the way, the e-voting system has multiple s...</td>\n",
       "      <td>2</td>\n",
       "      <td>1</td>\n",
       "    </tr>\n",
       "    <tr>\n",
       "      <th>4</th>\n",
       "      <td>waps</td>\n",
       "      <td>Did you ever know any manager, never mind a hi...</td>\n",
       "      <td>1</td>\n",
       "      <td>1</td>\n",
       "    </tr>\n",
       "  </tbody>\n",
       "</table>\n",
       "</div>"
      ],
      "text/plain": [
       "        author                                               text  ranking  \\\n",
       "0     jrockway  Honestly, I would just like to get 3 sizes wit...       20   \n",
       "1  maxerickson  I would think the allusion is rooted in huntin...        1   \n",
       "2       tim333  I thought I&#x27;d stick this thing up, partly...        0   \n",
       "3      nawitus  By the way, the e-voting system has multiple s...        2   \n",
       "4         waps  Did you ever know any manager, never mind a hi...        1   \n",
       "\n",
       "   Record Count  \n",
       "0             1  \n",
       "1             1  \n",
       "2             1  \n",
       "3             1  \n",
       "4             1  "
      ]
     },
     "execution_count": 4,
     "metadata": {},
     "output_type": "execute_result"
    }
   ],
   "source": [
    "news = pd.read_csv('https://github.com/EvidenceN/Hacker_News_Trolls/blob/master/top_hacker_authors_dataset/top_hacker_authors.csv?raw=true')\n",
    "news.head()"
   ]
  },
  {
   "cell_type": "code",
   "execution_count": 5,
   "metadata": {
    "colab": {
     "base_uri": "https://localhost:8080/",
     "height": 127
    },
    "colab_type": "code",
    "executionInfo": {
     "elapsed": 2464,
     "status": "ok",
     "timestamp": 1593038241580,
     "user": {
      "displayName": "Evidence Nwangwa",
      "photoUrl": "",
      "userId": "04661181054044885962"
     },
     "user_tz": 420
    },
    "id": "VK0L18ZnfVAQ",
    "outputId": "470e6e87-03ba-4726-d2a3-0ff9134e6be3"
   },
   "outputs": [
    {
     "data": {
      "text/plain": [
       "0    Honestly, I would just like to get 3 sizes wit...\n",
       "1    I would think the allusion is rooted in huntin...\n",
       "2    I thought I&#x27;d stick this thing up, partly...\n",
       "3    By the way, the e-voting system has multiple s...\n",
       "4    Did you ever know any manager, never mind a hi...\n",
       "Name: text, dtype: object"
      ]
     },
     "execution_count": 5,
     "metadata": {},
     "output_type": "execute_result"
    }
   ],
   "source": [
    "comment = news['text']\n",
    "comment[:5]"
   ]
  },
  {
   "cell_type": "code",
   "execution_count": 6,
   "metadata": {
    "colab": {
     "base_uri": "https://localhost:8080/",
     "height": 127
    },
    "colab_type": "code",
    "executionInfo": {
     "elapsed": 574,
     "status": "ok",
     "timestamp": 1593038242105,
     "user": {
      "displayName": "Evidence Nwangwa",
      "photoUrl": "",
      "userId": "04661181054044885962"
     },
     "user_tz": 420
    },
    "id": "VFESOpcLfu1B",
    "outputId": "aa6c919f-c4a0-4fd8-de44-14e8b9f6c807"
   },
   "outputs": [
    {
     "data": {
      "text/plain": [
       "0       jrockway\n",
       "1    maxerickson\n",
       "2         tim333\n",
       "3        nawitus\n",
       "4           waps\n",
       "Name: author, dtype: object"
      ]
     },
     "execution_count": 6,
     "metadata": {},
     "output_type": "execute_result"
    }
   ],
   "source": [
    "author = news['author']\n",
    "author[:5]"
   ]
  },
  {
   "cell_type": "markdown",
   "metadata": {
    "colab_type": "text",
    "id": "2_S5PHNKh5XZ"
   },
   "source": [
    "**Tokenizing the data**"
   ]
  },
  {
   "cell_type": "code",
   "execution_count": 7,
   "metadata": {
    "colab": {},
    "colab_type": "code",
    "executionInfo": {
     "elapsed": 9443,
     "status": "ok",
     "timestamp": 1593038253438,
     "user": {
      "displayName": "Evidence Nwangwa",
      "photoUrl": "",
      "userId": "04661181054044885962"
     },
     "user_tz": 420
    },
    "id": "vORnOmG-jsX5"
   },
   "outputs": [],
   "source": [
    "nlp = spacy.load(\"en_core_web_lg\")"
   ]
  },
  {
   "cell_type": "code",
   "execution_count": 8,
   "metadata": {
    "colab": {},
    "colab_type": "code",
    "executionInfo": {
     "elapsed": 3337,
     "status": "ok",
     "timestamp": 1593038253442,
     "user": {
      "displayName": "Evidence Nwangwa",
      "photoUrl": "",
      "userId": "04661181054044885962"
     },
     "user_tz": 420
    },
    "id": "yQ8SMoxqkt4E"
   },
   "outputs": [],
   "source": [
    "tokenizer = Tokenizer(nlp.vocab)"
   ]
  },
  {
   "cell_type": "markdown",
   "metadata": {
    "colab_type": "text",
    "id": "dTrRqyIy2Chs"
   },
   "source": [
    "**Using Vader Sentiment Analysis**"
   ]
  },
  {
   "cell_type": "code",
   "execution_count": 12,
   "metadata": {
    "colab": {},
    "colab_type": "code",
    "executionInfo": {
     "elapsed": 493,
     "status": "ok",
     "timestamp": 1593038253797,
     "user": {
      "displayName": "Evidence Nwangwa",
      "photoUrl": "",
      "userId": "04661181054044885962"
     },
     "user_tz": 420
    },
    "id": "HBd8BJxq2PHn"
   },
   "outputs": [],
   "source": [
    "import vaderSentiment"
   ]
  },
  {
   "cell_type": "code",
   "execution_count": 13,
   "metadata": {
    "colab": {},
    "colab_type": "code",
    "executionInfo": {
     "elapsed": 712,
     "status": "ok",
     "timestamp": 1593038266548,
     "user": {
      "displayName": "Evidence Nwangwa",
      "photoUrl": "",
      "userId": "04661181054044885962"
     },
     "user_tz": 420
    },
    "id": "7vna6wDY2SjC"
   },
   "outputs": [],
   "source": [
    "from vaderSentiment.vaderSentiment import SentimentIntensityAnalyzer"
   ]
  },
  {
   "cell_type": "code",
   "execution_count": 14,
   "metadata": {
    "colab": {},
    "colab_type": "code",
    "executionInfo": {
     "elapsed": 867,
     "status": "ok",
     "timestamp": 1593038268624,
     "user": {
      "displayName": "Evidence Nwangwa",
      "photoUrl": "",
      "userId": "04661181054044885962"
     },
     "user_tz": 420
    },
    "id": "rcObI-uo2pOK"
   },
   "outputs": [],
   "source": [
    "import vaderSentiment.vaderSentiment as vv"
   ]
  },
  {
   "cell_type": "code",
   "execution_count": 15,
   "metadata": {
    "colab": {
     "base_uri": "https://localhost:8080/",
     "height": 55
    },
    "colab_type": "code",
    "executionInfo": {
     "elapsed": 1300,
     "status": "ok",
     "timestamp": 1593038272020,
     "user": {
      "displayName": "Evidence Nwangwa",
      "photoUrl": "",
      "userId": "04661181054044885962"
     },
     "user_tz": 420
    },
    "id": "bnF2PwWR21A6",
    "outputId": "eb743034-c658-47a5-fdc0-400199af89d5"
   },
   "outputs": [
    {
     "data": {
      "text/plain": [
       "\"Honestly, I would just like to get 3 sizes with each shipment, try them all on, and pick the best... but without having to advance them 3x the cost of a pair of shoes.<p>I don't find returning to be a big deal.  You put the shoes back in the box they came in, print a label, and drop it off at the post office.   Still easier than going to a store, and once you know your size for a given brand, you don't have to do this anymore.<p>I've also found that shoe sizes don't really vary all that much, in my experience.  I wear size 11EE boots, 11EE running shoes, 11EE sneakers, and 11EE dress shoes.  I think the problem that a lot of people have is that they order standard-width shoes even though they don't have standard-width feet.  Then the fit comes down to how tight the laces are, etc.<p>But I digress.  Zappos will probably not go out of business if they don't buy this company.\""
      ]
     },
     "execution_count": 15,
     "metadata": {},
     "output_type": "execute_result"
    }
   ],
   "source": [
    "sample = comment[0]\n",
    "sample"
   ]
  },
  {
   "cell_type": "code",
   "execution_count": 16,
   "metadata": {
    "colab": {},
    "colab_type": "code",
    "executionInfo": {
     "elapsed": 1304,
     "status": "ok",
     "timestamp": 1593038276530,
     "user": {
      "displayName": "Evidence Nwangwa",
      "photoUrl": "",
      "userId": "04661181054044885962"
     },
     "user_tz": 420
    },
    "id": "V5KyEM6Q3TBJ"
   },
   "outputs": [],
   "source": [
    "score = SentimentIntensityAnalyzer()"
   ]
  },
  {
   "cell_type": "code",
   "execution_count": 17,
   "metadata": {
    "colab": {},
    "colab_type": "code",
    "id": "fDPVt0s23jKq"
   },
   "outputs": [
    {
     "name": "stdout",
     "output_type": "stream",
     "text": [
      "Help on SentimentIntensityAnalyzer in module vaderSentiment.vaderSentiment object:\n",
      "\n",
      "class SentimentIntensityAnalyzer(builtins.object)\n",
      " |  SentimentIntensityAnalyzer(lexicon_file='vader_lexicon.txt', emoji_lexicon='emoji_utf8_lexicon.txt')\n",
      " |  \n",
      " |  Give a sentiment intensity score to sentences.\n",
      " |  \n",
      " |  Methods defined here:\n",
      " |  \n",
      " |  __init__(self, lexicon_file='vader_lexicon.txt', emoji_lexicon='emoji_utf8_lexicon.txt')\n",
      " |      Initialize self.  See help(type(self)) for accurate signature.\n",
      " |  \n",
      " |  make_emoji_dict(self)\n",
      " |      Convert emoji lexicon file to a dictionary\n",
      " |  \n",
      " |  make_lex_dict(self)\n",
      " |      Convert lexicon file to a dictionary\n",
      " |  \n",
      " |  polarity_scores(self, text)\n",
      " |      Return a float for sentiment strength based on the input text.\n",
      " |      Positive values are positive valence, negative value are negative\n",
      " |      valence.\n",
      " |  \n",
      " |  score_valence(self, sentiments, text)\n",
      " |  \n",
      " |  sentiment_valence(self, valence, sentitext, item, i, sentiments)\n",
      " |  \n",
      " |  ----------------------------------------------------------------------\n",
      " |  Data descriptors defined here:\n",
      " |  \n",
      " |  __dict__\n",
      " |      dictionary for instance variables (if defined)\n",
      " |  \n",
      " |  __weakref__\n",
      " |      list of weak references to the object (if defined)\n",
      "\n"
     ]
    }
   ],
   "source": [
    "help(score)"
   ]
  },
  {
   "cell_type": "markdown",
   "metadata": {
    "colab_type": "text",
    "id": "jrHTdIOl4hDw"
   },
   "source": [
    "Rober Notebook https://github.com/BrokenShell/SaltyHacker/blob/master/nlp.py\n",
    "\n",
    "Vader Documentation\n",
    "\n",
    "https://pypi.org/project/vaderSentiment/"
   ]
  },
  {
   "cell_type": "code",
   "execution_count": 18,
   "metadata": {
    "colab": {
     "base_uri": "https://localhost:8080/",
     "height": 35
    },
    "colab_type": "code",
    "executionInfo": {
     "elapsed": 1296,
     "status": "ok",
     "timestamp": 1593038284531,
     "user": {
      "displayName": "Evidence Nwangwa",
      "photoUrl": "",
      "userId": "04661181054044885962"
     },
     "user_tz": 420
    },
    "id": "R3m4M3XZ3p0k",
    "outputId": "e56cc15d-736b-415f-abcf-6b7884b9b2d4"
   },
   "outputs": [
    {
     "data": {
      "text/plain": [
       "{'neg': 0.143, 'neu': 0.802, 'pos': 0.055, 'compound': -0.5423}"
      ]
     },
     "execution_count": 18,
     "metadata": {},
     "output_type": "execute_result"
    }
   ],
   "source": [
    "score.polarity_scores(comment[4])"
   ]
  },
  {
   "cell_type": "code",
   "execution_count": 19,
   "metadata": {
    "colab": {
     "base_uri": "https://localhost:8080/",
     "height": 55
    },
    "colab_type": "code",
    "executionInfo": {
     "elapsed": 818,
     "status": "ok",
     "timestamp": 1593038284862,
     "user": {
      "displayName": "Evidence Nwangwa",
      "photoUrl": "",
      "userId": "04661181054044885962"
     },
     "user_tz": 420
    },
    "id": "onWz0GxN5jZ-",
    "outputId": "5ac7f591-9fe4-443f-d832-576da7658ee9"
   },
   "outputs": [
    {
     "data": {
      "text/plain": [
       "'Did you ever know any manager, never mind a higher-up manager, that did even 3 of those things ?<p>Management is about money and favours, and about those things alone, and that&#x27;s why work sucks. The only way to get ahead is with threats and horsetrading.'"
      ]
     },
     "execution_count": 19,
     "metadata": {},
     "output_type": "execute_result"
    }
   ],
   "source": [
    "comment[4]"
   ]
  },
  {
   "cell_type": "code",
   "execution_count": 20,
   "metadata": {
    "colab": {
     "base_uri": "https://localhost:8080/",
     "height": 35
    },
    "colab_type": "code",
    "executionInfo": {
     "elapsed": 554,
     "status": "ok",
     "timestamp": 1593038286629,
     "user": {
      "displayName": "Evidence Nwangwa",
      "photoUrl": "",
      "userId": "04661181054044885962"
     },
     "user_tz": 420
    },
    "id": "WzPXq0Sk5rWy",
    "outputId": "5a398a42-cbd3-4ce5-8142-558ad2fdfa05"
   },
   "outputs": [
    {
     "data": {
      "text/plain": [
       "{'neg': 0.0, 'neu': 1.0, 'pos': 0.0, 'compound': 0.0}"
      ]
     },
     "execution_count": 20,
     "metadata": {},
     "output_type": "execute_result"
    }
   ],
   "source": [
    "score.polarity_scores(comment[10])"
   ]
  },
  {
   "cell_type": "code",
   "execution_count": 21,
   "metadata": {
    "colab": {
     "base_uri": "https://localhost:8080/",
     "height": 55
    },
    "colab_type": "code",
    "executionInfo": {
     "elapsed": 1329,
     "status": "ok",
     "timestamp": 1593038288873,
     "user": {
      "displayName": "Evidence Nwangwa",
      "photoUrl": "",
      "userId": "04661181054044885962"
     },
     "user_tz": 420
    },
    "id": "BZt_T9v2340I",
    "outputId": "0f0eaed1-2b61-4fdf-abe9-22d64259286a"
   },
   "outputs": [
    {
     "data": {
      "text/plain": [
       "\"Here in South Australia, it's often said (Wikipedia's source page from news.com.au is a 404 now though) that a particular brand of iced coffee out-sells Coke.\""
      ]
     },
     "execution_count": 21,
     "metadata": {},
     "output_type": "execute_result"
    }
   ],
   "source": [
    "comment[10]"
   ]
  },
  {
   "cell_type": "code",
   "execution_count": 22,
   "metadata": {
    "colab": {},
    "colab_type": "code",
    "id": "uMFNGC7K2r_m"
   },
   "outputs": [
    {
     "name": "stdout",
     "output_type": "stream",
     "text": [
      "Help on module vaderSentiment.vaderSentiment in vaderSentiment:\n",
      "\n",
      "NAME\n",
      "    vaderSentiment.vaderSentiment\n",
      "\n",
      "DESCRIPTION\n",
      "    If you use the VADER sentiment analysis tools, please cite:\n",
      "    Hutto, C.J. & Gilbert, E.E. (2014). VADER: A Parsimonious Rule-based Model for\n",
      "    Sentiment Analysis of Social Media Text. Eighth International Conference on\n",
      "    Weblogs and Social Media (ICWSM-14). Ann Arbor, MI, June 2014.\n",
      "\n",
      "CLASSES\n",
      "    builtins.object\n",
      "        SentiText\n",
      "        SentimentIntensityAnalyzer\n",
      "    \n",
      "    class SentiText(builtins.object)\n",
      "     |  SentiText(text)\n",
      "     |  \n",
      "     |  Identify sentiment-relevant string-level properties of input text.\n",
      "     |  \n",
      "     |  Methods defined here:\n",
      "     |  \n",
      "     |  __init__(self, text)\n",
      "     |      Initialize self.  See help(type(self)) for accurate signature.\n",
      "     |  \n",
      "     |  ----------------------------------------------------------------------\n",
      "     |  Data descriptors defined here:\n",
      "     |  \n",
      "     |  __dict__\n",
      "     |      dictionary for instance variables (if defined)\n",
      "     |  \n",
      "     |  __weakref__\n",
      "     |      list of weak references to the object (if defined)\n",
      "    \n",
      "    class SentimentIntensityAnalyzer(builtins.object)\n",
      "     |  SentimentIntensityAnalyzer(lexicon_file='vader_lexicon.txt', emoji_lexicon='emoji_utf8_lexicon.txt')\n",
      "     |  \n",
      "     |  Give a sentiment intensity score to sentences.\n",
      "     |  \n",
      "     |  Methods defined here:\n",
      "     |  \n",
      "     |  __init__(self, lexicon_file='vader_lexicon.txt', emoji_lexicon='emoji_utf8_lexicon.txt')\n",
      "     |      Initialize self.  See help(type(self)) for accurate signature.\n",
      "     |  \n",
      "     |  make_emoji_dict(self)\n",
      "     |      Convert emoji lexicon file to a dictionary\n",
      "     |  \n",
      "     |  make_lex_dict(self)\n",
      "     |      Convert lexicon file to a dictionary\n",
      "     |  \n",
      "     |  polarity_scores(self, text)\n",
      "     |      Return a float for sentiment strength based on the input text.\n",
      "     |      Positive values are positive valence, negative value are negative\n",
      "     |      valence.\n",
      "     |  \n",
      "     |  score_valence(self, sentiments, text)\n",
      "     |  \n",
      "     |  sentiment_valence(self, valence, sentitext, item, i, sentiments)\n",
      "     |  \n",
      "     |  ----------------------------------------------------------------------\n",
      "     |  Data descriptors defined here:\n",
      "     |  \n",
      "     |  __dict__\n",
      "     |      dictionary for instance variables (if defined)\n",
      "     |  \n",
      "     |  __weakref__\n",
      "     |      list of weak references to the object (if defined)\n",
      "\n",
      "FUNCTIONS\n",
      "    allcap_differential(words)\n",
      "        Check whether just some words in the input are ALL CAPS\n",
      "        :param list words: The words to inspect\n",
      "        :returns: `True` if some but not all items in `words` are ALL CAPS\n",
      "    \n",
      "    negated(input_words, include_nt=True)\n",
      "        Determine if input contains negation words\n",
      "    \n",
      "    normalize(score, alpha=15)\n",
      "        Normalize the score to be between -1 and 1 using an alpha that\n",
      "        approximates the max expected value\n",
      "    \n",
      "    open(file, mode='r', buffering=-1, encoding=None, errors=None, newline=None, closefd=True, opener=None)\n",
      "        Open file and return a stream.  Raise OSError upon failure.\n",
      "        \n",
      "        file is either a text or byte string giving the name (and the path\n",
      "        if the file isn't in the current working directory) of the file to\n",
      "        be opened or an integer file descriptor of the file to be\n",
      "        wrapped. (If a file descriptor is given, it is closed when the\n",
      "        returned I/O object is closed, unless closefd is set to False.)\n",
      "        \n",
      "        mode is an optional string that specifies the mode in which the file\n",
      "        is opened. It defaults to 'r' which means open for reading in text\n",
      "        mode.  Other common values are 'w' for writing (truncating the file if\n",
      "        it already exists), 'x' for creating and writing to a new file, and\n",
      "        'a' for appending (which on some Unix systems, means that all writes\n",
      "        append to the end of the file regardless of the current seek position).\n",
      "        In text mode, if encoding is not specified the encoding used is platform\n",
      "        dependent: locale.getpreferredencoding(False) is called to get the\n",
      "        current locale encoding. (For reading and writing raw bytes use binary\n",
      "        mode and leave encoding unspecified.) The available modes are:\n",
      "        \n",
      "        ========= ===============================================================\n",
      "        Character Meaning\n",
      "        --------- ---------------------------------------------------------------\n",
      "        'r'       open for reading (default)\n",
      "        'w'       open for writing, truncating the file first\n",
      "        'x'       create a new file and open it for writing\n",
      "        'a'       open for writing, appending to the end of the file if it exists\n",
      "        'b'       binary mode\n",
      "        't'       text mode (default)\n",
      "        '+'       open a disk file for updating (reading and writing)\n",
      "        'U'       universal newline mode (deprecated)\n",
      "        ========= ===============================================================\n",
      "        \n",
      "        The default mode is 'rt' (open for reading text). For binary random\n",
      "        access, the mode 'w+b' opens and truncates the file to 0 bytes, while\n",
      "        'r+b' opens the file without truncation. The 'x' mode implies 'w' and\n",
      "        raises an `FileExistsError` if the file already exists.\n",
      "        \n",
      "        Python distinguishes between files opened in binary and text modes,\n",
      "        even when the underlying operating system doesn't. Files opened in\n",
      "        binary mode (appending 'b' to the mode argument) return contents as\n",
      "        bytes objects without any decoding. In text mode (the default, or when\n",
      "        't' is appended to the mode argument), the contents of the file are\n",
      "        returned as strings, the bytes having been first decoded using a\n",
      "        platform-dependent encoding or using the specified encoding if given.\n",
      "        \n",
      "        'U' mode is deprecated and will raise an exception in future versions\n",
      "        of Python.  It has no effect in Python 3.  Use newline to control\n",
      "        universal newlines mode.\n",
      "        \n",
      "        buffering is an optional integer used to set the buffering policy.\n",
      "        Pass 0 to switch buffering off (only allowed in binary mode), 1 to select\n",
      "        line buffering (only usable in text mode), and an integer > 1 to indicate\n",
      "        the size of a fixed-size chunk buffer.  When no buffering argument is\n",
      "        given, the default buffering policy works as follows:\n",
      "        \n",
      "        * Binary files are buffered in fixed-size chunks; the size of the buffer\n",
      "          is chosen using a heuristic trying to determine the underlying device's\n",
      "          \"block size\" and falling back on `io.DEFAULT_BUFFER_SIZE`.\n",
      "          On many systems, the buffer will typically be 4096 or 8192 bytes long.\n",
      "        \n",
      "        * \"Interactive\" text files (files for which isatty() returns True)\n",
      "          use line buffering.  Other text files use the policy described above\n",
      "          for binary files.\n",
      "        \n",
      "        encoding is the name of the encoding used to decode or encode the\n",
      "        file. This should only be used in text mode. The default encoding is\n",
      "        platform dependent, but any encoding supported by Python can be\n",
      "        passed.  See the codecs module for the list of supported encodings.\n",
      "        \n",
      "        errors is an optional string that specifies how encoding errors are to\n",
      "        be handled---this argument should not be used in binary mode. Pass\n",
      "        'strict' to raise a ValueError exception if there is an encoding error\n",
      "        (the default of None has the same effect), or pass 'ignore' to ignore\n",
      "        errors. (Note that ignoring encoding errors can lead to data loss.)\n",
      "        See the documentation for codecs.register or run 'help(codecs.Codec)'\n",
      "        for a list of the permitted encoding error strings.\n",
      "        \n",
      "        newline controls how universal newlines works (it only applies to text\n",
      "        mode). It can be None, '', '\\n', '\\r', and '\\r\\n'.  It works as\n",
      "        follows:\n",
      "        \n",
      "        * On input, if newline is None, universal newlines mode is\n",
      "          enabled. Lines in the input can end in '\\n', '\\r', or '\\r\\n', and\n",
      "          these are translated into '\\n' before being returned to the\n",
      "          caller. If it is '', universal newline mode is enabled, but line\n",
      "          endings are returned to the caller untranslated. If it has any of\n",
      "          the other legal values, input lines are only terminated by the given\n",
      "          string, and the line ending is returned to the caller untranslated.\n",
      "        \n",
      "        * On output, if newline is None, any '\\n' characters written are\n",
      "          translated to the system default line separator, os.linesep. If\n",
      "          newline is '' or '\\n', no translation takes place. If newline is any\n",
      "          of the other legal values, any '\\n' characters written are translated\n",
      "          to the given string.\n",
      "        \n",
      "        If closefd is False, the underlying file descriptor will be kept open\n",
      "        when the file is closed. This does not work when a file name is given\n",
      "        and must be True in that case.\n",
      "        \n",
      "        A custom opener can be used by passing a callable as *opener*. The\n",
      "        underlying file descriptor for the file object is then obtained by\n",
      "        calling *opener* with (*file*, *flags*). *opener* must return an open\n",
      "        file descriptor (passing os.open as *opener* results in functionality\n",
      "        similar to passing None).\n",
      "        \n",
      "        open() returns a file object whose type depends on the mode, and\n",
      "        through which the standard file operations such as reading and writing\n",
      "        are performed. When open() is used to open a file in a text mode ('w',\n",
      "        'r', 'wt', 'rt', etc.), it returns a TextIOWrapper. When used to open\n",
      "        a file in a binary mode, the returned class varies: in read binary\n",
      "        mode, it returns a BufferedReader; in write binary and append binary\n",
      "        modes, it returns a BufferedWriter, and in read/write mode, it returns\n",
      "        a BufferedRandom.\n",
      "        \n",
      "        It is also possible to use a string or bytearray as a file for both\n",
      "        reading and writing. For strings StringIO can be used like a file\n",
      "        opened in a text mode, and for bytes a BytesIO can be used like a file\n",
      "        opened in a binary mode.\n",
      "    \n",
      "    scalar_inc_dec(word, valence, is_cap_diff)\n",
      "        Check if the preceding words increase, decrease, or negate/nullify the\n",
      "        valence\n",
      "\n",
      "DATA\n",
      "    BOOSTER_DICT = {'absolutely': 0.293, 'almost': -0.293, 'amazingly': 0....\n",
      "    B_DECR = -0.293\n",
      "    B_INCR = 0.293\n",
      "    C_INCR = 0.733\n",
      "    NEGATE = ['aint', 'arent', 'cannot', 'cant', 'couldnt', 'darent', 'did...\n",
      "    N_SCALAR = -0.74\n",
      "    SENTIMENT_LADEN_IDIOMS = {'back handed': -2, 'blow smoke': -2, 'blowin...\n",
      "    SPECIAL_CASES = {'bad ass': 1.5, 'badass': 1.5, 'beating heart': 3.5, ...\n",
      "\n",
      "FILE\n",
      "    c:\\users\\samsung\\anaconda3\\envs\\unit4-nlp\\lib\\site-packages\\vadersentiment\\vadersentiment.py\n",
      "\n",
      "\n"
     ]
    }
   ],
   "source": [
    "help(vv)"
   ]
  },
  {
   "cell_type": "code",
   "execution_count": 23,
   "metadata": {
    "colab": {
     "base_uri": "https://localhost:8080/",
     "height": 206
    },
    "colab_type": "code",
    "executionInfo": {
     "elapsed": 12737,
     "status": "ok",
     "timestamp": 1593038801172,
     "user": {
      "displayName": "Evidence Nwangwa",
      "photoUrl": "",
      "userId": "04661181054044885962"
     },
     "user_tz": 420
    },
    "id": "mYXqdup12tYN",
    "outputId": "7a8bc651-9e89-4ed5-ab42-b102a1dabf4a"
   },
   "outputs": [
    {
     "data": {
      "text/html": [
       "<div>\n",
       "<style scoped>\n",
       "    .dataframe tbody tr th:only-of-type {\n",
       "        vertical-align: middle;\n",
       "    }\n",
       "\n",
       "    .dataframe tbody tr th {\n",
       "        vertical-align: top;\n",
       "    }\n",
       "\n",
       "    .dataframe thead th {\n",
       "        text-align: right;\n",
       "    }\n",
       "</style>\n",
       "<table border=\"1\" class=\"dataframe\">\n",
       "  <thead>\n",
       "    <tr style=\"text-align: right;\">\n",
       "      <th></th>\n",
       "      <th>Unnamed: 0</th>\n",
       "      <th>hacker_name</th>\n",
       "      <th>hacker_comment</th>\n",
       "      <th>comment_saltiness</th>\n",
       "      <th>hacker_score</th>\n",
       "    </tr>\n",
       "  </thead>\n",
       "  <tbody>\n",
       "    <tr>\n",
       "      <th>0</th>\n",
       "      <td>0</td>\n",
       "      <td>DanBC</td>\n",
       "      <td>Drug use has clear links with violence althoug...</td>\n",
       "      <td>9996</td>\n",
       "      <td>247.11</td>\n",
       "    </tr>\n",
       "    <tr>\n",
       "      <th>1</th>\n",
       "      <td>1</td>\n",
       "      <td>waps</td>\n",
       "      <td>You failed to explain why the Sana'a manuscrip...</td>\n",
       "      <td>9996</td>\n",
       "      <td>-684.35</td>\n",
       "    </tr>\n",
       "    <tr>\n",
       "      <th>2</th>\n",
       "      <td>2</td>\n",
       "      <td>AnthonyMouse</td>\n",
       "      <td>How do you stop another oklahoma cityI think t...</td>\n",
       "      <td>9995</td>\n",
       "      <td>507.01</td>\n",
       "    </tr>\n",
       "    <tr>\n",
       "      <th>3</th>\n",
       "      <td>3</td>\n",
       "      <td>michaelochurch</td>\n",
       "      <td>Can you think of any constructive ways forward...</td>\n",
       "      <td>9994</td>\n",
       "      <td>-932.92</td>\n",
       "    </tr>\n",
       "    <tr>\n",
       "      <th>4</th>\n",
       "      <td>4</td>\n",
       "      <td>paulhauggis</td>\n",
       "      <td>These sorts of articles do nothing to help the...</td>\n",
       "      <td>9994</td>\n",
       "      <td>-832.11</td>\n",
       "    </tr>\n",
       "  </tbody>\n",
       "</table>\n",
       "</div>"
      ],
      "text/plain": [
       "   Unnamed: 0     hacker_name  \\\n",
       "0           0           DanBC   \n",
       "1           1            waps   \n",
       "2           2    AnthonyMouse   \n",
       "3           3  michaelochurch   \n",
       "4           4     paulhauggis   \n",
       "\n",
       "                                      hacker_comment  comment_saltiness  \\\n",
       "0  Drug use has clear links with violence althoug...               9996   \n",
       "1  You failed to explain why the Sana'a manuscrip...               9996   \n",
       "2  How do you stop another oklahoma cityI think t...               9995   \n",
       "3  Can you think of any constructive ways forward...               9994   \n",
       "4  These sorts of articles do nothing to help the...               9994   \n",
       "\n",
       "   hacker_score  \n",
       "0        247.11  \n",
       "1       -684.35  \n",
       "2        507.01  \n",
       "3       -932.92  \n",
       "4       -832.11  "
      ]
     },
     "execution_count": 23,
     "metadata": {},
     "output_type": "execute_result"
    }
   ],
   "source": [
    "cleaned = pd.read_csv(\"https://raw.githubusercontent.com/buildweek-saltiest-hacker/data-engineering-api/master/hacker-comments.csv\")\n",
    "\n",
    "cleaned.head()"
   ]
  },
  {
   "cell_type": "code",
   "execution_count": 24,
   "metadata": {
    "colab": {
     "base_uri": "https://localhost:8080/",
     "height": 127
    },
    "colab_type": "code",
    "executionInfo": {
     "elapsed": 1355,
     "status": "ok",
     "timestamp": 1593039061796,
     "user": {
      "displayName": "Evidence Nwangwa",
      "photoUrl": "",
      "userId": "04661181054044885962"
     },
     "user_tz": 420
    },
    "id": "jNi5DbE_gtQP",
    "outputId": "164f0298-7925-4188-8cd6-72078ba796cf"
   },
   "outputs": [
    {
     "data": {
      "text/plain": [
       "0    Drug use has clear links with violence althoug...\n",
       "1    You failed to explain why the Sana'a manuscrip...\n",
       "2    How do you stop another oklahoma cityI think t...\n",
       "3    Can you think of any constructive ways forward...\n",
       "4    These sorts of articles do nothing to help the...\n",
       "Name: hacker_comment, dtype: object"
      ]
     },
     "execution_count": 24,
     "metadata": {},
     "output_type": "execute_result"
    }
   ],
   "source": [
    "text = cleaned['hacker_comment']\n",
    "\n",
    "sample_text = text[:5]\n",
    "sample_text"
   ]
  },
  {
   "cell_type": "code",
   "execution_count": 25,
   "metadata": {
    "colab": {
     "base_uri": "https://localhost:8080/",
     "height": 35
    },
    "colab_type": "code",
    "executionInfo": {
     "elapsed": 1299,
     "status": "ok",
     "timestamp": 1593039828045,
     "user": {
      "displayName": "Evidence Nwangwa",
      "photoUrl": "",
      "userId": "04661181054044885962"
     },
     "user_tz": 420
    },
    "id": "yTSeasJ5hv0Z",
    "outputId": "82e57dc1-4107-48ea-c192-90466eb21237"
   },
   "outputs": [
    {
     "data": {
      "text/plain": [
       "[-10.0, -10.0, -10.0, -9.99, -9.99]"
      ]
     },
     "execution_count": 25,
     "metadata": {},
     "output_type": "execute_result"
    }
   ],
   "source": [
    "sample_list = []\n",
    "for i in sample_text:\n",
    "  a = score.polarity_scores(i)\n",
    "  b = a['compound']\n",
    "  c = round(b*10, 2)\n",
    "  sample_list.append(c)\n",
    "\n",
    "sample_list"
   ]
  },
  {
   "cell_type": "markdown",
   "metadata": {
    "colab_type": "text",
    "id": "cngsXpBWlHJ4"
   },
   "source": [
    "Creating a the ranking for each comment."
   ]
  },
  {
   "cell_type": "code",
   "execution_count": 26,
   "metadata": {
    "colab": {
     "base_uri": "https://localhost:8080/",
     "height": 206
    },
    "colab_type": "code",
    "executionInfo": {
     "elapsed": 396,
     "status": "ok",
     "timestamp": 1593040562420,
     "user": {
      "displayName": "Evidence Nwangwa",
      "photoUrl": "",
      "userId": "04661181054044885962"
     },
     "user_tz": 420
    },
    "id": "doviW5lji0Dn",
    "outputId": "2e73b742-503d-4958-9500-46656858e59e"
   },
   "outputs": [
    {
     "data": {
      "text/html": [
       "<div>\n",
       "<style scoped>\n",
       "    .dataframe tbody tr th:only-of-type {\n",
       "        vertical-align: middle;\n",
       "    }\n",
       "\n",
       "    .dataframe tbody tr th {\n",
       "        vertical-align: top;\n",
       "    }\n",
       "\n",
       "    .dataframe thead th {\n",
       "        text-align: right;\n",
       "    }\n",
       "</style>\n",
       "<table border=\"1\" class=\"dataframe\">\n",
       "  <thead>\n",
       "    <tr style=\"text-align: right;\">\n",
       "      <th></th>\n",
       "      <th>Name</th>\n",
       "      <th>Comment</th>\n",
       "    </tr>\n",
       "  </thead>\n",
       "  <tbody>\n",
       "    <tr>\n",
       "      <th>0</th>\n",
       "      <td>DanBC</td>\n",
       "      <td>Drug use has clear links with violence althoug...</td>\n",
       "    </tr>\n",
       "    <tr>\n",
       "      <th>1</th>\n",
       "      <td>waps</td>\n",
       "      <td>You failed to explain why the Sana'a manuscrip...</td>\n",
       "    </tr>\n",
       "    <tr>\n",
       "      <th>2</th>\n",
       "      <td>AnthonyMouse</td>\n",
       "      <td>How do you stop another oklahoma cityI think t...</td>\n",
       "    </tr>\n",
       "    <tr>\n",
       "      <th>3</th>\n",
       "      <td>michaelochurch</td>\n",
       "      <td>Can you think of any constructive ways forward...</td>\n",
       "    </tr>\n",
       "    <tr>\n",
       "      <th>4</th>\n",
       "      <td>paulhauggis</td>\n",
       "      <td>These sorts of articles do nothing to help the...</td>\n",
       "    </tr>\n",
       "  </tbody>\n",
       "</table>\n",
       "</div>"
      ],
      "text/plain": [
       "             Name                                            Comment\n",
       "0           DanBC  Drug use has clear links with violence althoug...\n",
       "1            waps  You failed to explain why the Sana'a manuscrip...\n",
       "2    AnthonyMouse  How do you stop another oklahoma cityI think t...\n",
       "3  michaelochurch  Can you think of any constructive ways forward...\n",
       "4     paulhauggis  These sorts of articles do nothing to help the..."
      ]
     },
     "execution_count": 26,
     "metadata": {},
     "output_type": "execute_result"
    }
   ],
   "source": [
    "# creating a new dataframe that just has the information needed\n",
    "\n",
    "text = cleaned['hacker_comment']\n",
    "name = cleaned['hacker_name']\n",
    "\n",
    "salty_hackers = pd.DataFrame({\n",
    "    'Name':name,\n",
    "    'Comment': text\n",
    "})\n",
    "\n",
    "salty_hackers.head()"
   ]
  },
  {
   "cell_type": "code",
   "execution_count": 27,
   "metadata": {
    "colab": {},
    "colab_type": "code",
    "executionInfo": {
     "elapsed": 173106,
     "status": "ok",
     "timestamp": 1593041310109,
     "user": {
      "displayName": "Evidence Nwangwa",
      "photoUrl": "",
      "userId": "04661181054044885962"
     },
     "user_tz": 420
    },
    "id": "TyVZs5M4jwNM"
   },
   "outputs": [],
   "source": [
    "comment = salty_hackers['Comment']\n",
    "\n",
    "ranking = []\n",
    "\n",
    "for i in comment:\n",
    "  scores = score.polarity_scores(i)\n",
    "  final_score = scores['compound']\n",
    "  rounded_score = round(final_score*10, 2)\n",
    "  ranking.append(rounded_score)"
   ]
  },
  {
   "cell_type": "code",
   "execution_count": 28,
   "metadata": {
    "colab": {},
    "colab_type": "code",
    "executionInfo": {
     "elapsed": 1536,
     "status": "ok",
     "timestamp": 1593041315826,
     "user": {
      "displayName": "Evidence Nwangwa",
      "photoUrl": "",
      "userId": "04661181054044885962"
     },
     "user_tz": 420
    },
    "id": "kpqzp4QZn-qC"
   },
   "outputs": [],
   "source": [
    "salty_hackers['comment_ranking'] = ranking"
   ]
  },
  {
   "cell_type": "code",
   "execution_count": 29,
   "metadata": {
    "colab": {
     "base_uri": "https://localhost:8080/",
     "height": 206
    },
    "colab_type": "code",
    "executionInfo": {
     "elapsed": 675,
     "status": "ok",
     "timestamp": 1593041317905,
     "user": {
      "displayName": "Evidence Nwangwa",
      "photoUrl": "",
      "userId": "04661181054044885962"
     },
     "user_tz": 420
    },
    "id": "3k7aDOyVoFFn",
    "outputId": "52eeaa8e-f458-426b-d5eb-74309bd9a6c6"
   },
   "outputs": [
    {
     "data": {
      "text/html": [
       "<div>\n",
       "<style scoped>\n",
       "    .dataframe tbody tr th:only-of-type {\n",
       "        vertical-align: middle;\n",
       "    }\n",
       "\n",
       "    .dataframe tbody tr th {\n",
       "        vertical-align: top;\n",
       "    }\n",
       "\n",
       "    .dataframe thead th {\n",
       "        text-align: right;\n",
       "    }\n",
       "</style>\n",
       "<table border=\"1\" class=\"dataframe\">\n",
       "  <thead>\n",
       "    <tr style=\"text-align: right;\">\n",
       "      <th></th>\n",
       "      <th>Name</th>\n",
       "      <th>Comment</th>\n",
       "      <th>comment_ranking</th>\n",
       "    </tr>\n",
       "  </thead>\n",
       "  <tbody>\n",
       "    <tr>\n",
       "      <th>0</th>\n",
       "      <td>DanBC</td>\n",
       "      <td>Drug use has clear links with violence althoug...</td>\n",
       "      <td>-10.00</td>\n",
       "    </tr>\n",
       "    <tr>\n",
       "      <th>1</th>\n",
       "      <td>waps</td>\n",
       "      <td>You failed to explain why the Sana'a manuscrip...</td>\n",
       "      <td>-10.00</td>\n",
       "    </tr>\n",
       "    <tr>\n",
       "      <th>2</th>\n",
       "      <td>AnthonyMouse</td>\n",
       "      <td>How do you stop another oklahoma cityI think t...</td>\n",
       "      <td>-10.00</td>\n",
       "    </tr>\n",
       "    <tr>\n",
       "      <th>3</th>\n",
       "      <td>michaelochurch</td>\n",
       "      <td>Can you think of any constructive ways forward...</td>\n",
       "      <td>-9.99</td>\n",
       "    </tr>\n",
       "    <tr>\n",
       "      <th>4</th>\n",
       "      <td>paulhauggis</td>\n",
       "      <td>These sorts of articles do nothing to help the...</td>\n",
       "      <td>-9.99</td>\n",
       "    </tr>\n",
       "  </tbody>\n",
       "</table>\n",
       "</div>"
      ],
      "text/plain": [
       "             Name                                            Comment  \\\n",
       "0           DanBC  Drug use has clear links with violence althoug...   \n",
       "1            waps  You failed to explain why the Sana'a manuscrip...   \n",
       "2    AnthonyMouse  How do you stop another oklahoma cityI think t...   \n",
       "3  michaelochurch  Can you think of any constructive ways forward...   \n",
       "4     paulhauggis  These sorts of articles do nothing to help the...   \n",
       "\n",
       "   comment_ranking  \n",
       "0           -10.00  \n",
       "1           -10.00  \n",
       "2           -10.00  \n",
       "3            -9.99  \n",
       "4            -9.99  "
      ]
     },
     "execution_count": 29,
     "metadata": {},
     "output_type": "execute_result"
    }
   ],
   "source": [
    "salty_hackers.head()"
   ]
  },
  {
   "cell_type": "code",
   "execution_count": 30,
   "metadata": {
    "colab": {
     "base_uri": "https://localhost:8080/",
     "height": 363
    },
    "colab_type": "code",
    "executionInfo": {
     "elapsed": 1454,
     "status": "ok",
     "timestamp": 1593041325592,
     "user": {
      "displayName": "Evidence Nwangwa",
      "photoUrl": "",
      "userId": "04661181054044885962"
     },
     "user_tz": 420
    },
    "id": "lGUMMfyNoIht",
    "outputId": "5e9cfe21-d2f9-4464-8b02-751a70dafa93"
   },
   "outputs": [
    {
     "data": {
      "text/html": [
       "<div>\n",
       "<style scoped>\n",
       "    .dataframe tbody tr th:only-of-type {\n",
       "        vertical-align: middle;\n",
       "    }\n",
       "\n",
       "    .dataframe tbody tr th {\n",
       "        vertical-align: top;\n",
       "    }\n",
       "\n",
       "    .dataframe thead th {\n",
       "        text-align: right;\n",
       "    }\n",
       "</style>\n",
       "<table border=\"1\" class=\"dataframe\">\n",
       "  <thead>\n",
       "    <tr style=\"text-align: right;\">\n",
       "      <th></th>\n",
       "      <th>Name</th>\n",
       "      <th>Comment</th>\n",
       "      <th>comment_ranking</th>\n",
       "    </tr>\n",
       "  </thead>\n",
       "  <tbody>\n",
       "    <tr>\n",
       "      <th>0</th>\n",
       "      <td>DanBC</td>\n",
       "      <td>Drug use has clear links with violence althoug...</td>\n",
       "      <td>-10.00</td>\n",
       "    </tr>\n",
       "    <tr>\n",
       "      <th>1</th>\n",
       "      <td>waps</td>\n",
       "      <td>You failed to explain why the Sana'a manuscrip...</td>\n",
       "      <td>-10.00</td>\n",
       "    </tr>\n",
       "    <tr>\n",
       "      <th>2</th>\n",
       "      <td>AnthonyMouse</td>\n",
       "      <td>How do you stop another oklahoma cityI think t...</td>\n",
       "      <td>-10.00</td>\n",
       "    </tr>\n",
       "    <tr>\n",
       "      <th>3</th>\n",
       "      <td>michaelochurch</td>\n",
       "      <td>Can you think of any constructive ways forward...</td>\n",
       "      <td>-9.99</td>\n",
       "    </tr>\n",
       "    <tr>\n",
       "      <th>4</th>\n",
       "      <td>paulhauggis</td>\n",
       "      <td>These sorts of articles do nothing to help the...</td>\n",
       "      <td>-9.99</td>\n",
       "    </tr>\n",
       "    <tr>\n",
       "      <th>5</th>\n",
       "      <td>grey-area</td>\n",
       "      <td>Let's consider a specific example:http://www.n...</td>\n",
       "      <td>-9.99</td>\n",
       "    </tr>\n",
       "    <tr>\n",
       "      <th>6</th>\n",
       "      <td>danso</td>\n",
       "      <td>I don't know what it's like to be raped or sex...</td>\n",
       "      <td>-9.99</td>\n",
       "    </tr>\n",
       "    <tr>\n",
       "      <th>7</th>\n",
       "      <td>pdonis</td>\n",
       "      <td>Are you actually serious? Not joking?No, I'm n...</td>\n",
       "      <td>-9.99</td>\n",
       "    </tr>\n",
       "    <tr>\n",
       "      <th>8</th>\n",
       "      <td>lionhearted</td>\n",
       "      <td>The person who stole it clearly needed it more...</td>\n",
       "      <td>-9.99</td>\n",
       "    </tr>\n",
       "    <tr>\n",
       "      <th>9</th>\n",
       "      <td>pyre</td>\n",
       "      <td>Regarding producing oil from livestock, you'll...</td>\n",
       "      <td>-9.99</td>\n",
       "    </tr>\n",
       "  </tbody>\n",
       "</table>\n",
       "</div>"
      ],
      "text/plain": [
       "             Name                                            Comment  \\\n",
       "0           DanBC  Drug use has clear links with violence althoug...   \n",
       "1            waps  You failed to explain why the Sana'a manuscrip...   \n",
       "2    AnthonyMouse  How do you stop another oklahoma cityI think t...   \n",
       "3  michaelochurch  Can you think of any constructive ways forward...   \n",
       "4     paulhauggis  These sorts of articles do nothing to help the...   \n",
       "5       grey-area  Let's consider a specific example:http://www.n...   \n",
       "6           danso  I don't know what it's like to be raped or sex...   \n",
       "7          pdonis  Are you actually serious? Not joking?No, I'm n...   \n",
       "8     lionhearted  The person who stole it clearly needed it more...   \n",
       "9            pyre  Regarding producing oil from livestock, you'll...   \n",
       "\n",
       "   comment_ranking  \n",
       "0           -10.00  \n",
       "1           -10.00  \n",
       "2           -10.00  \n",
       "3            -9.99  \n",
       "4            -9.99  \n",
       "5            -9.99  \n",
       "6            -9.99  \n",
       "7            -9.99  \n",
       "8            -9.99  \n",
       "9            -9.99  "
      ]
     },
     "execution_count": 30,
     "metadata": {},
     "output_type": "execute_result"
    }
   ],
   "source": [
    "sample_data = salty_hackers.iloc[:10]\n",
    "sample_data"
   ]
  },
  {
   "cell_type": "code",
   "execution_count": 31,
   "metadata": {
    "colab": {
     "base_uri": "https://localhost:8080/",
     "height": 183
    },
    "colab_type": "code",
    "executionInfo": {
     "elapsed": 1564,
     "status": "ok",
     "timestamp": 1593041329439,
     "user": {
      "displayName": "Evidence Nwangwa",
      "photoUrl": "",
      "userId": "04661181054044885962"
     },
     "user_tz": 420
    },
    "id": "ItYYv5x9o8Cj",
    "outputId": "bbd43efe-22cd-467a-d1a2-ac58b860cf00"
   },
   "outputs": [
    {
     "data": {
      "text/plain": [
       "count    230703.000000\n",
       "mean          1.862038\n",
       "std           5.451271\n",
       "min         -10.000000\n",
       "25%          -1.780000\n",
       "50%           2.230000\n",
       "75%           6.700000\n",
       "max          10.000000\n",
       "Name: comment_ranking, dtype: float64"
      ]
     },
     "execution_count": 31,
     "metadata": {},
     "output_type": "execute_result"
    }
   ],
   "source": [
    "salty_hackers['comment_ranking'].describe()"
   ]
  },
  {
   "cell_type": "code",
   "execution_count": 32,
   "metadata": {
    "colab": {
     "base_uri": "https://localhost:8080/",
     "height": 455
    },
    "colab_type": "code",
    "executionInfo": {
     "elapsed": 1455,
     "status": "ok",
     "timestamp": 1593041704214,
     "user": {
      "displayName": "Evidence Nwangwa",
      "photoUrl": "",
      "userId": "04661181054044885962"
     },
     "user_tz": 420
    },
    "id": "XP9C0bvbpWC1",
    "outputId": "19560697-0cd0-48da-c7b5-c0e38de433dc"
   },
   "outputs": [
    {
     "data": {
      "text/html": [
       "<div>\n",
       "<style scoped>\n",
       "    .dataframe tbody tr th:only-of-type {\n",
       "        vertical-align: middle;\n",
       "    }\n",
       "\n",
       "    .dataframe tbody tr th {\n",
       "        vertical-align: top;\n",
       "    }\n",
       "\n",
       "    .dataframe thead th {\n",
       "        text-align: right;\n",
       "    }\n",
       "</style>\n",
       "<table border=\"1\" class=\"dataframe\">\n",
       "  <thead>\n",
       "    <tr style=\"text-align: right;\">\n",
       "      <th></th>\n",
       "      <th>comment_ranking</th>\n",
       "    </tr>\n",
       "    <tr>\n",
       "      <th>Name</th>\n",
       "      <th></th>\n",
       "    </tr>\n",
       "  </thead>\n",
       "  <tbody>\n",
       "    <tr>\n",
       "      <th>001sky</th>\n",
       "      <td>1.589093</td>\n",
       "    </tr>\n",
       "    <tr>\n",
       "      <th>0x0</th>\n",
       "      <td>1.337746</td>\n",
       "    </tr>\n",
       "    <tr>\n",
       "      <th>10ren</th>\n",
       "      <td>4.157703</td>\n",
       "    </tr>\n",
       "    <tr>\n",
       "      <th>3pt14159</th>\n",
       "      <td>2.552662</td>\n",
       "    </tr>\n",
       "    <tr>\n",
       "      <th>6ren</th>\n",
       "      <td>3.444013</td>\n",
       "    </tr>\n",
       "    <tr>\n",
       "      <th>...</th>\n",
       "      <td>...</td>\n",
       "    </tr>\n",
       "    <tr>\n",
       "      <th>zdw</th>\n",
       "      <td>1.959259</td>\n",
       "    </tr>\n",
       "    <tr>\n",
       "      <th>zem</th>\n",
       "      <td>3.512906</td>\n",
       "    </tr>\n",
       "    <tr>\n",
       "      <th>zo1</th>\n",
       "      <td>2.449098</td>\n",
       "    </tr>\n",
       "    <tr>\n",
       "      <th>zobzu</th>\n",
       "      <td>2.499911</td>\n",
       "    </tr>\n",
       "    <tr>\n",
       "      <th>zokier</th>\n",
       "      <td>1.504020</td>\n",
       "    </tr>\n",
       "  </tbody>\n",
       "</table>\n",
       "<p>1000 rows × 1 columns</p>\n",
       "</div>"
      ],
      "text/plain": [
       "          comment_ranking\n",
       "Name                     \n",
       "001sky           1.589093\n",
       "0x0              1.337746\n",
       "10ren            4.157703\n",
       "3pt14159         2.552662\n",
       "6ren             3.444013\n",
       "...                   ...\n",
       "zdw              1.959259\n",
       "zem              3.512906\n",
       "zo1              2.449098\n",
       "zobzu            2.499911\n",
       "zokier           1.504020\n",
       "\n",
       "[1000 rows x 1 columns]"
      ]
     },
     "execution_count": 32,
     "metadata": {},
     "output_type": "execute_result"
    }
   ],
   "source": [
    "average = salty_hackers.groupby(by='Name').mean()\n",
    "average"
   ]
  },
  {
   "cell_type": "code",
   "execution_count": 33,
   "metadata": {
    "colab": {
     "base_uri": "https://localhost:8080/",
     "height": 394
    },
    "colab_type": "code",
    "executionInfo": {
     "elapsed": 1378,
     "status": "ok",
     "timestamp": 1593041738139,
     "user": {
      "displayName": "Evidence Nwangwa",
      "photoUrl": "",
      "userId": "04661181054044885962"
     },
     "user_tz": 420
    },
    "id": "ehrww_Ztqq5j",
    "outputId": "109feab6-e6ed-4b95-883a-b50db3f8808c"
   },
   "outputs": [
    {
     "data": {
      "text/html": [
       "<div>\n",
       "<style scoped>\n",
       "    .dataframe tbody tr th:only-of-type {\n",
       "        vertical-align: middle;\n",
       "    }\n",
       "\n",
       "    .dataframe tbody tr th {\n",
       "        vertical-align: top;\n",
       "    }\n",
       "\n",
       "    .dataframe thead th {\n",
       "        text-align: right;\n",
       "    }\n",
       "</style>\n",
       "<table border=\"1\" class=\"dataframe\">\n",
       "  <thead>\n",
       "    <tr style=\"text-align: right;\">\n",
       "      <th></th>\n",
       "      <th>comment_ranking</th>\n",
       "    </tr>\n",
       "    <tr>\n",
       "      <th>Name</th>\n",
       "      <th></th>\n",
       "    </tr>\n",
       "  </thead>\n",
       "  <tbody>\n",
       "    <tr>\n",
       "      <th>001sky</th>\n",
       "      <td>1.589093</td>\n",
       "    </tr>\n",
       "    <tr>\n",
       "      <th>0x0</th>\n",
       "      <td>1.337746</td>\n",
       "    </tr>\n",
       "    <tr>\n",
       "      <th>10ren</th>\n",
       "      <td>4.157703</td>\n",
       "    </tr>\n",
       "    <tr>\n",
       "      <th>3pt14159</th>\n",
       "      <td>2.552662</td>\n",
       "    </tr>\n",
       "    <tr>\n",
       "      <th>6ren</th>\n",
       "      <td>3.444013</td>\n",
       "    </tr>\n",
       "    <tr>\n",
       "      <th>Alex3917</th>\n",
       "      <td>1.733708</td>\n",
       "    </tr>\n",
       "    <tr>\n",
       "      <th>Alupis</th>\n",
       "      <td>2.168095</td>\n",
       "    </tr>\n",
       "    <tr>\n",
       "      <th>AndrewDucker</th>\n",
       "      <td>2.395503</td>\n",
       "    </tr>\n",
       "    <tr>\n",
       "      <th>AnimalMuppet</th>\n",
       "      <td>1.426772</td>\n",
       "    </tr>\n",
       "    <tr>\n",
       "      <th>Animats</th>\n",
       "      <td>0.879325</td>\n",
       "    </tr>\n",
       "  </tbody>\n",
       "</table>\n",
       "</div>"
      ],
      "text/plain": [
       "              comment_ranking\n",
       "Name                         \n",
       "001sky               1.589093\n",
       "0x0                  1.337746\n",
       "10ren                4.157703\n",
       "3pt14159             2.552662\n",
       "6ren                 3.444013\n",
       "Alex3917             1.733708\n",
       "Alupis               2.168095\n",
       "AndrewDucker         2.395503\n",
       "AnimalMuppet         1.426772\n",
       "Animats              0.879325"
      ]
     },
     "execution_count": 33,
     "metadata": {},
     "output_type": "execute_result"
    }
   ],
   "source": [
    "average[:10]"
   ]
  },
  {
   "cell_type": "code",
   "execution_count": 34,
   "metadata": {
    "colab": {
     "base_uri": "https://localhost:8080/",
     "height": 256
    },
    "colab_type": "code",
    "executionInfo": {
     "elapsed": 1312,
     "status": "ok",
     "timestamp": 1593041929890,
     "user": {
      "displayName": "Evidence Nwangwa",
      "photoUrl": "",
      "userId": "04661181054044885962"
     },
     "user_tz": 420
    },
    "id": "rVR70hK6r5kz",
    "outputId": "521a8c11-995d-4173-e324-ac26092d570c"
   },
   "outputs": [
    {
     "data": {
      "text/plain": [
       "Name\n",
       "001sky      1.589093\n",
       "0x0         1.337746\n",
       "10ren       4.157703\n",
       "3pt14159    2.552662\n",
       "6ren        3.444013\n",
       "              ...   \n",
       "zdw         1.959259\n",
       "zem         3.512906\n",
       "zo1         2.449098\n",
       "zobzu       2.499911\n",
       "zokier      1.504020\n",
       "Name: comment_ranking, Length: 1000, dtype: float64"
      ]
     },
     "execution_count": 34,
     "metadata": {},
     "output_type": "execute_result"
    }
   ],
   "source": [
    "average['comment_ranking']"
   ]
  },
  {
   "cell_type": "code",
   "execution_count": 35,
   "metadata": {
    "colab": {
     "base_uri": "https://localhost:8080/",
     "height": 1000
    },
    "colab_type": "code",
    "executionInfo": {
     "elapsed": 1377,
     "status": "ok",
     "timestamp": 1593042249052,
     "user": {
      "displayName": "Evidence Nwangwa",
      "photoUrl": "",
      "userId": "04661181054044885962"
     },
     "user_tz": 420
    },
    "id": "JmWfe9kctZV5",
    "outputId": "b0936583-0fe0-42fb-ebf0-089f2fae9fbb"
   },
   "outputs": [
    {
     "data": {
      "text/plain": [
       "{'001sky': 1.5890934844192632,\n",
       " '0x0': 1.3377456647398849,\n",
       " '10ren': 4.157702702702702,\n",
       " '3pt14159': 2.5526623376623383,\n",
       " '6ren': 3.4440131578947377,\n",
       " 'Alex3917': 1.7337075718015653,\n",
       " 'Alupis': 2.1680952380952383,\n",
       " 'AndrewDucker': 2.395503355704698,\n",
       " 'AnimalMuppet': 1.4267721518987346,\n",
       " 'Animats': 0.8793248945147676,\n",
       " 'AnthonyMouse': -0.507068062827225,\n",
       " 'Apocryphon': 0.8412173913043476,\n",
       " 'Argorak': 2.6918018018018013,\n",
       " 'AznHisoka': 2.368947368421053,\n",
       " 'BrandonM': 3.724186046511628,\n",
       " 'CWuestefeld': 1.637821782178218,\n",
       " 'CamperBob': 1.605909090909092,\n",
       " 'CamperBob2': 1.3114220183486252,\n",
       " 'ChuckMcM': 3.668179723502303,\n",
       " 'CmonDev': 1.5765467625899283,\n",
       " 'ColinWright': 2.152369477911647,\n",
       " 'ComputerGuru': 1.832722222222222,\n",
       " 'Confusion': 0.8523394495412849,\n",
       " 'Crito': 0.19444852941176508,\n",
       " 'Cushman': 2.694,\n",
       " 'DanBC': -0.24710134128167272,\n",
       " 'DaniFong': 3.5959259259259277,\n",
       " 'DanielBMarkham': 3.6512701252236135,\n",
       " 'DanielStraight': 2.1638392857142854,\n",
       " 'Daniel_Newby': -0.4157758620689647,\n",
       " 'DannoHung': 1.3976335877862591,\n",
       " 'DannyBee': 1.2896216216216212,\n",
       " 'DenisM': 1.8625416666666663,\n",
       " 'DennisP': 2.208750000000001,\n",
       " 'Dewie': 2.1398351648351652,\n",
       " 'DigitalSea': 3.346733333333334,\n",
       " 'DrJokepu': 1.618849557522124,\n",
       " 'Dylan16807': 0.0738303341902333,\n",
       " 'EGreg': 2.8294230769230775,\n",
       " 'EliRivers': 1.5876612903225809,\n",
       " 'ErrantX': 1.585858585858585,\n",
       " 'Estragon': 1.526153846153846,\n",
       " 'Evbn': 1.1792026578073103,\n",
       " 'FireBeyond': 0.5876576576576588,\n",
       " 'Florin_Andrei': 2.148157894736842,\n",
       " 'FooBarWidget': 1.5730578512396693,\n",
       " 'ForHackernews': 1.9067543859649125,\n",
       " 'GFK_of_xmaspast': 0.31908536585365876,\n",
       " 'GFischer': 3.309732620320856,\n",
       " 'GHFigs': 1.3352604166666666,\n",
       " 'GhotiFish': 1.8483486238532112,\n",
       " 'Goladus': 2.7103846153846156,\n",
       " 'Groxx': 2.5107081545064367,\n",
       " 'GuiA': 2.5122560975609747,\n",
       " 'Hexstream': 1.6629166666666668,\n",
       " 'HeyLaughingBoy': 2.258882352941175,\n",
       " 'Houshalter': 0.4187922705313993,\n",
       " 'IgorPartola': 2.5146484374999996,\n",
       " 'InclinedPlane': 1.3784848484848489,\n",
       " 'JabavuAdams': 2.0090579710144936,\n",
       " 'Jach': 3.0056852791878197,\n",
       " 'JacobAldridge': 3.1517985611510793,\n",
       " 'JadeNB': 1.6905084745762728,\n",
       " 'JoachimSchipper': 1.9716355140186914,\n",
       " 'JoeAltmaier': 1.04114568599717,\n",
       " 'JonnieCache': 1.9420069204152246,\n",
       " 'JoshTriplett': 2.377147147147147,\n",
       " 'JulianMorrison': 0.7898089171974519,\n",
       " 'JumpCrisscross': 2.4037499999999996,\n",
       " 'Jun8': 3.2677777777777792,\n",
       " 'Kalium': 1.962894736842105,\n",
       " 'Karunamon': -0.2906748466257683,\n",
       " 'Keyframe': 2.403518518518519,\n",
       " 'KirinDave': 2.03322033898305,\n",
       " 'Kiro': 0.9032085561497334,\n",
       " 'Lawtonfogle': -0.801388888888888,\n",
       " 'Locke1689': 2.0297424892703866,\n",
       " 'MBCook': 2.143394495412844,\n",
       " 'MartinCron': 2.128138528138528,\n",
       " 'MatthewPhillips': 1.6332567049808437,\n",
       " 'MaysonL': 0.5127649769585262,\n",
       " 'MichaelApproved': 1.448796992481204,\n",
       " 'MichaelCrawford': 1.6064492753623185,\n",
       " 'MichaelGG': 1.4971627906976743,\n",
       " 'MikeCapone': 2.932,\n",
       " 'Mikeb85': 2.8287179487179492,\n",
       " 'Mithaldu': 1.8038655462184874,\n",
       " 'Mz': 2.7722105263157903,\n",
       " 'NathanKP': 2.2361111111111116,\n",
       " 'Natsu': 0.5765861027190329,\n",
       " 'Nursie': 1.9720875420875408,\n",
       " 'PStamatiou': 3.511203703703704,\n",
       " 'PaulHoule': 1.4280423280423291,\n",
       " 'PavlovsCat': 1.3491780821917798,\n",
       " 'Peaker': 0.8688888888888886,\n",
       " 'PeterisP': 1.5137267080745345,\n",
       " 'PhasmaFelis': 0.38122699386502923,\n",
       " 'Pxtl': 0.1143913043478259,\n",
       " 'Qz': 1.0519047619047617,\n",
       " 'Raphael': 1.24364406779661,\n",
       " 'Retra': 1.2388957055214718,\n",
       " 'Retric': 1.8254166666666691,\n",
       " 'RexRollman': 1.4499206349206353,\n",
       " 'RiderOfGiraffes': 2.273934426229507,\n",
       " 'RyanMcGreal': 1.2116140350877185,\n",
       " 'RyanZAG': 3.459224137931035,\n",
       " 'SamReidHughes': 0.7700793650793654,\n",
       " 'Samuel_Michon': 3.109941860465116,\n",
       " 'ScottBurson': 2.177868852459017,\n",
       " 'ScottWhigham': 2.4822660098522173,\n",
       " 'Semiapies': 0.28694736842105373,\n",
       " 'Shivetya': 1.5410982658959538,\n",
       " 'SilasX': 1.7882089552238807,\n",
       " 'Silhouette': 3.904541832669324,\n",
       " 'SkyMarshal': 3.2653333333333334,\n",
       " 'SoftwareMaven': 1.8375088967971536,\n",
       " 'Someone': 1.866,\n",
       " 'Someone1234': 1.8088118811881182,\n",
       " 'Spooky23': 0.7210285714285705,\n",
       " 'StavrosK': 2.3991353996737366,\n",
       " 'Steko': 0.8908860759493682,\n",
       " 'SwellJoe': 2.7648641975308648,\n",
       " 'Swizec': 2.9629508196721317,\n",
       " 'Symmetry': 2.220507614213197,\n",
       " 'TallGuyShort': 2.752615384615385,\n",
       " 'TazeTSchnitzel': 0.7407207207207209,\n",
       " 'TeMPOraL': 1.7837621832358705,\n",
       " 'Terretta': 1.6600632911392403,\n",
       " 'TheLoneWolfling': 0.5248780487804875,\n",
       " 'ThomPete': 2.0173498233215543,\n",
       " 'Tichy': 1.1010256410256425,\n",
       " 'TillE': 2.397412587412587,\n",
       " 'Timothee': 3.764553571428572,\n",
       " 'Tloewald': 1.8959375000000005,\n",
       " 'TomOfTTB': 1.86176923076923,\n",
       " 'Touche': 1.385891089108911,\n",
       " 'TrevorJ': 2.6279285714285723,\n",
       " 'Turing_Machine': 1.2293820224719103,\n",
       " 'Tycho': 2.14525974025974,\n",
       " 'TylerE': 1.4618579234972677,\n",
       " 'Tyrannosaurs': 2.3474866310160425,\n",
       " 'Udo': 1.5404149377593352,\n",
       " 'UnoriginalGuy': 0.794833333333333,\n",
       " 'VLM': 2.3411910112359564,\n",
       " 'VMG': 1.036333333333333,\n",
       " 'Vivtek': 1.3241013824884784,\n",
       " 'WalterBright': 1.6937745098039214,\n",
       " 'X-Istence': 1.8799999999999994,\n",
       " 'Xichekolas': 3.8602631578947366,\n",
       " 'XorNot': 0.8579870129870127,\n",
       " 'Ygg2': 1.3018181818181824,\n",
       " 'Zak': 1.7906951871657755,\n",
       " 'ZeroGravitas': 1.51365650969529,\n",
       " 'Zev': 2.3458156028368795,\n",
       " 'Zigurd': 0.8489891696750907,\n",
       " 'Zikes': 1.5813368983957212,\n",
       " 'ZoFreX': 1.8647435897435902,\n",
       " '__david__': 2.0048936170212768,\n",
       " '_delirium': 2.8552544529262094,\n",
       " '_pius': 2.8278512396694206,\n",
       " 'a3n': 1.5910000000000009,\n",
       " 'aaronblohowiak': 2.610641025641025,\n",
       " 'aaronbrethorst': 2.1384331797235023,\n",
       " 'aaronem': 1.0773643410852711,\n",
       " 'abecedarius': 2.089537037037037,\n",
       " 'abstractbill': 2.369652173913043,\n",
       " 'acangiano': 2.31320895522388,\n",
       " 'acdha': 2.287272727272727,\n",
       " 'acqq': 2.307980769230769,\n",
       " 'adamnemecek': 1.261045751633987,\n",
       " 'adrianwaj': 1.9504827586206892,\n",
       " 'adventured': 1.2914521452145227,\n",
       " 'agumonkey': 2.1907027027027035,\n",
       " 'ahoyhere': 2.6387999999999994,\n",
       " 'aidenn0': 1.0584433962264155,\n",
       " 'aikah': 1.1071900826446273,\n",
       " 'ajross': 1.6053125000000026,\n",
       " 'ajuc': 1.7437391304347827,\n",
       " 'akkartik': 1.7566896551724136,\n",
       " 'alain94040': 3.779302325581395,\n",
       " 'alan_cx': 0.5660294117647068,\n",
       " 'alanh': 1.894090909090909,\n",
       " 'alaskamiller': 1.66912,\n",
       " 'alecco': 1.2014634146341447,\n",
       " 'alex_c': 2.3218750000000004,\n",
       " 'alnayyir': 2.199642857142858,\n",
       " 'alttab': 2.1193506493506495,\n",
       " 'amelius': 1.8903278688524596,\n",
       " 'amichail': 2.43,\n",
       " 'amirmc': 2.1247586206896556,\n",
       " 'ams6110': 1.2465082644628105,\n",
       " 'anamax': 1.7877566539923948,\n",
       " 'andrewcooke': 2.342863849765259,\n",
       " 'andrewflnr': 1.8219875776397514,\n",
       " 'andrewljohnson': 2.2510526315789474,\n",
       " 'andreyf': 2.0752678571428587,\n",
       " 'andybak': 1.775267175572519,\n",
       " 'angersock': 1.8928301886792434,\n",
       " 'anigbrowl': 1.5195110258868634,\n",
       " 'anonymoushn': 1.4980733944954128,\n",
       " 'anthonyb': 0.00743362831858484,\n",
       " 'antihero': 0.5416176470588238,\n",
       " 'antirez': 3.990063694267517,\n",
       " 'apgwoz': 2.3353097345132743,\n",
       " 'api': 1.7202602230483264,\n",
       " 'arethuza': 1.992874743326487,\n",
       " 'arrrg': 1.1305161290322585,\n",
       " 'ars': 0.7380623306233057,\n",
       " 'astine': 2.2140384615384625,\n",
       " 'aston': 2.6248,\n",
       " 'astrodust': 1.142895752895753,\n",
       " 'aswanson': 1.6900689655172416,\n",
       " 'at-fates-hands': 3.1365891472868213,\n",
       " 'atmosx': 2.5919786096256683,\n",
       " 'aw3c2': 1.38177358490566,\n",
       " 'axod': 1.9091011235955044,\n",
       " 'azakai': 3.1597999999999984,\n",
       " 'baby': 1.495877192982456,\n",
       " 'bad_user': 2.3790250000000004,\n",
       " 'baddox': 1.0949509803921575,\n",
       " 'bambax': 1.770208333333333,\n",
       " 'bane': 3.128264604810996,\n",
       " 'barrkel': 0.8835294117647065,\n",
       " 'batista': 0.5352409638554212,\n",
       " 'bayareaguy': 2.655431034482758,\n",
       " 'bdcravens': 2.3819083969465646,\n",
       " 'bdfh42': 3.086806722689076,\n",
       " 'bduerst': 1.5520000000000003,\n",
       " 'beagle3': 1.715991561181434,\n",
       " 'beat': 2.5283870967741935,\n",
       " 'belorn': 0.6682296650717693,\n",
       " 'benatkin': 1.7910447761194024,\n",
       " 'benologist': 1.5038283828382835,\n",
       " 'bergie': 3.6156880733944954,\n",
       " 'berntb': 0.3921556886227538,\n",
       " 'betterunix': 0.9702830188679242,\n",
       " 'bigiain': 2.829018404907975,\n",
       " 'billswift': 1.1068361581920894,\n",
       " 'biohacker42': 2.0316058394160583,\n",
       " 'biot': 1.970378378378377,\n",
       " 'bitwize': 1.816091370558376,\n",
       " 'blasdel': 0.35686192468619315,\n",
       " 'blhack': 2.2621145374449334,\n",
       " 'bluedino': 1.1798148148148155,\n",
       " 'bmelton': 3.126537102473498,\n",
       " 'bootload': 2.9223166023166045,\n",
       " 'borism': 0.9354887218045118,\n",
       " 'bradleyland': 2.8707462686567173,\n",
       " 'brador': 0.5520720720720721,\n",
       " 'brandnewlow': 4.5141269841269835,\n",
       " 'brazzy': 0.6476756756756755,\n",
       " 'brc': 2.4639256198347117,\n",
       " 'briandear': 0.26831932773109357,\n",
       " 'brk': 3.128842105263157,\n",
       " 'brlewis': 2.6414155251141542,\n",
       " 'brown9-2': 1.461821086261982,\n",
       " 'brudgers': 2.336529209621992,\n",
       " 'bryanlarsen': 2.637281553398059,\n",
       " 'btilly': 1.8793459552495722,\n",
       " 'bunderbunder': 2.9220714285714284,\n",
       " 'burgerbrain': 0.8282181818181817,\n",
       " 'buro9': 2.5317500000000006,\n",
       " 'buster': 1.7229921259842513,\n",
       " 'byoung2': 2.820392156862746,\n",
       " 'byrneseyeview': 2.3705581395348845,\n",
       " 'cabalamat': 0.5797841726618708,\n",
       " 'caf': 0.8991216216216216,\n",
       " 'cafard': 1.8241059602649,\n",
       " 'cageface': 3.023924528301885,\n",
       " 'calinet6': 3.766363636363637,\n",
       " 'callmeed': 2.666321243523316,\n",
       " 'carbocation': 2.342435233160622,\n",
       " 'ceejayoz': 0.6028465346534628,\n",
       " 'chaostheory': 1.693243243243243,\n",
       " 'chc': 1.3785130111524175,\n",
       " 'cheald': 1.6640823970037448,\n",
       " 'chii': 1.534521739130435,\n",
       " 'chime': 3.6801600000000003,\n",
       " 'chimeracoder': 2.6907657657657658,\n",
       " 'chiph': 2.042325581395349,\n",
       " 'chipsy': 3.970381679389313,\n",
       " 'chollida1': 3.0523478260869568,\n",
       " 'chopsueyar': 1.206907894736842,\n",
       " 'chris_wot': 0.4671895424836605,\n",
       " 'chrischen': 1.7656157635467982,\n",
       " 'citricsquid': 1.3332812499999995,\n",
       " 'city41': 3.8098319327731103,\n",
       " 'ck2': 0.9346244131455381,\n",
       " 'cma': 0.8469047619047619,\n",
       " 'cmelbye': 2.240782608695653,\n",
       " 'code_duck': 2.236150442477877,\n",
       " 'coderdude': 1.3153278688524597,\n",
       " 'codex': 0.7364601769911504,\n",
       " 'codezero': 2.5762711864406778,\n",
       " 'colanderman': 1.4204999999999999,\n",
       " 'coldcode': 0.6772566371681414,\n",
       " 'coldtea': 1.5460230547550466,\n",
       " 'collyw': 1.378308823529413,\n",
       " 'comex': 0.6992356687898097,\n",
       " 'contingencies': 3.2410714285714297,\n",
       " 'cookiecaper': 2.3673825503355705,\n",
       " 'corin_': 1.975737704918032,\n",
       " 'corresation': 2.2125000000000004,\n",
       " 'cousin_it': 3.821617647058823,\n",
       " 'cperciva': 1.9732558139534873,\n",
       " 'cpeterso': 1.8132377049180335,\n",
       " 'crazygringo': 2.9691869918699187,\n",
       " 'crdoconnor': 1.5322147651006714,\n",
       " 'cromwellian': 1.8471875000000009,\n",
       " 'crusso': 1.5473493975903616,\n",
       " 'cryptoz': 2.144036697247707,\n",
       " 'csense': 1.6053103448275865,\n",
       " 'csomar': 3.110508474576271,\n",
       " 'cstejerean': 2.6405000000000007,\n",
       " 'ctdonath': 1.8166548042704629,\n",
       " 'cubicle67': 2.960370370370371,\n",
       " 'daeken': 2.2818478260869566,\n",
       " 'dagw': 2.0745307443365686,\n",
       " 'daleharvey': 3.2866055045871554,\n",
       " 'dalke': 1.3892540792540782,\n",
       " 'damoncali': 0.9371212121212125,\n",
       " 'dang': 1.1316515151515123,\n",
       " 'dangrossman': 1.1406707317073166,\n",
       " 'danieldk': 2.545058823529412,\n",
       " 'danieltillett': 2.120827586206897,\n",
       " 'danielweber': 0.8876601671309202,\n",
       " 'danilocampos': 3.6162601626016255,\n",
       " 'danmaz74': 2.3660416666666677,\n",
       " 'danso': 2.7690934065934063,\n",
       " 'dantheman': 1.0672656250000008,\n",
       " 'darkarmani': -0.7309734513274325,\n",
       " 'darklajid': 1.567415730337079,\n",
       " 'dasil003': 2.4810455764075066,\n",
       " 'david927': 3.048636363636364,\n",
       " 'davidgerard': 0.40664383561643813,\n",
       " 'davidw': 3.065816513761466,\n",
       " 'dbaupp': 2.4021804511278195,\n",
       " 'dchest': 0.8266887417218545,\n",
       " 'debacle': 1.3936956521739128,\n",
       " 'defen': 2.095945945945945,\n",
       " 'delinka': 2.1100000000000008,\n",
       " 'dennisgorelik': 1.4727611940298504,\n",
       " 'derefr': 2.4588979591836724,\n",
       " 'derleth': 0.2130386740331492,\n",
       " 'detaro': 1.5316666666666674,\n",
       " 'dfc': 1.5818042813455668,\n",
       " 'dfranke': 1.3360504201680667,\n",
       " 'dhimes': 2.197941176470588,\n",
       " 'digi_owl': 0.6133088235294113,\n",
       " 'diminoten': 0.3193827160493837,\n",
       " 'dinkumthinkum': 1.2703816793893141,\n",
       " 'dkarl': 2.209726775956284,\n",
       " 'dkersten': 2.9781437125748513,\n",
       " 'dkokelley': 2.8364462809917357,\n",
       " 'dllthomas': 1.9940776699029106,\n",
       " 'dman': 2.6282857142857146,\n",
       " 'dmix': 2.0359426229508197,\n",
       " 'dnautics': 1.0357831325301197,\n",
       " 'dools': 2.306695652173914,\n",
       " 'dotBen': 2.817727272727274,\n",
       " 'downandout': -0.02666666666666614,\n",
       " 'dpark': 1.035206611570248,\n",
       " 'dragontamer': 1.5914634146341458,\n",
       " 'dragonwriter': 1.6997338792221055,\n",
       " 'drcode': 2.2214876033057855,\n",
       " 'dredmorbius': 1.865122807017545,\n",
       " 'drivebyacct2': 1.0094694960212205,\n",
       " 'driverdan': 1.288255033557047,\n",
       " 'drzaiusapelord': 0.24671717171717147,\n",
       " 'dschiptsov': 2.2473282442748093,\n",
       " 'dsl': 1.1677586206896553,\n",
       " 'dspillett': 1.9524793388429749,\n",
       " 'duaneb': 1.266885245901639,\n",
       " 'dublinben': 1.7720481927710838,\n",
       " 'duck': 3.155882352941178,\n",
       " 'e12e': 3.3246405228758156,\n",
       " 'edanm': 3.815654761904761,\n",
       " 'edw519': 3.4431372549019614,\n",
       " 'einhverfr': 2.1834722222222216,\n",
       " 'ekianjo': 1.8906481481481463,\n",
       " 'eksith': 2.8831818181818183,\n",
       " 'elblanco': 3.4022222222222216,\n",
       " 'electromagnetic': 0.7241860465116269,\n",
       " 'eli': 1.2800762195121935,\n",
       " 'eli_gottlieb': 1.122779369627508,\n",
       " 'elwell': 1.1407339449541283,\n",
       " 'encoderer': 3.218223684210525,\n",
       " 'endtime': 1.5122695035460991,\n",
       " 'enneff': 1.2163636363636359,\n",
       " 'enraged_camel': 1.1852941176470573,\n",
       " 'epi0Bauqu': 2.9692948717948715,\n",
       " 'epochwolf': 0.6539495798319335,\n",
       " 'eps': 1.6245,\n",
       " 'ericb': 2.4750757575757585,\n",
       " 'ericd': 2.679406392694064,\n",
       " 'eridius': 1.2653551912568306,\n",
       " 'erikb': 3.455277777777778,\n",
       " 'erikpukinskis': 2.0821582733812947,\n",
       " 'eropple': 1.4384154929577475,\n",
       " 'eru': 1.540496780128794,\n",
       " 'eshvk': 1.889090909090909,\n",
       " 'est': 1.362625698324022,\n",
       " 'euroclydon': 2.0674436090225563,\n",
       " 'evgen': 2.8907812500000003,\n",
       " 'exDM69': 2.865462184873951,\n",
       " 'extension': 1.8509243697478983,\n",
       " 'falcolas': 1.5475280898876393,\n",
       " 'fallentimes': 2.10030864197531,\n",
       " 'fauigerzigerk': 0.9291703056768565,\n",
       " 'fennecfoxen': 1.855912408759124,\n",
       " 'fit2rule': 2.173860759493672,\n",
       " 'fleitz': 1.9251436781609197,\n",
       " 'flyinRyan': -0.7481034482758596,\n",
       " 'fnordfnordfnord': 0.6110638297872321,\n",
       " 'foobarqux': 0.6333620689655179,\n",
       " 'fpgeek': 1.9419875776397522,\n",
       " 'freehunter': 1.3411684782608702,\n",
       " 'frik': 2.400165289256198,\n",
       " 'froo': 2.5754782608695654,\n",
       " 'frozenport': -0.11311475409836085,\n",
       " 'fusiongyro': 2.039401709401709,\n",
       " 'gadders': 1.3736315789473676,\n",
       " 'gaius': 1.5426126126126134,\n",
       " 'gambiting': 0.38460317460317556,\n",
       " 'gbog': 2.1881595092024546,\n",
       " 'gcb': 1.0398823529411767,\n",
       " 'gcb0': 0.48897058823529477,\n",
       " 'geebee': 4.10725,\n",
       " 'georgemcbay': 2.0995862068965523,\n",
       " 'georgieporgie': 1.2738636363636375,\n",
       " 'geuis': 2.5052439024390236,\n",
       " 'gfodor': 1.7001639344262307,\n",
       " 'ggchappell': 3.78348623853211,\n",
       " 'ghaff': 3.4241353383458644,\n",
       " 'ghshephard': 3.6652956989247314,\n",
       " 'girvo': 2.9280616740088115,\n",
       " 'gizmo686': 0.8100653594771257,\n",
       " 'gjm11': 2.6048557692307694,\n",
       " 'gknoy': 2.8489600000000004,\n",
       " 'glhaynes': 2.077536231884059,\n",
       " 'gnaritas': 0.9060557768924294,\n",
       " 'gnosis': 2.3305732484076436,\n",
       " 'gojomo': 2.547150349650349,\n",
       " 'graeme': 3.01327868852459,\n",
       " 'grandalf': 2.4118430034129683,\n",
       " 'grecy': 1.8537179487179483,\n",
       " 'greenyoda': 0.9522699386503065,\n",
       " 'gress': 0.84,\n",
       " 'grey-area': 3.942562500000001,\n",
       " 'gruseom': 2.741509846827134,\n",
       " 'gtani': 3.0547321428571435,\n",
       " 'gte910h': 1.6460000000000012,\n",
       " 'guard-of-terra': -0.6019133574007208,\n",
       " 'guelo': 0.3244961240310064,\n",
       " 'gurkendoktor': 1.678198198198198,\n",
       " 'gus_massa': 1.9193641618497117,\n",
       " 'gwern': 1.9999388379204894,\n",
       " 'gyardley': 2.911489361702127,\n",
       " 'haberman': 2.865549450549451,\n",
       " 'hackinthebochs': 1.7204273504273504,\n",
       " 'happyscrappy': -0.6557723577235751,\n",
       " 'harryh': 1.5205737704918036,\n",
       " 'hayksaakian': 2.386906474820144,\n",
       " 'hcarvalhoalves': 1.8170547945205482,\n",
       " 'hga': 0.6793491124260346,\n",
       " 'higherpurpose': 1.4902734375,\n",
       " 'hkmurakami': 3.1302234636871518,\n",
       " 'hnriot': 0.3344915254237302,\n",
       " 'hollerith': 0.8101333333333339,\n",
       " 'hristov': 2.169026548672566,\n",
       " 'hugh': 1.0063414634146333,\n",
       " 'hugh3': 1.4503485838779993,\n",
       " 'huhtenberg': 0.7256800000000001,\n",
       " 'iamdave': 2.744651162790698,\n",
       " 'iamelgringo': 4.341655172413794,\n",
       " 'iamwil': 2.1710810810810814,\n",
       " 'icebraining': 1.1154918032786942,\n",
       " 'icey': 3.115740181268882,\n",
       " 'idlewords': 1.7284732824427493,\n",
       " 'ido': 1.8569444444444447,\n",
       " 'ig1': 1.9277575757575764,\n",
       " 'ihsw': 1.4816,\n",
       " 'ilaksh': 2.981916666666666,\n",
       " 'illuminate': 0.489266055045872,\n",
       " 'iuguy': 3.3713846153846156,\n",
       " 'ivankirigin': 2.6744223107569733,\n",
       " 'iwwr': 0.4636986301369864,\n",
       " 'j_baker': 1.4485501858736054,\n",
       " 'j_s': 1.542432432432433,\n",
       " 'jack-r-abbit': 0.15221518987341795,\n",
       " 'jackowayed': 3.3063157894736834,\n",
       " 'jacoblyles': 1.884522292993631,\n",
       " 'jacobolus': 2.6509696969696974,\n",
       " 'jacques_chester': 1.3382546201232028,\n",
       " 'jacquesm': 2.0685382955771283,\n",
       " 'jakejake': 3.235636363636363,\n",
       " 'jamesaguilar': 2.0475965665236053,\n",
       " 'jamesbritt': 2.1289887640449425,\n",
       " 'jarek': 1.8378481012658228,\n",
       " 'jarin': 2.297278106508876,\n",
       " 'jasonkester': 3.7365929203539814,\n",
       " 'jasonlbaptiste': 3.575833333333333,\n",
       " 'jasonlotito': 1.699964412811388,\n",
       " 'javajosh': 2.4217857142857158,\n",
       " 'javert': 2.0116742081447962,\n",
       " 'jbooth': 1.5792526690391457,\n",
       " 'jcl': 2.008086419753086,\n",
       " 'jcr': 2.2388111888111895,\n",
       " 'jcromartie': 1.4229333333333332,\n",
       " 'jdp23': 3.9119480519480536,\n",
       " 'jebblue': 2.458918918918919,\n",
       " 'jedberg': 2.2921768707483,\n",
       " 'jerf': 2.0049820788530464,\n",
       " 'jessaustin': 1.0192833876221465,\n",
       " 'jessedhillon': 1.395725806451613,\n",
       " 'jessriedel': 2.0919021739130432,\n",
       " 'jey': 2.338611111111111,\n",
       " 'jfarmer': 2.589733333333334,\n",
       " 'jfb': 0.62245,\n",
       " 'jff': 2.3814383561643844,\n",
       " 'jgrahamc': 2.020921501706485,\n",
       " 'jhancock': 2.907777777777778,\n",
       " 'jheriko': 2.1450892857142856,\n",
       " 'jiggy2011': 1.772897959183673,\n",
       " 'jimbokun': 3.105311203319504,\n",
       " 'jlarocco': 0.9453703703703702,\n",
       " 'jlgaddis': 2.010970149253731,\n",
       " 'jlgreco': 0.36948006932409405,\n",
       " 'jmathai': 3.698288288288288,\n",
       " 'jnbiche': 2.495737704918033,\n",
       " 'jodrellblank': 1.8021348314606727,\n",
       " 'joe_the_user': 2.5912568306010924,\n",
       " 'joelrunyon': 1.777322834645669,\n",
       " 'joezydeco': 1.8865653495440737,\n",
       " 'johns': 2.1857272727272727,\n",
       " 'jonknee': 1.9010392609699776,\n",
       " 'jonnathanson': 4.071193181818182,\n",
       " 'josefresco': 2.0301219512195123,\n",
       " 'josephlord': 1.7246399999999995,\n",
       " 'joshstrange': 2.0558035714285716,\n",
       " 'joshu': 1.0261538461538466,\n",
       " 'josteink': 2.593602941176471,\n",
       " 'joubert': 1.398839285714286,\n",
       " 'jpdoctor': 1.164862385321101,\n",
       " 'jqm': 2.228636363636364,\n",
       " 'jrochkind1': 1.7065925925925922,\n",
       " 'jrockway': 1.1044227642276419,\n",
       " 'jseliger': 2.831382113821139,\n",
       " 'jshen': 1.5218902439024389,\n",
       " 'jsprogrammer': 0.6072950819672126,\n",
       " 'jsz0': 2.370471698113208,\n",
       " 'judk': 0.8375392670157069,\n",
       " 'jules': 2.35432055749129,\n",
       " 'junto': 1.7802994011976052,\n",
       " 'jusben1369': 2.2868292682926827,\n",
       " 'justincormack': 1.1794389438943909,\n",
       " 'jws': 1.9286033519553067,\n",
       " 'k-mcgrady': 2.1962587412587418,\n",
       " 'k__': 2.302992125984252,\n",
       " 'kabdib': 1.3580645161290323,\n",
       " 'kalleboo': 0.5105172413793109,\n",
       " 'kamaal': 2.690837438423646,\n",
       " 'kasey_junk': 1.0825,\n",
       " 'kayoone': 2.4385185185185185,\n",
       " 'kazinator': 1.5619631901840498,\n",
       " 'kbenson': 2.1798857142857146,\n",
       " 'keithpeter': 3.271354166666667,\n",
       " 'kelnos': 1.742333333333333,\n",
       " 'kenjackson': 2.691042944785276,\n",
       " 'kevingadd': 1.2453947368421057,\n",
       " 'khafra': 2.4979259259259257,\n",
       " 'kiba': 1.286949152542373,\n",
       " 'kibwen': 3.332867647058825,\n",
       " 'kijin': 2.864736842105264,\n",
       " 'kirubakaran': 2.0918399999999995,\n",
       " 'kls': 3.85681614349776,\n",
       " 'kmfrk': 1.5641198501872655,\n",
       " 'known': 0.825783783783784,\n",
       " 'knowtheory': 1.1249999999999991,\n",
       " 'kolev': 1.412222222222222,\n",
       " 'kordless': 1.6091946308724834,\n",
       " 'kragen': 1.7651779935275083,\n",
       " 'krapp': 1.2948376623376603,\n",
       " 'krschultz': 1.4661052631578952,\n",
       " 'ktizo': 1.038417266187051,\n",
       " 'kyllo': 2.8334751773049645,\n",
       " 'kyro': 3.424297520661158,\n",
       " 'lallysingh': 2.0143478260869556,\n",
       " 'lambda': 3.044306569343066,\n",
       " 'larrys': 3.999453376205789,\n",
       " 'latch': 1.814528301886792,\n",
       " 'laumars': 1.3630147058823532,\n",
       " 'lawnchair_larry': -0.7005839416058383,\n",
       " 'learc83': 1.6947244094488183,\n",
       " 'lifeisstillgood': 3.2817956656346756,\n",
       " 'lionhearted': 4.231290322580647,\n",
       " 'lisper': 1.4562285714285714,\n",
       " 'lispm': 2.0816315789473685,\n",
       " 'lloeki': 2.0379831932773107,\n",
       " 'lmm': 2.2068685121107263,\n",
       " 'lnanek2': 2.5973939393939394,\n",
       " 'lobster_johnson': 2.705070422535212,\n",
       " 'loceng': 2.9249640287769787,\n",
       " 'logfromblammo': 0.6539306358381516,\n",
       " 'logn': 2.4521875000000004,\n",
       " 'lostlogin': 0.9282432432432433,\n",
       " 'lotharbot': 2.3331428571428554,\n",
       " 'lotsofmangos': -0.06863636363636337,\n",
       " 'loup-vaillant': 1.674190871369294,\n",
       " 'lsc': 3.630293255131967,\n",
       " 'lucb1e': 1.5212162162162164,\n",
       " 'lucian1900': 0.39494252873563374,\n",
       " 'lukifer': 1.8823776223776236,\n",
       " 'lutorm': 0.6546568627450977,\n",
       " 'lutusp': 0.7226797385620902,\n",
       " 'maaku': 0.9185263157894733,\n",
       " 'magicalist': 2.569545454545455,\n",
       " 'mahmud': 2.4353477218225437,\n",
       " 'mahyarm': 2.0004347826086954,\n",
       " 'makomk': -0.030290697674418342,\n",
       " 'malandrew': 3.866258992805756,\n",
       " 'malkia': 2.310217391304348,\n",
       " 'maratd': 1.7356028368794327,\n",
       " 'marcamillion': 3.713809523809525,\n",
       " 'marcosdumay': 1.464497607655502,\n",
       " 'mark_l_watson': 5.301321428571429,\n",
       " 'marknutter': 2.1524175824175824,\n",
       " 'marshray': 1.9710702341137143,\n",
       " 'marvin': 1.8359292035398231,\n",
       " 'masklinn': 0.8290614886731418,\n",
       " 'mathattack': 3.024349112426034,\n",
       " 'mattdeboard': 2.455352112676057,\n",
       " 'mattmanser': 0.6773762376237625,\n",
       " 'mattmaroon': 2.299553805774278,\n",
       " 'matwood': 2.0005084745762707,\n",
       " 'maxerickson': 1.500049504950494,\n",
       " 'maxklein': 0.9089999999999995,\n",
       " 'mbesto': 3.077134831460675,\n",
       " 'mbreese': 2.7113907284768217,\n",
       " 'mbrubeck': 3.125192307692307,\n",
       " 'mc32': 2.011428571428571,\n",
       " 'mcantelon': 0.7259712230215829,\n",
       " 'mcguire': 0.9897637795275588,\n",
       " 'mcv': 1.9803968253968247,\n",
       " 'mechanical_fish': 2.6820343137254916,\n",
       " 'megablast': 1.454791666666667,\n",
       " 'melling': 2.612673992673992,\n",
       " 'meowface': 1.7119090909090906,\n",
       " 'mercurial': 2.0397191011235956,\n",
       " 'meric': 1.7719696969696974,\n",
       " 'mgkimsal': 2.4353048780487807,\n",
       " 'mhartl': 2.6418562874251506,\n",
       " 'mhb': 1.7739130434782613,\n",
       " 'mhd': 3.409857142857143,\n",
       " 'mhurron': 0.41542635658914745,\n",
       " 'michael_dorfman': 2.3182741116751266,\n",
       " 'michaelneale': 2.3749137931034485,\n",
       " 'michaelochurch': 0.9331078224101488,\n",
       " 'michaelpinto': 1.7169724770642196,\n",
       " 'michaelt': 1.8474218750000002,\n",
       " 'mike-cardwell': 1.2295708154506446,\n",
       " 'mikeash': 0.7745378151260534,\n",
       " 'mikecane': 0.6768800000000006,\n",
       " 'mikeryan': 2.24109375,\n",
       " 'mindcrime': 3.941478260869563,\n",
       " 'mindslight': 1.0851249999999992,\n",
       " 'minimaxir': 0.6060952380952371,\n",
       " 'mistercow': 1.5461338289962827,\n",
       " 'mixmastamyk': 1.794416666666667,\n",
       " 'mixmax': 3.32875,\n",
       " 'mjn': 3.29128787878788,\n",
       " 'mkr-hn': 1.3301762114537445,\n",
       " 'mkramlich': 2.7273033707865157,\n",
       " 'moe': 1.4510451977401122,\n",
       " 'mooism2': 0.2410497237569064,\n",
       " 'mootothemax': 2.8413043478260875,\n",
       " 'morgante': 2.6803669724770653,\n",
       " 'moron4hire': 1.6204098360655732,\n",
       " 'mortenjorck': 3.116746031746031,\n",
       " 'mpyne': 0.7639622641509436,\n",
       " 'mrtron': 2.1772649572649576,\n",
       " 'msandford': 1.7425984251968498,\n",
       " 'mschuster91': -0.5272131147540984,\n",
       " 'mseebach': 1.7898076923076929,\n",
       " 'mtgx': 1.6266666666666663,\n",
       " 'mtrimpe': 3.670327868852459,\n",
       " 'mturmon': 2.705470588235294,\n",
       " 'muyuu': 1.5329661016949143,\n",
       " 'mynameishere': 0.44452702702702485,\n",
       " 'nailer': 1.6515476190476197,\n",
       " 'nandemo': 1.3353508771929823,\n",
       " 'naner': 1.7809322033898305,\n",
       " 'natch': 2.171652173913044,\n",
       " 'natrius': 2.563041237113402,\n",
       " 'nawitus': 2.5734513274336286,\n",
       " 'nazgulnarsil': 1.8309489051094883,\n",
       " 'neilc': 3.5642201834862384,\n",
       " 'neilk': 2.913480662983425,\n",
       " 'netcan': 2.111808873720135,\n",
       " 'nextparadigms': 2.0286956521739135,\n",
       " 'nhangen': 2.7981034482758624,\n",
       " 'nhebb': 1.8458677685950415,\n",
       " 'nicholassmith': 1.923783783783784,\n",
       " 'nickb': 2.0943650793650797,\n",
       " 'nickpsecurity': 5.8889855072463755,\n",
       " 'niels_olson': 2.487310344827587,\n",
       " 'niggler': 1.5187068965517243,\n",
       " 'nikcub': 2.1401226993865023,\n",
       " 'nilkn': 3.6389062500000002,\n",
       " 'nirvana': 2.479464285714285,\n",
       " 'nitrogen': 1.4571074380165276,\n",
       " 'njharman': 0.3875141242937872,\n",
       " 'nkassis': 1.7988990825688074,\n",
       " 'nknighthb': -0.1949689440993781,\n",
       " 'nkurz': 4.819714285714286,\n",
       " 'nl': 1.7613429256594715,\n",
       " 'nly': 2.1976315789473686,\n",
       " 'nodata': 0.5243410852713174,\n",
       " 'nollidge': 1.7473451327433627,\n",
       " 'noodle': 2.8507462686567164,\n",
       " 'noonespecial': 1.5854926108374396,\n",
       " 'nopassrecover': 2.76375,\n",
       " 'nostrademons': 3.066729106628242,\n",
       " 'nostromo': 1.857548387096774,\n",
       " 'notahacker': 3.134714285714287,\n",
       " 'notatoad': 1.3904697986577177,\n",
       " 'nwh': -0.10117647058823663,\n",
       " 'ojbyrne': 1.786404109589041,\n",
       " 'olalonde': 1.453809523809523,\n",
       " 'olefoo': 1.6386075949367094,\n",
       " 'omouse': 1.4348704663212435,\n",
       " 'oneeyedpigeon': 2.1516964285714293,\n",
       " 'onion2k': 3.434230769230769,\n",
       " 'opendais': 0.8504629629629628,\n",
       " 'orangecat': 2.0022137404580156,\n",
       " 'orangethirty': 3.088882681564246,\n",
       " 'ori_b': 1.5232758620689657,\n",
       " 'palish': 2.662033898305085,\n",
       " 'papsosouid': 0.44105691056910545,\n",
       " 'paraschopra': 3.6256799999999996,\n",
       " 'pasbesoin': 2.6657677902621724,\n",
       " 'patio11': 3.938238153098421,\n",
       " 'patrickaljord': 1.8407627118644074,\n",
       " 'paulhauggis': 0.8322631578947359,\n",
       " 'pavel_lishin': 0.9516082474226797,\n",
       " 'pavlov': 3.5640833333333344,\n",
       " 'pavs': 2.134224137931035,\n",
       " 'pbhjpbhj': 2.3278991596638643,\n",
       " 'pbiggar': 2.508283582089553,\n",
       " 'pbreit': 1.4210434782608692,\n",
       " 'pchristensen': 3.6715841584158415,\n",
       " 'pclark': 2.366090909090909,\n",
       " 'pcwalton': 2.0573478260869567,\n",
       " 'pdonis': 1.8911695906432757,\n",
       " 'pedalpete': 3.362374429223745,\n",
       " 'pekk': -0.05019999999999965,\n",
       " 'pessimizer': 1.0598986486486492,\n",
       " 'petercooper': 2.786818980667839,\n",
       " 'peteretep': 1.8292666666666666,\n",
       " 'petervandijck': 2.5339393939393937,\n",
       " 'peterwwillis': 1.696051660516604,\n",
       " 'pg': 1.1987465437788036,\n",
       " 'ph0rque': 2.8238399999999997,\n",
       " 'phaus': 2.027920000000001,\n",
       " 'philwelch': 0.8152758132956154,\n",
       " 'phlux': 2.559449541284404,\n",
       " 'pilif': 2.0779503105590065,\n",
       " 'pjc50': 0.6407194244604305,\n",
       " 'pjmlp': 2.0292659279778396,\n",
       " 'pjscott': 2.422872340425532,\n",
       " 'plinkplonk': 3.8866257668711683,\n",
       " 'pmjordan': 1.7594146341463415,\n",
       " 'pmorici': 1.3329801324503314,\n",
       " 'pnathan': 2.74436018957346,\n",
       " 'po': 2.886272727272727,\n",
       " 'pohl': 2.2170175438596496,\n",
       " 'potatolicious': 0.8083369330453527,\n",
       " 'praptak': 0.7738129496402878,\n",
       " 'prawn': 1.9014285714285715,\n",
       " 'prodigal_erik': -0.14288135593220147,\n",
       " 'programminggeek': 5.2013740458015265,\n",
       " 'pron': 3.278629032258065,\n",
       " 'prostoalex': 2.7484615384615383,\n",
       " 'protomyth': 0.8023824959481363,\n",
       " 'pygy_': 1.6057364341085274,\n",
       " 'pyre': 0.578402699662541,\n",
       " 'qq66': 2.3345669291338593,\n",
       " 'r00fus': 2.6708273381294974,\n",
       " 'raganwald': 3.2244665012406943,\n",
       " 'raldi': 0.7256756756756755,\n",
       " 'randallsquared': 1.178339920948617,\n",
       " 'randomdata': 3.3307246376811595,\n",
       " 'raverbashing': 2.2118528610354224,\n",
       " 'rayiner': 1.3224451410658304,\n",
       " 'rbanffy': 1.8110982048574464,\n",
       " 'rdl': 2.5741257142857146,\n",
       " 'rdouble': 1.238461538461539,\n",
       " 'rdtsc': 2.3813033707865165,\n",
       " 'recoiledsnake': 1.2752046783625741,\n",
       " 'redthrowaway': 1.8920463320463323,\n",
       " 'refurb': 1.0389784946236555,\n",
       " 'regularfry': 1.0605555555555555,\n",
       " 'reitzensteinm': 2.0222137404580156,\n",
       " 'res0nat0r': 1.440567375886525,\n",
       " 'revelation': 1.0332085561497328,\n",
       " 'revorad': 3.245585937500001,\n",
       " 'rhizome': 0.8013078470824948,\n",
       " 'ricardobeat': 1.7451811594202902,\n",
       " 'rick888': 1.8240366972477058,\n",
       " 'riffraff': 2.266168831168831,\n",
       " 'rimantas': 1.1799322033898296,\n",
       " 'rmc': 0.6521637426900586,\n",
       " 'rms': 2.1490133779264213,\n",
       " 'robomartin': 3.450869565217393,\n",
       " 'robryan': 3.8076981132075476,\n",
       " 'roc': 1.9423508771929818,\n",
       " 'roel_v': 1.0229687499999998,\n",
       " 'rogerbinns': 2.9361486486486497,\n",
       " 'rokhayakebe': 2.9185271317829464,\n",
       " 'rorrr': 1.0911290322580651,\n",
       " 'rosser': 0.7693706293706285,\n",
       " 'rplnt': 1.1394074074074079,\n",
       " 'rtpg': 2.55830303030303,\n",
       " 'run4yourlives': 2.0971581769436995,\n",
       " 'runjake': 2.5777697841726623,\n",
       " 'russell': 2.2443165467625907,\n",
       " 'rwmj': 0.9760606060606069,\n",
       " 'ryanwaggoner': 2.918820512820512,\n",
       " 'sabat': 1.315538461538462,\n",
       " 'sachinag': 2.887131782945737,\n",
       " 'sambeau': 2.295714285714286,\n",
       " 'samstave': 1.1453409090909084,\n",
       " 'sanderjd': 2.7952906976744187,\n",
       " 'saraid216': 1.2241818181818176,\n",
       " 'sarciszewski': 1.4911016949152534,\n",
       " 'saurik': 1.1314344262295053,\n",
       " 'scarmig': 1.1458450704225336,\n",
       " 'sciurus': 2.333821138211382,\n",
       " 'scott_karana': 1.4957692307692307,\n",
       " 'scott_s': 1.4851578947368413,\n",
       " 'scotty79': 1.6722631578947373,\n",
       " 'seanmcdirmid': 1.8404477611940273,\n",
       " 'seiji': 1.7534010152284265,\n",
       " 'seivan': 1.3836885245901642,\n",
       " 'seldo': 1.693732394366197,\n",
       " 'sergiotapia': 2.2285185185185186,\n",
       " 'sethg': 2.0151282051282053,\n",
       " 'shmerl': 1.357370689655173,\n",
       " 'sigzero': 1.0964122137404577,\n",
       " 'silentbicycle': 3.563342939481269,\n",
       " 'sillysaurus3': 2.1147540983606565,\n",
       " 'simonw': 2.5802189781021894,\n",
       " 'sitkack': 1.2866666666666662,\n",
       " 'sjs': 2.431327433628318,\n",
       " 'skrebbel': 1.9624528301886799,\n",
       " 'slantyyz': 2.353767123287672,\n",
       " 'sliverstorm': 1.7541924778761064,\n",
       " 'smackfu': 1.744397759103643,\n",
       " 'smacktoward': 1.7684027777777778,\n",
       " 'smoyer': 3.1929787234042557,\n",
       " 'smsm42': 0.18967741935483923,\n",
       " 'smtddr': 0.8006363636363636,\n",
       " 'sneak': 0.31050541516245517,\n",
       " 'snowwrestler': 2.803834355828222,\n",
       " 'snprbob86': 2.8406521739130435,\n",
       " 'sophacles': 2.774516129032257,\n",
       " 'sp332': 0.93489150090416,\n",
       " 'speeder': -0.31142857142857194,\n",
       " 'spindritf': 2.199999999999999,\n",
       " 'stanleydrew': 3.2440517241379325,\n",
       " 'statictype': 2.793511450381679,\n",
       " 'staunch': 2.7284198113207543,\n",
       " 'stcredzero': 2.599288888888888,\n",
       " 'stephengillie': 1.5894861660079065,\n",
       " 'stephenr': 1.219579831932773,\n",
       " 'steveklabnik': 2.3531438721136757,\n",
       " 'stonemetal': 1.7795424836601317,\n",
       " 'stretchwithme': 2.0109677419354837,\n",
       " 'sukuriant': 1.90719298245614,\n",
       " 'superuser2': 1.7404294478527607,\n",
       " 'swah': 2.3806607929515424,\n",
       " 'swombat': 2.421144578313255,\n",
       " 'taeric': 3.283481481481481,\n",
       " 'taligent': 1.486220930232558,\n",
       " 'talmand': -0.10305000000000007,\n",
       " 'tdavis': 0.923688524590164,\n",
       " 'technomancy': 2.1887288135593224,\n",
       " 'tedunangst': 0.6486788154897463,\n",
       " 'teej': 3.6090740740740745,\n",
       " 'tel': 3.9143809523809523,\n",
       " 'teyc': 2.5830909090909095,\n",
       " 'thaumasiotes': 0.7440983606557384,\n",
       " 'thaumaturgy': 2.5081184668989547,\n",
       " 'theorique': 0.4266666666666657,\n",
       " 'there': 2.2455882352941177,\n",
       " 'thibaut_barrere': 3.776754385964913,\n",
       " 'threeseed': 1.5118666666666667,\n",
       " 'thrownaway2424': 1.0175193798449615,\n",
       " 'thwarted': 2.254625850340136,\n",
       " 'tibbon': 2.30290909090909,\n",
       " 'tikhonj': 5.3613513513513515,\n",
       " 'tim333': 2.0426271186440674,\n",
       " 'timr': 2.5831060606060605,\n",
       " 'tinco': 3.3521621621621622,\n",
       " 'tjr': 3.469133858267717,\n",
       " 'tlrobinson': 1.3534599156118154,\n",
       " 'tluyben2': 3.4819090909090913,\n",
       " 'to3m': 2.5498319327731087,\n",
       " 'tocomment': 1.759483568075117,\n",
       " 'tokenadult': 3.97137583892617,\n",
       " 'tome': 0.9981355932203394,\n",
       " 'tomjen3': 0.41916500994035727,\n",
       " 'tomp': 1.9368325791855217,\n",
       " 'toomuchtodo': 1.6651844262295092,\n",
       " 'tormeh': 0.9743055555555564,\n",
       " 'toyg': 1.3967105263157895,\n",
       " 'tptacek': 0.9489009542612725,\n",
       " 'tracker1': 2.791675977653633,\n",
       " 'trhway': 1.6647899159663868,\n",
       " 'tripzilch': 2.4886702127659572,\n",
       " 'troels': 1.302276422764227,\n",
       " 'trotsky': 2.3151111111111113,\n",
       " 'true_religion': 1.6193006993006993,\n",
       " 'tsotha': 0.7677199999999998,\n",
       " 'tvon': 1.2565151515151518,\n",
       " 'twic': 1.7997580645161282,\n",
       " 'twoodfin': 2.566818181818182,\n",
       " 'tzs': 0.8903854389721624,\n",
       " 'ubernostrum': 0.8678378378378362,\n",
       " 'ugh': 1.6354736842105273,\n",
       " 'unalone': 2.903821138211382,\n",
       " 'unimpressive': 0.9923008849557524,\n",
       " 'unreal37': 1.6782926829268299,\n",
       " 'untog': 1.9479571984435795,\n",
       " 'uptown': 2.277083333333333,\n",
       " 'userbinator': 2.2703738317756996,\n",
       " 'vacri': 0.1865172413793132,\n",
       " 'vaksel': 1.254293948126801,\n",
       " 'venomsnake': 0.8932340425531929,\n",
       " 'vezzy-fnord': 1.766495726495727,\n",
       " 'vidarh': 2.279705263157895,\n",
       " 'vinceguidry': 2.4998620689655175,\n",
       " 'viraptor': 1.4584137931034489,\n",
       " 'vlad': 4.384821428571429,\n",
       " 'vog': 2.927870370370369,\n",
       " 'voltagex_': 1.626704545454546,\n",
       " 'vorg': 2.406581196581196,\n",
       " 'w1ntermute': 1.6426330532212885,\n",
       " 'wallflower': 4.465953947368423,\n",
       " 'walshemj': 0.9274137931034481,\n",
       " 'walterbell': 2.7446938775510206,\n",
       " 'waps': 0.6843971631205653,\n",
       " 'warfangle': 1.7886131386861308,\n",
       " 'waterlesscloud': 1.57022842639594,\n",
       " 'wazoox': 1.545328947368421,\n",
       " 'wccrawford': 2.5145112781954895,\n",
       " 'weaksauce': 2.7767543859649124,\n",
       " 'webwright': 4.414166666666667,\n",
       " 'wglb': 1.2150495049504952,\n",
       " 'whatusername': 3.0719999999999996,\n",
       " 'wheels': 2.762252747252747,\n",
       " 'willvarfar': 2.233602941176471,\n",
       " 'wisty': 1.3558260869565217,\n",
       " 'wladimir': 2.22644578313253,\n",
       " 'wlievens': 1.3161600000000004,\n",
       " 'wmeredith': 2.135528455284553,\n",
       " 'wmf': 0.804280660377358,\n",
       " 'wpietri': 2.3918227848101252,\n",
       " 'wslh': 1.9740437158469948,\n",
       " 'wtallis': 2.8242690058479543,\n",
       " 'wvenable': 1.7830412371134028,\n",
       " 'ww520': 2.4290686274509814,\n",
       " 'wyager': 0.8607692307692316,\n",
       " 'wyclif': 2.7461111111111123,\n",
       " 'x0x0': 2.3228358208955227,\n",
       " 'xenophanes': -0.35468468468468656,\n",
       " 'xiaoma': 2.5681395348837217,\n",
       " 'yan': 2.7998581560283684,\n",
       " 'yardie': 0.7499259259259266,\n",
       " 'yason': 4.0848387096774195,\n",
       " 'yellowapple': 2.330150375939849,\n",
       " 'yen223': 1.2868103448275858,\n",
       " 'yesimahuman': 4.204629629629629,\n",
       " 'yeukhon': 3.306141732283464,\n",
       " 'ygra': 1.618235294117647,\n",
       " 'ynniv': 2.0755555555555563,\n",
       " 'yters': 2.8102380952380948,\n",
       " 'yuhong': 0.6019636363636373,\n",
       " 'yummyfajitas': 0.8789737470167035,\n",
       " 'zach': 4.050079365079364,\n",
       " 'zackattack': 2.4832317073170738,\n",
       " 'zaidf': 2.705340909090909,\n",
       " 'zalew': 1.354506172839506,\n",
       " 'zanny': 2.204260869565217,\n",
       " 'zaroth': 3.0040441176470596,\n",
       " 'zdw': 1.9592592592592593,\n",
       " 'zem': 3.5129059829059823,\n",
       " 'zo1': 2.449098360655738,\n",
       " 'zobzu': 2.4999107142857144,\n",
       " 'zokier': 1.504020100502512}"
      ]
     },
     "execution_count": 35,
     "metadata": {},
     "output_type": "execute_result"
    }
   ],
   "source": [
    "average_dict = average['comment_ranking'].to_dict()\n",
    "average_dict"
   ]
  },
  {
   "cell_type": "code",
   "execution_count": 36,
   "metadata": {
    "colab": {
     "base_uri": "https://localhost:8080/",
     "height": 55
    },
    "colab_type": "code",
    "executionInfo": {
     "elapsed": 1288,
     "status": "ok",
     "timestamp": 1593042319445,
     "user": {
      "displayName": "Evidence Nwangwa",
      "photoUrl": "",
      "userId": "04661181054044885962"
     },
     "user_tz": 420
    },
    "id": "lb9Y1UVLt7Ot",
    "outputId": "7c4b1553-7d50-4bf0-a911-029ac45f97d0"
   },
   "outputs": [
    {
     "data": {
      "text/plain": [
       "dict_keys(['001sky', '0x0', '10ren', '3pt14159', '6ren', 'Alex3917', 'Alupis', 'AndrewDucker', 'AnimalMuppet', 'Animats', 'AnthonyMouse', 'Apocryphon', 'Argorak', 'AznHisoka', 'BrandonM', 'CWuestefeld', 'CamperBob', 'CamperBob2', 'ChuckMcM', 'CmonDev', 'ColinWright', 'ComputerGuru', 'Confusion', 'Crito', 'Cushman', 'DanBC', 'DaniFong', 'DanielBMarkham', 'DanielStraight', 'Daniel_Newby', 'DannoHung', 'DannyBee', 'DenisM', 'DennisP', 'Dewie', 'DigitalSea', 'DrJokepu', 'Dylan16807', 'EGreg', 'EliRivers', 'ErrantX', 'Estragon', 'Evbn', 'FireBeyond', 'Florin_Andrei', 'FooBarWidget', 'ForHackernews', 'GFK_of_xmaspast', 'GFischer', 'GHFigs', 'GhotiFish', 'Goladus', 'Groxx', 'GuiA', 'Hexstream', 'HeyLaughingBoy', 'Houshalter', 'IgorPartola', 'InclinedPlane', 'JabavuAdams', 'Jach', 'JacobAldridge', 'JadeNB', 'JoachimSchipper', 'JoeAltmaier', 'JonnieCache', 'JoshTriplett', 'JulianMorrison', 'JumpCrisscross', 'Jun8', 'Kalium', 'Karunamon', 'Keyframe', 'KirinDave', 'Kiro', 'Lawtonfogle', 'Locke1689', 'MBCook', 'MartinCron', 'MatthewPhillips', 'MaysonL', 'MichaelApproved', 'MichaelCrawford', 'MichaelGG', 'MikeCapone', 'Mikeb85', 'Mithaldu', 'Mz', 'NathanKP', 'Natsu', 'Nursie', 'PStamatiou', 'PaulHoule', 'PavlovsCat', 'Peaker', 'PeterisP', 'PhasmaFelis', 'Pxtl', 'Qz', 'Raphael', 'Retra', 'Retric', 'RexRollman', 'RiderOfGiraffes', 'RyanMcGreal', 'RyanZAG', 'SamReidHughes', 'Samuel_Michon', 'ScottBurson', 'ScottWhigham', 'Semiapies', 'Shivetya', 'SilasX', 'Silhouette', 'SkyMarshal', 'SoftwareMaven', 'Someone', 'Someone1234', 'Spooky23', 'StavrosK', 'Steko', 'SwellJoe', 'Swizec', 'Symmetry', 'TallGuyShort', 'TazeTSchnitzel', 'TeMPOraL', 'Terretta', 'TheLoneWolfling', 'ThomPete', 'Tichy', 'TillE', 'Timothee', 'Tloewald', 'TomOfTTB', 'Touche', 'TrevorJ', 'Turing_Machine', 'Tycho', 'TylerE', 'Tyrannosaurs', 'Udo', 'UnoriginalGuy', 'VLM', 'VMG', 'Vivtek', 'WalterBright', 'X-Istence', 'Xichekolas', 'XorNot', 'Ygg2', 'Zak', 'ZeroGravitas', 'Zev', 'Zigurd', 'Zikes', 'ZoFreX', '__david__', '_delirium', '_pius', 'a3n', 'aaronblohowiak', 'aaronbrethorst', 'aaronem', 'abecedarius', 'abstractbill', 'acangiano', 'acdha', 'acqq', 'adamnemecek', 'adrianwaj', 'adventured', 'agumonkey', 'ahoyhere', 'aidenn0', 'aikah', 'ajross', 'ajuc', 'akkartik', 'alain94040', 'alan_cx', 'alanh', 'alaskamiller', 'alecco', 'alex_c', 'alnayyir', 'alttab', 'amelius', 'amichail', 'amirmc', 'ams6110', 'anamax', 'andrewcooke', 'andrewflnr', 'andrewljohnson', 'andreyf', 'andybak', 'angersock', 'anigbrowl', 'anonymoushn', 'anthonyb', 'antihero', 'antirez', 'apgwoz', 'api', 'arethuza', 'arrrg', 'ars', 'astine', 'aston', 'astrodust', 'aswanson', 'at-fates-hands', 'atmosx', 'aw3c2', 'axod', 'azakai', 'baby', 'bad_user', 'baddox', 'bambax', 'bane', 'barrkel', 'batista', 'bayareaguy', 'bdcravens', 'bdfh42', 'bduerst', 'beagle3', 'beat', 'belorn', 'benatkin', 'benologist', 'bergie', 'berntb', 'betterunix', 'bigiain', 'billswift', 'biohacker42', 'biot', 'bitwize', 'blasdel', 'blhack', 'bluedino', 'bmelton', 'bootload', 'borism', 'bradleyland', 'brador', 'brandnewlow', 'brazzy', 'brc', 'briandear', 'brk', 'brlewis', 'brown9-2', 'brudgers', 'bryanlarsen', 'btilly', 'bunderbunder', 'burgerbrain', 'buro9', 'buster', 'byoung2', 'byrneseyeview', 'cabalamat', 'caf', 'cafard', 'cageface', 'calinet6', 'callmeed', 'carbocation', 'ceejayoz', 'chaostheory', 'chc', 'cheald', 'chii', 'chime', 'chimeracoder', 'chiph', 'chipsy', 'chollida1', 'chopsueyar', 'chris_wot', 'chrischen', 'citricsquid', 'city41', 'ck2', 'cma', 'cmelbye', 'code_duck', 'coderdude', 'codex', 'codezero', 'colanderman', 'coldcode', 'coldtea', 'collyw', 'comex', 'contingencies', 'cookiecaper', 'corin_', 'corresation', 'cousin_it', 'cperciva', 'cpeterso', 'crazygringo', 'crdoconnor', 'cromwellian', 'crusso', 'cryptoz', 'csense', 'csomar', 'cstejerean', 'ctdonath', 'cubicle67', 'daeken', 'dagw', 'daleharvey', 'dalke', 'damoncali', 'dang', 'dangrossman', 'danieldk', 'danieltillett', 'danielweber', 'danilocampos', 'danmaz74', 'danso', 'dantheman', 'darkarmani', 'darklajid', 'dasil003', 'david927', 'davidgerard', 'davidw', 'dbaupp', 'dchest', 'debacle', 'defen', 'delinka', 'dennisgorelik', 'derefr', 'derleth', 'detaro', 'dfc', 'dfranke', 'dhimes', 'digi_owl', 'diminoten', 'dinkumthinkum', 'dkarl', 'dkersten', 'dkokelley', 'dllthomas', 'dman', 'dmix', 'dnautics', 'dools', 'dotBen', 'downandout', 'dpark', 'dragontamer', 'dragonwriter', 'drcode', 'dredmorbius', 'drivebyacct2', 'driverdan', 'drzaiusapelord', 'dschiptsov', 'dsl', 'dspillett', 'duaneb', 'dublinben', 'duck', 'e12e', 'edanm', 'edw519', 'einhverfr', 'ekianjo', 'eksith', 'elblanco', 'electromagnetic', 'eli', 'eli_gottlieb', 'elwell', 'encoderer', 'endtime', 'enneff', 'enraged_camel', 'epi0Bauqu', 'epochwolf', 'eps', 'ericb', 'ericd', 'eridius', 'erikb', 'erikpukinskis', 'eropple', 'eru', 'eshvk', 'est', 'euroclydon', 'evgen', 'exDM69', 'extension', 'falcolas', 'fallentimes', 'fauigerzigerk', 'fennecfoxen', 'fit2rule', 'fleitz', 'flyinRyan', 'fnordfnordfnord', 'foobarqux', 'fpgeek', 'freehunter', 'frik', 'froo', 'frozenport', 'fusiongyro', 'gadders', 'gaius', 'gambiting', 'gbog', 'gcb', 'gcb0', 'geebee', 'georgemcbay', 'georgieporgie', 'geuis', 'gfodor', 'ggchappell', 'ghaff', 'ghshephard', 'girvo', 'gizmo686', 'gjm11', 'gknoy', 'glhaynes', 'gnaritas', 'gnosis', 'gojomo', 'graeme', 'grandalf', 'grecy', 'greenyoda', 'gress', 'grey-area', 'gruseom', 'gtani', 'gte910h', 'guard-of-terra', 'guelo', 'gurkendoktor', 'gus_massa', 'gwern', 'gyardley', 'haberman', 'hackinthebochs', 'happyscrappy', 'harryh', 'hayksaakian', 'hcarvalhoalves', 'hga', 'higherpurpose', 'hkmurakami', 'hnriot', 'hollerith', 'hristov', 'hugh', 'hugh3', 'huhtenberg', 'iamdave', 'iamelgringo', 'iamwil', 'icebraining', 'icey', 'idlewords', 'ido', 'ig1', 'ihsw', 'ilaksh', 'illuminate', 'iuguy', 'ivankirigin', 'iwwr', 'j_baker', 'j_s', 'jack-r-abbit', 'jackowayed', 'jacoblyles', 'jacobolus', 'jacques_chester', 'jacquesm', 'jakejake', 'jamesaguilar', 'jamesbritt', 'jarek', 'jarin', 'jasonkester', 'jasonlbaptiste', 'jasonlotito', 'javajosh', 'javert', 'jbooth', 'jcl', 'jcr', 'jcromartie', 'jdp23', 'jebblue', 'jedberg', 'jerf', 'jessaustin', 'jessedhillon', 'jessriedel', 'jey', 'jfarmer', 'jfb', 'jff', 'jgrahamc', 'jhancock', 'jheriko', 'jiggy2011', 'jimbokun', 'jlarocco', 'jlgaddis', 'jlgreco', 'jmathai', 'jnbiche', 'jodrellblank', 'joe_the_user', 'joelrunyon', 'joezydeco', 'johns', 'jonknee', 'jonnathanson', 'josefresco', 'josephlord', 'joshstrange', 'joshu', 'josteink', 'joubert', 'jpdoctor', 'jqm', 'jrochkind1', 'jrockway', 'jseliger', 'jshen', 'jsprogrammer', 'jsz0', 'judk', 'jules', 'junto', 'jusben1369', 'justincormack', 'jws', 'k-mcgrady', 'k__', 'kabdib', 'kalleboo', 'kamaal', 'kasey_junk', 'kayoone', 'kazinator', 'kbenson', 'keithpeter', 'kelnos', 'kenjackson', 'kevingadd', 'khafra', 'kiba', 'kibwen', 'kijin', 'kirubakaran', 'kls', 'kmfrk', 'known', 'knowtheory', 'kolev', 'kordless', 'kragen', 'krapp', 'krschultz', 'ktizo', 'kyllo', 'kyro', 'lallysingh', 'lambda', 'larrys', 'latch', 'laumars', 'lawnchair_larry', 'learc83', 'lifeisstillgood', 'lionhearted', 'lisper', 'lispm', 'lloeki', 'lmm', 'lnanek2', 'lobster_johnson', 'loceng', 'logfromblammo', 'logn', 'lostlogin', 'lotharbot', 'lotsofmangos', 'loup-vaillant', 'lsc', 'lucb1e', 'lucian1900', 'lukifer', 'lutorm', 'lutusp', 'maaku', 'magicalist', 'mahmud', 'mahyarm', 'makomk', 'malandrew', 'malkia', 'maratd', 'marcamillion', 'marcosdumay', 'mark_l_watson', 'marknutter', 'marshray', 'marvin', 'masklinn', 'mathattack', 'mattdeboard', 'mattmanser', 'mattmaroon', 'matwood', 'maxerickson', 'maxklein', 'mbesto', 'mbreese', 'mbrubeck', 'mc32', 'mcantelon', 'mcguire', 'mcv', 'mechanical_fish', 'megablast', 'melling', 'meowface', 'mercurial', 'meric', 'mgkimsal', 'mhartl', 'mhb', 'mhd', 'mhurron', 'michael_dorfman', 'michaelneale', 'michaelochurch', 'michaelpinto', 'michaelt', 'mike-cardwell', 'mikeash', 'mikecane', 'mikeryan', 'mindcrime', 'mindslight', 'minimaxir', 'mistercow', 'mixmastamyk', 'mixmax', 'mjn', 'mkr-hn', 'mkramlich', 'moe', 'mooism2', 'mootothemax', 'morgante', 'moron4hire', 'mortenjorck', 'mpyne', 'mrtron', 'msandford', 'mschuster91', 'mseebach', 'mtgx', 'mtrimpe', 'mturmon', 'muyuu', 'mynameishere', 'nailer', 'nandemo', 'naner', 'natch', 'natrius', 'nawitus', 'nazgulnarsil', 'neilc', 'neilk', 'netcan', 'nextparadigms', 'nhangen', 'nhebb', 'nicholassmith', 'nickb', 'nickpsecurity', 'niels_olson', 'niggler', 'nikcub', 'nilkn', 'nirvana', 'nitrogen', 'njharman', 'nkassis', 'nknighthb', 'nkurz', 'nl', 'nly', 'nodata', 'nollidge', 'noodle', 'noonespecial', 'nopassrecover', 'nostrademons', 'nostromo', 'notahacker', 'notatoad', 'nwh', 'ojbyrne', 'olalonde', 'olefoo', 'omouse', 'oneeyedpigeon', 'onion2k', 'opendais', 'orangecat', 'orangethirty', 'ori_b', 'palish', 'papsosouid', 'paraschopra', 'pasbesoin', 'patio11', 'patrickaljord', 'paulhauggis', 'pavel_lishin', 'pavlov', 'pavs', 'pbhjpbhj', 'pbiggar', 'pbreit', 'pchristensen', 'pclark', 'pcwalton', 'pdonis', 'pedalpete', 'pekk', 'pessimizer', 'petercooper', 'peteretep', 'petervandijck', 'peterwwillis', 'pg', 'ph0rque', 'phaus', 'philwelch', 'phlux', 'pilif', 'pjc50', 'pjmlp', 'pjscott', 'plinkplonk', 'pmjordan', 'pmorici', 'pnathan', 'po', 'pohl', 'potatolicious', 'praptak', 'prawn', 'prodigal_erik', 'programminggeek', 'pron', 'prostoalex', 'protomyth', 'pygy_', 'pyre', 'qq66', 'r00fus', 'raganwald', 'raldi', 'randallsquared', 'randomdata', 'raverbashing', 'rayiner', 'rbanffy', 'rdl', 'rdouble', 'rdtsc', 'recoiledsnake', 'redthrowaway', 'refurb', 'regularfry', 'reitzensteinm', 'res0nat0r', 'revelation', 'revorad', 'rhizome', 'ricardobeat', 'rick888', 'riffraff', 'rimantas', 'rmc', 'rms', 'robomartin', 'robryan', 'roc', 'roel_v', 'rogerbinns', 'rokhayakebe', 'rorrr', 'rosser', 'rplnt', 'rtpg', 'run4yourlives', 'runjake', 'russell', 'rwmj', 'ryanwaggoner', 'sabat', 'sachinag', 'sambeau', 'samstave', 'sanderjd', 'saraid216', 'sarciszewski', 'saurik', 'scarmig', 'sciurus', 'scott_karana', 'scott_s', 'scotty79', 'seanmcdirmid', 'seiji', 'seivan', 'seldo', 'sergiotapia', 'sethg', 'shmerl', 'sigzero', 'silentbicycle', 'sillysaurus3', 'simonw', 'sitkack', 'sjs', 'skrebbel', 'slantyyz', 'sliverstorm', 'smackfu', 'smacktoward', 'smoyer', 'smsm42', 'smtddr', 'sneak', 'snowwrestler', 'snprbob86', 'sophacles', 'sp332', 'speeder', 'spindritf', 'stanleydrew', 'statictype', 'staunch', 'stcredzero', 'stephengillie', 'stephenr', 'steveklabnik', 'stonemetal', 'stretchwithme', 'sukuriant', 'superuser2', 'swah', 'swombat', 'taeric', 'taligent', 'talmand', 'tdavis', 'technomancy', 'tedunangst', 'teej', 'tel', 'teyc', 'thaumasiotes', 'thaumaturgy', 'theorique', 'there', 'thibaut_barrere', 'threeseed', 'thrownaway2424', 'thwarted', 'tibbon', 'tikhonj', 'tim333', 'timr', 'tinco', 'tjr', 'tlrobinson', 'tluyben2', 'to3m', 'tocomment', 'tokenadult', 'tome', 'tomjen3', 'tomp', 'toomuchtodo', 'tormeh', 'toyg', 'tptacek', 'tracker1', 'trhway', 'tripzilch', 'troels', 'trotsky', 'true_religion', 'tsotha', 'tvon', 'twic', 'twoodfin', 'tzs', 'ubernostrum', 'ugh', 'unalone', 'unimpressive', 'unreal37', 'untog', 'uptown', 'userbinator', 'vacri', 'vaksel', 'venomsnake', 'vezzy-fnord', 'vidarh', 'vinceguidry', 'viraptor', 'vlad', 'vog', 'voltagex_', 'vorg', 'w1ntermute', 'wallflower', 'walshemj', 'walterbell', 'waps', 'warfangle', 'waterlesscloud', 'wazoox', 'wccrawford', 'weaksauce', 'webwright', 'wglb', 'whatusername', 'wheels', 'willvarfar', 'wisty', 'wladimir', 'wlievens', 'wmeredith', 'wmf', 'wpietri', 'wslh', 'wtallis', 'wvenable', 'ww520', 'wyager', 'wyclif', 'x0x0', 'xenophanes', 'xiaoma', 'yan', 'yardie', 'yason', 'yellowapple', 'yen223', 'yesimahuman', 'yeukhon', 'ygra', 'ynniv', 'yters', 'yuhong', 'yummyfajitas', 'zach', 'zackattack', 'zaidf', 'zalew', 'zanny', 'zaroth', 'zdw', 'zem', 'zo1', 'zobzu', 'zokier'])"
      ]
     },
     "execution_count": 36,
     "metadata": {},
     "output_type": "execute_result"
    }
   ],
   "source": [
    "all_users = average_dict.keys()\n",
    "all_users"
   ]
  },
  {
   "cell_type": "code",
   "execution_count": 37,
   "metadata": {
    "colab": {
     "base_uri": "https://localhost:8080/",
     "height": 201
    },
    "colab_type": "code",
    "executionInfo": {
     "elapsed": 1261,
     "status": "ok",
     "timestamp": 1593042399284,
     "user": {
      "displayName": "Evidence Nwangwa",
      "photoUrl": "",
      "userId": "04661181054044885962"
     },
     "user_tz": 420
    },
    "id": "F25gQE_GuMbV",
    "outputId": "f0ed2d50-d16a-43c0-f412-529215790e42"
   },
   "outputs": [
    {
     "data": {
      "text/plain": [
       "['001sky',\n",
       " '0x0',\n",
       " '10ren',\n",
       " '3pt14159',\n",
       " '6ren',\n",
       " 'Alex3917',\n",
       " 'Alupis',\n",
       " 'AndrewDucker',\n",
       " 'AnimalMuppet',\n",
       " 'Animats']"
      ]
     },
     "execution_count": 37,
     "metadata": {},
     "output_type": "execute_result"
    }
   ],
   "source": [
    "user_list = list(all_users)\n",
    "\n",
    "sample_users = user_list[:10]\n",
    "sample_users"
   ]
  },
  {
   "cell_type": "code",
   "execution_count": 38,
   "metadata": {
    "colab": {
     "base_uri": "https://localhost:8080/",
     "height": 201
    },
    "colab_type": "code",
    "executionInfo": {
     "elapsed": 1320,
     "status": "ok",
     "timestamp": 1593042659594,
     "user": {
      "displayName": "Evidence Nwangwa",
      "photoUrl": "",
      "userId": "04661181054044885962"
     },
     "user_tz": 420
    },
    "id": "tKojbkjPtLxq",
    "outputId": "c11df06e-e98c-405e-8a28-b56db5b07cee"
   },
   "outputs": [
    {
     "name": "stdout",
     "output_type": "stream",
     "text": [
      "1.5890934844192632\n",
      "1.3377456647398849\n",
      "4.157702702702702\n",
      "2.5526623376623383\n",
      "3.4440131578947377\n",
      "1.7337075718015653\n",
      "2.1680952380952383\n",
      "2.395503355704698\n",
      "1.4267721518987346\n",
      "0.8793248945147676\n"
     ]
    }
   ],
   "source": [
    "for user in sample_users:\n",
    "  sample_rank = average_dict[user]\n",
    "  print(sample_rank)"
   ]
  },
  {
   "cell_type": "code",
   "execution_count": 39,
   "metadata": {
    "colab": {},
    "colab_type": "code",
    "executionInfo": {
     "elapsed": 1338,
     "status": "ok",
     "timestamp": 1593043157131,
     "user": {
      "displayName": "Evidence Nwangwa",
      "photoUrl": "",
      "userId": "04661181054044885962"
     },
     "user_tz": 420
    },
    "id": "-23Bl1SuvS4c"
   },
   "outputs": [],
   "source": [
    "users = salty_hackers['Name']\n",
    "user_ranking = []\n",
    "for user in users:\n",
    "  user_rank = average_dict[user]\n",
    "  round_user_rank = round(user_rank, 2)\n",
    "  user_ranking.append(round_user_rank)"
   ]
  },
  {
   "cell_type": "code",
   "execution_count": 40,
   "metadata": {
    "colab": {
     "base_uri": "https://localhost:8080/",
     "height": 35
    },
    "colab_type": "code",
    "executionInfo": {
     "elapsed": 1465,
     "status": "ok",
     "timestamp": 1593043159583,
     "user": {
      "displayName": "Evidence Nwangwa",
      "photoUrl": "",
      "userId": "04661181054044885962"
     },
     "user_tz": 420
    },
    "id": "U2BFIv-kvr3M",
    "outputId": "42a0aca7-ceb7-464c-9ccc-9179e80c0504"
   },
   "outputs": [
    {
     "data": {
      "text/plain": [
       "[-0.25, 0.68, -0.51, 0.93, 0.83, 3.94, 2.77, 1.89, 4.23, 0.58]"
      ]
     },
     "execution_count": 40,
     "metadata": {},
     "output_type": "execute_result"
    }
   ],
   "source": [
    "user_ranking[:10]"
   ]
  },
  {
   "cell_type": "code",
   "execution_count": 41,
   "metadata": {
    "colab": {},
    "colab_type": "code",
    "executionInfo": {
     "elapsed": 1465,
     "status": "ok",
     "timestamp": 1593043163689,
     "user": {
      "displayName": "Evidence Nwangwa",
      "photoUrl": "",
      "userId": "04661181054044885962"
     },
     "user_tz": 420
    },
    "id": "9jaYdf0dv7fo"
   },
   "outputs": [],
   "source": [
    "salty_hackers['user_ranking'] = user_ranking"
   ]
  },
  {
   "cell_type": "code",
   "execution_count": 42,
   "metadata": {
    "colab": {
     "base_uri": "https://localhost:8080/",
     "height": 206
    },
    "colab_type": "code",
    "executionInfo": {
     "elapsed": 1400,
     "status": "ok",
     "timestamp": 1593043168014,
     "user": {
      "displayName": "Evidence Nwangwa",
      "photoUrl": "",
      "userId": "04661181054044885962"
     },
     "user_tz": 420
    },
    "id": "iN9i43t5s5ls",
    "outputId": "8c31cd9c-64a1-4f80-a7ac-8d92cf840e62"
   },
   "outputs": [
    {
     "data": {
      "text/html": [
       "<div>\n",
       "<style scoped>\n",
       "    .dataframe tbody tr th:only-of-type {\n",
       "        vertical-align: middle;\n",
       "    }\n",
       "\n",
       "    .dataframe tbody tr th {\n",
       "        vertical-align: top;\n",
       "    }\n",
       "\n",
       "    .dataframe thead th {\n",
       "        text-align: right;\n",
       "    }\n",
       "</style>\n",
       "<table border=\"1\" class=\"dataframe\">\n",
       "  <thead>\n",
       "    <tr style=\"text-align: right;\">\n",
       "      <th></th>\n",
       "      <th>Name</th>\n",
       "      <th>Comment</th>\n",
       "      <th>comment_ranking</th>\n",
       "      <th>user_ranking</th>\n",
       "    </tr>\n",
       "  </thead>\n",
       "  <tbody>\n",
       "    <tr>\n",
       "      <th>0</th>\n",
       "      <td>DanBC</td>\n",
       "      <td>Drug use has clear links with violence althoug...</td>\n",
       "      <td>-10.00</td>\n",
       "      <td>-0.25</td>\n",
       "    </tr>\n",
       "    <tr>\n",
       "      <th>1</th>\n",
       "      <td>waps</td>\n",
       "      <td>You failed to explain why the Sana'a manuscrip...</td>\n",
       "      <td>-10.00</td>\n",
       "      <td>0.68</td>\n",
       "    </tr>\n",
       "    <tr>\n",
       "      <th>2</th>\n",
       "      <td>AnthonyMouse</td>\n",
       "      <td>How do you stop another oklahoma cityI think t...</td>\n",
       "      <td>-10.00</td>\n",
       "      <td>-0.51</td>\n",
       "    </tr>\n",
       "    <tr>\n",
       "      <th>3</th>\n",
       "      <td>michaelochurch</td>\n",
       "      <td>Can you think of any constructive ways forward...</td>\n",
       "      <td>-9.99</td>\n",
       "      <td>0.93</td>\n",
       "    </tr>\n",
       "    <tr>\n",
       "      <th>4</th>\n",
       "      <td>paulhauggis</td>\n",
       "      <td>These sorts of articles do nothing to help the...</td>\n",
       "      <td>-9.99</td>\n",
       "      <td>0.83</td>\n",
       "    </tr>\n",
       "  </tbody>\n",
       "</table>\n",
       "</div>"
      ],
      "text/plain": [
       "             Name                                            Comment  \\\n",
       "0           DanBC  Drug use has clear links with violence althoug...   \n",
       "1            waps  You failed to explain why the Sana'a manuscrip...   \n",
       "2    AnthonyMouse  How do you stop another oklahoma cityI think t...   \n",
       "3  michaelochurch  Can you think of any constructive ways forward...   \n",
       "4     paulhauggis  These sorts of articles do nothing to help the...   \n",
       "\n",
       "   comment_ranking  user_ranking  \n",
       "0           -10.00         -0.25  \n",
       "1           -10.00          0.68  \n",
       "2           -10.00         -0.51  \n",
       "3            -9.99          0.93  \n",
       "4            -9.99          0.83  "
      ]
     },
     "execution_count": 42,
     "metadata": {},
     "output_type": "execute_result"
    }
   ],
   "source": [
    "salty_hackers.head()"
   ]
  },
  {
   "cell_type": "code",
   "execution_count": 43,
   "metadata": {
    "colab": {
     "base_uri": "https://localhost:8080/",
     "height": 183
    },
    "colab_type": "code",
    "executionInfo": {
     "elapsed": 1391,
     "status": "ok",
     "timestamp": 1593043175065,
     "user": {
      "displayName": "Evidence Nwangwa",
      "photoUrl": "",
      "userId": "04661181054044885962"
     },
     "user_tz": 420
    },
    "id": "ivsn0liys7Fo",
    "outputId": "75ac1a08-d050-4fd2-8561-bd43ec060a52"
   },
   "outputs": [
    {
     "data": {
      "text/plain": [
       "count    230703.000000\n",
       "mean          1.862013\n",
       "std           0.943609\n",
       "min          -0.800000\n",
       "25%           1.190000\n",
       "50%           1.810000\n",
       "75%           2.440000\n",
       "max           5.890000\n",
       "Name: user_ranking, dtype: float64"
      ]
     },
     "execution_count": 43,
     "metadata": {},
     "output_type": "execute_result"
    }
   ],
   "source": [
    "salty_hackers['user_ranking'].describe()"
   ]
  },
  {
   "cell_type": "markdown",
   "metadata": {
    "colab": {},
    "colab_type": "code",
    "id": "7yk1INAjw9ar"
   },
   "source": [
    "## Exporting Final Data Set"
   ]
  },
  {
   "cell_type": "code",
   "execution_count": 44,
   "metadata": {},
   "outputs": [],
   "source": [
    "compression_opts = dict(method='zip',archive_name='salty_hackers.csv')  \n",
    "\n",
    "salty_hackers.to_csv('salty_hackers.zip', index=False, compression=compression_opts)  "
   ]
  }
 ],
 "metadata": {
  "accelerator": "GPU",
  "colab": {
   "authorship_tag": "ABX9TyNBnlKYeRxQo4fSjZUnWHD+",
   "collapsed_sections": [],
   "name": "SuperHackers.ipynb",
   "provenance": []
  },
  "kernelspec": {
   "display_name": "Unit4-NLP (Python3)",
   "language": "python",
   "name": "unit4-nlp"
  },
  "language_info": {
   "codemirror_mode": {
    "name": "ipython",
    "version": 3
   },
   "file_extension": ".py",
   "mimetype": "text/x-python",
   "name": "python",
   "nbconvert_exporter": "python",
   "pygments_lexer": "ipython3",
   "version": "3.7.0"
  }
 },
 "nbformat": 4,
 "nbformat_minor": 4
}
